{
 "cells": [
  {
   "cell_type": "markdown",
   "id": "259ca2e9",
   "metadata": {},
   "source": [
    "# Twitter Scrapping Tool"
   ]
  },
  {
   "cell_type": "markdown",
   "id": "0c39bee8",
   "metadata": {},
   "source": [
    "## Resources\n",
    "\n",
    "- [Analyzing Tweets with NLP in minutes with Spark, Optimus and Twint](https://towardsdatascience.com/analyzing-tweets-with-nlp-in-minutes-with-spark-optimus-and-twint-a0c96084995f)"
   ]
  },
  {
   "cell_type": "markdown",
   "id": "0da56f03",
   "metadata": {},
   "source": [
    "## Install Twint and Requirements"
   ]
  },
  {
   "cell_type": "code",
   "execution_count": 1,
   "id": "88b25149",
   "metadata": {},
   "outputs": [],
   "source": [
    "%%capture\n",
    "\n",
    "# Install \"twint\" and requirements\n",
    "!pip install -e ./twint -r ./twint/requirements.txt\n",
    "!pip install tdqm\n",
    "!jupyter nbextension enable --py widgetsnbextension"
   ]
  },
  {
   "cell_type": "markdown",
   "id": "bad8d47a",
   "metadata": {},
   "source": [
    "## Import and Setup Libraries"
   ]
  },
  {
   "cell_type": "code",
   "execution_count": 2,
   "id": "312b67e1",
   "metadata": {},
   "outputs": [],
   "source": [
    "# Solve compatibility issues with notebooks and RunTime errors.\n",
    "import nest_asyncio\n",
    "nest_asyncio.apply()"
   ]
  },
  {
   "cell_type": "code",
   "execution_count": 3,
   "id": "eebb49b1",
   "metadata": {},
   "outputs": [],
   "source": [
    "import twint\n",
    "import pandas as pd\n",
    "from datetime import datetime, timedelta\n",
    "from tqdm.notebook import tqdm"
   ]
  },
  {
   "cell_type": "markdown",
   "id": "2c803390",
   "metadata": {},
   "source": [
    "## Scrape Twitter according to Config"
   ]
  },
  {
   "cell_type": "code",
   "execution_count": 4,
   "id": "4f79ee16",
   "metadata": {},
   "outputs": [],
   "source": [
    "def scrape_twit(config, until, since=None):\n",
    "    if not since:\n",
    "        since = until\n",
    "        \n",
    "    df = pd.DataFrame()\n",
    "    \n",
    "    start = datetime.strptime(since, '%Y-%m-%d')\n",
    "    end = datetime.strptime(until, '%Y-%m-%d')\n",
    "    delta = end - start\n",
    "    \n",
    "    for i in tqdm(range(delta.days + 1)):\n",
    "        itr = start + timedelta(days=i+1)\n",
    "        config.Until = itr.strftime('%Y-%m-%d')\n",
    "        \n",
    "        twint.run.Search(config)\n",
    "        \n",
    "        df = df.append(twint.storage.panda.Tweets_df, ignore_index=True)\n",
    "        df = df.drop_duplicates(subset='id')\n",
    "    \n",
    "    return df"
   ]
  },
  {
   "cell_type": "code",
   "execution_count": 5,
   "id": "68ee900a",
   "metadata": {},
   "outputs": [],
   "source": [
    "## Initialize search configuration\n",
    "config = twint.Config()\n",
    "\n",
    "## Search keys\n",
    "# config.Username = \"elonmusk\"\n",
    "config.Search = [\"bitcoin\", \"btc\"]\n",
    "\n",
    "## Search Settings\n",
    "config.Lang = \"en\"\n",
    "config.Limit = 500\n",
    "config.Verified = True\n",
    "\n",
    "## Search interval\n",
    "# config.Since = '2015-01-01'\n",
    "# config.Until = '2017-01-01'\n",
    "# config.Timedelta = 10\n",
    "\n",
    "## Output settings\n",
    "config.Hide_output = True\n",
    "# config.Store_csv = True\n",
    "# config.Output = \"Output/test.csv\"\n",
    "config.Pandas = True\n",
    "\n",
    "## Run search\n",
    "# twint.run.Search(config)"
   ]
  },
  {
   "cell_type": "code",
   "execution_count": null,
   "id": "91dd72e1",
   "metadata": {},
   "outputs": [
    {
     "data": {
      "application/vnd.jupyter.widget-view+json": {
       "model_id": "993aa55701854fe589d49ecafe770154",
       "version_major": 2,
       "version_minor": 0
      },
      "text/plain": [
       "  0%|          | 0/458 [00:00<?, ?it/s]"
      ]
     },
     "metadata": {},
     "output_type": "display_data"
    },
    {
     "name": "stdout",
     "output_type": "stream",
     "text": [
      "2020-10-30 00:00:00\n"
     ]
    }
   ],
   "source": [
    "df = scrape_twit(config, since='2020-10-29', until='2022-01-29')"
   ]
  },
  {
   "cell_type": "code",
   "execution_count": null,
   "id": "e23d2400",
   "metadata": {},
   "outputs": [],
   "source": []
  }
 ],
 "metadata": {
  "kernelspec": {
   "display_name": "Python 3 (ipykernel)",
   "language": "python",
   "name": "python3"
  },
  "language_info": {
   "codemirror_mode": {
    "name": "ipython",
    "version": 3
   },
   "file_extension": ".py",
   "mimetype": "text/x-python",
   "name": "python",
   "nbconvert_exporter": "python",
   "pygments_lexer": "ipython3",
   "version": "3.8.12"
  }
 },
 "nbformat": 4,
 "nbformat_minor": 5
}
