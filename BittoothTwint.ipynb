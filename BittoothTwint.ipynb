{
 "cells": [
  {
   "cell_type": "markdown",
   "id": "ffd26d46",
   "metadata": {},
   "source": [
    "# Twitter Scrapping Tool"
   ]
  },
  {
   "cell_type": "markdown",
   "id": "35551c45",
   "metadata": {},
   "source": [
    "## Resources\n",
    "\n",
    "- [Analyzing Tweets with NLP in minutes with Spark, Optimus and Twint](https://towardsdatascience.com/analyzing-tweets-with-nlp-in-minutes-with-spark-optimus-and-twint-a0c96084995f)"
   ]
  },
  {
   "cell_type": "markdown",
   "id": "0da56f03",
   "metadata": {},
   "source": [
    "## Install Twint and Requirements"
   ]
  },
  {
   "cell_type": "code",
   "execution_count": 1,
   "id": "88b25149",
   "metadata": {},
   "outputs": [
    {
     "name": "stdout",
     "output_type": "stream",
     "text": [
      "Processing ./twint\n",
      "  Preparing metadata (setup.py) ... \u001b[?25ldone\n",
      "\u001b[?25hRequirement already satisfied: aiohttp==3.7.0 in /Users/kevctae/.pyenv/versions/3.8.12/envs/bittooth-twint/lib/python3.8/site-packages (from -r ./twint/requirements.txt (line 1)) (3.7.0)\n",
      "Requirement already satisfied: aiodns in /Users/kevctae/.pyenv/versions/3.8.12/envs/bittooth-twint/lib/python3.8/site-packages (from -r ./twint/requirements.txt (line 2)) (3.0.0)\n",
      "Requirement already satisfied: beautifulsoup4 in /Users/kevctae/.pyenv/versions/3.8.12/envs/bittooth-twint/lib/python3.8/site-packages (from -r ./twint/requirements.txt (line 3)) (4.10.0)\n",
      "Requirement already satisfied: cchardet in /Users/kevctae/.pyenv/versions/3.8.12/envs/bittooth-twint/lib/python3.8/site-packages (from -r ./twint/requirements.txt (line 4)) (2.1.7)\n",
      "Requirement already satisfied: dataclasses in /Users/kevctae/.pyenv/versions/3.8.12/envs/bittooth-twint/lib/python3.8/site-packages (from -r ./twint/requirements.txt (line 5)) (0.6)\n",
      "Requirement already satisfied: elasticsearch in /Users/kevctae/.pyenv/versions/3.8.12/envs/bittooth-twint/lib/python3.8/site-packages (from -r ./twint/requirements.txt (line 6)) (7.16.3)\n",
      "Requirement already satisfied: pysocks in /Users/kevctae/.pyenv/versions/3.8.12/envs/bittooth-twint/lib/python3.8/site-packages (from -r ./twint/requirements.txt (line 7)) (1.7.1)\n",
      "Requirement already satisfied: pandas>=0.23.0 in /Users/kevctae/.pyenv/versions/3.8.12/envs/bittooth-twint/lib/python3.8/site-packages (from -r ./twint/requirements.txt (line 8)) (1.3.5)\n",
      "Requirement already satisfied: aiohttp_socks<=0.4.1 in /Users/kevctae/.pyenv/versions/3.8.12/envs/bittooth-twint/lib/python3.8/site-packages (from -r ./twint/requirements.txt (line 9)) (0.4.1)\n",
      "Requirement already satisfied: schedule in /Users/kevctae/.pyenv/versions/3.8.12/envs/bittooth-twint/lib/python3.8/site-packages (from -r ./twint/requirements.txt (line 10)) (1.1.0)\n",
      "Requirement already satisfied: geopy in /Users/kevctae/.pyenv/versions/3.8.12/envs/bittooth-twint/lib/python3.8/site-packages (from -r ./twint/requirements.txt (line 11)) (2.2.0)\n",
      "Requirement already satisfied: fake-useragent in /Users/kevctae/.pyenv/versions/3.8.12/envs/bittooth-twint/lib/python3.8/site-packages (from -r ./twint/requirements.txt (line 12)) (0.1.11)\n",
      "Requirement already satisfied: googletransx in /Users/kevctae/.pyenv/versions/3.8.12/envs/bittooth-twint/lib/python3.8/site-packages (from -r ./twint/requirements.txt (line 13)) (2.4.2)\n",
      "Requirement already satisfied: yarl<2.0,>=1.0 in /Users/kevctae/.pyenv/versions/3.8.12/envs/bittooth-twint/lib/python3.8/site-packages (from aiohttp==3.7.0->-r ./twint/requirements.txt (line 1)) (1.7.2)\n",
      "Requirement already satisfied: attrs>=17.3.0 in /Users/kevctae/.pyenv/versions/3.8.12/envs/bittooth-twint/lib/python3.8/site-packages (from aiohttp==3.7.0->-r ./twint/requirements.txt (line 1)) (21.4.0)\n",
      "Requirement already satisfied: chardet<4.0,>=2.0 in /Users/kevctae/.pyenv/versions/3.8.12/envs/bittooth-twint/lib/python3.8/site-packages (from aiohttp==3.7.0->-r ./twint/requirements.txt (line 1)) (3.0.4)\n",
      "Requirement already satisfied: async-timeout<4.0,>=3.0 in /Users/kevctae/.pyenv/versions/3.8.12/envs/bittooth-twint/lib/python3.8/site-packages (from aiohttp==3.7.0->-r ./twint/requirements.txt (line 1)) (3.0.1)\n",
      "Requirement already satisfied: multidict<7.0,>=4.5 in /Users/kevctae/.pyenv/versions/3.8.12/envs/bittooth-twint/lib/python3.8/site-packages (from aiohttp==3.7.0->-r ./twint/requirements.txt (line 1)) (5.2.0)\n",
      "Requirement already satisfied: pycares>=4.0.0 in /Users/kevctae/.pyenv/versions/3.8.12/envs/bittooth-twint/lib/python3.8/site-packages (from aiodns->-r ./twint/requirements.txt (line 2)) (4.1.2)\n",
      "Requirement already satisfied: soupsieve>1.2 in /Users/kevctae/.pyenv/versions/3.8.12/envs/bittooth-twint/lib/python3.8/site-packages (from beautifulsoup4->-r ./twint/requirements.txt (line 3)) (2.3.1)\n",
      "Requirement already satisfied: urllib3<2,>=1.21.1 in /Users/kevctae/.pyenv/versions/3.8.12/envs/bittooth-twint/lib/python3.8/site-packages (from elasticsearch->-r ./twint/requirements.txt (line 6)) (1.26.8)\n",
      "Requirement already satisfied: certifi in /Users/kevctae/.pyenv/versions/3.8.12/envs/bittooth-twint/lib/python3.8/site-packages (from elasticsearch->-r ./twint/requirements.txt (line 6)) (2021.10.8)\n",
      "Requirement already satisfied: pytz>=2017.3 in /Users/kevctae/.pyenv/versions/3.8.12/envs/bittooth-twint/lib/python3.8/site-packages (from pandas>=0.23.0->-r ./twint/requirements.txt (line 8)) (2021.3)\n",
      "Requirement already satisfied: numpy>=1.20.0 in /Users/kevctae/.pyenv/versions/3.8.12/envs/bittooth-twint/lib/python3.8/site-packages (from pandas>=0.23.0->-r ./twint/requirements.txt (line 8)) (1.22.1)\n",
      "Requirement already satisfied: python-dateutil>=2.7.3 in /Users/kevctae/.pyenv/versions/3.8.12/envs/bittooth-twint/lib/python3.8/site-packages (from pandas>=0.23.0->-r ./twint/requirements.txt (line 8)) (2.8.2)\n",
      "Requirement already satisfied: geographiclib<2,>=1.49 in /Users/kevctae/.pyenv/versions/3.8.12/envs/bittooth-twint/lib/python3.8/site-packages (from geopy->-r ./twint/requirements.txt (line 11)) (1.52)\n",
      "Requirement already satisfied: requests in /Users/kevctae/.pyenv/versions/3.8.12/envs/bittooth-twint/lib/python3.8/site-packages (from googletransx->-r ./twint/requirements.txt (line 13)) (2.27.1)\n",
      "Requirement already satisfied: cffi>=1.5.0 in /Users/kevctae/.pyenv/versions/3.8.12/envs/bittooth-twint/lib/python3.8/site-packages (from pycares>=4.0.0->aiodns->-r ./twint/requirements.txt (line 2)) (1.15.0)\n",
      "Requirement already satisfied: six>=1.5 in /Users/kevctae/.pyenv/versions/3.8.12/envs/bittooth-twint/lib/python3.8/site-packages (from python-dateutil>=2.7.3->pandas>=0.23.0->-r ./twint/requirements.txt (line 8)) (1.16.0)\n",
      "Requirement already satisfied: idna>=2.0 in /Users/kevctae/.pyenv/versions/3.8.12/envs/bittooth-twint/lib/python3.8/site-packages (from yarl<2.0,>=1.0->aiohttp==3.7.0->-r ./twint/requirements.txt (line 1)) (3.3)\n",
      "Requirement already satisfied: charset-normalizer~=2.0.0 in /Users/kevctae/.pyenv/versions/3.8.12/envs/bittooth-twint/lib/python3.8/site-packages (from requests->googletransx->-r ./twint/requirements.txt (line 13)) (2.0.10)\n",
      "Requirement already satisfied: pycparser in /Users/kevctae/.pyenv/versions/3.8.12/envs/bittooth-twint/lib/python3.8/site-packages (from cffi>=1.5.0->pycares>=4.0.0->aiodns->-r ./twint/requirements.txt (line 2)) (2.21)\n",
      "Using legacy 'setup.py install' for twint, since package 'wheel' is not installed.\n",
      "Installing collected packages: twint\n",
      "    Running setup.py install for twint ... \u001b[?25ldone\n",
      "\u001b[?25hSuccessfully installed twint-2.1.21\n"
     ]
    }
   ],
   "source": [
    "!pip install ./twint -r ./twint/requirements.txt"
   ]
  },
  {
   "cell_type": "markdown",
   "id": "e586bb74",
   "metadata": {},
   "source": [
    "## Import and Setup Libraries"
   ]
  },
  {
   "cell_type": "code",
   "execution_count": 3,
   "id": "312b67e1",
   "metadata": {},
   "outputs": [],
   "source": [
    "# Solve compatibility issues with notebooks and RunTime errors.\n",
    "import nest_asyncio\n",
    "nest_asyncio.apply()"
   ]
  },
  {
   "cell_type": "code",
   "execution_count": 4,
   "id": "eebb49b1",
   "metadata": {},
   "outputs": [],
   "source": [
    "# Set up TWINT config\n",
    "import twint"
   ]
  },
  {
   "cell_type": "markdown",
   "id": "0798fa5f",
   "metadata": {},
   "source": [
    "## Scrape Twitter according to Config"
   ]
  },
  {
   "cell_type": "markdown",
   "id": "b025a1d8",
   "metadata": {},
   "source": []
  },
  {
   "cell_type": "code",
   "execution_count": 7,
   "id": "68ee900a",
   "metadata": {},
   "outputs": [],
   "source": [
    "# Initialize search configuration\n",
    "config = twint.Config()\n",
    "\n",
    "# Search keys\n",
    "config.Search = \"bitcoin\"\n",
    "config.Lang = \"en\"\n",
    "\n",
    "\n",
    "\n",
    "\n",
    "# Search interval\n",
    "config.Since = '2020-01-01'\n",
    "config.Until = '2020-02-01'\n",
    "\n",
    "#Output settings\n",
    "config.Limit = 1000\n",
    "config.Hide_output = True\n",
    "config.Store_csv = True\n",
    "config.Output = \"Output/test.csv\"\n",
    "\n",
    "# running search\n",
    "twint.run.Search(config)"
   ]
  },
  {
   "cell_type": "code",
   "execution_count": null,
   "id": "3e62bacc",
   "metadata": {},
   "outputs": [],
   "source": []
  }
 ],
 "metadata": {
  "kernelspec": {
   "display_name": "Python 3 (ipykernel)",
   "language": "python",
   "name": "python3"
  },
  "language_info": {
   "codemirror_mode": {
    "name": "ipython",
    "version": 3
   },
   "file_extension": ".py",
   "mimetype": "text/x-python",
   "name": "python",
   "nbconvert_exporter": "python",
   "pygments_lexer": "ipython3",
   "version": "3.8.12"
  }
 },
 "nbformat": 4,
 "nbformat_minor": 5
}
