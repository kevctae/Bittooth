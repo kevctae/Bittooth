{
 "cells": [
  {
   "cell_type": "markdown",
   "id": "259ca2e9",
   "metadata": {},
   "source": [
    "# Twitter Scrapping Tool"
   ]
  },
  {
   "cell_type": "markdown",
   "id": "0c39bee8",
   "metadata": {},
   "source": [
    "## Resources\n",
    "\n",
    "- [Analyzing Tweets with NLP in minutes with Spark, Optimus and Twint](https://towardsdatascience.com/analyzing-tweets-with-nlp-in-minutes-with-spark-optimus-and-twint-a0c96084995f)"
   ]
  },
  {
   "cell_type": "markdown",
   "id": "0da56f03",
   "metadata": {},
   "source": [
    "## Install Twint and Requirements"
   ]
  },
  {
   "cell_type": "code",
   "execution_count": 1,
   "id": "88b25149",
   "metadata": {},
   "outputs": [],
   "source": [
    "%%capture\n",
    "\n",
    "# Install \"twint\" and requirements\n",
    "!pip install -e ./twint -r ./twint/requirements.txt"
   ]
  },
  {
   "cell_type": "markdown",
   "id": "bad8d47a",
   "metadata": {},
   "source": [
    "## Import and Setup Libraries"
   ]
  },
  {
   "cell_type": "code",
   "execution_count": 2,
   "id": "312b67e1",
   "metadata": {},
   "outputs": [],
   "source": [
    "# Solve compatibility issues with notebooks and RunTime errors.\n",
    "import nest_asyncio\n",
    "nest_asyncio.apply()"
   ]
  },
  {
   "cell_type": "code",
   "execution_count": 3,
   "id": "eebb49b1",
   "metadata": {},
   "outputs": [],
   "source": [
    "import twint\n",
    "import pandas as pd"
   ]
  },
  {
   "cell_type": "markdown",
   "id": "2c803390",
   "metadata": {},
   "source": [
    "## Scrape Twitter according to Config"
   ]
  },
  {
   "cell_type": "code",
   "execution_count": 15,
   "id": "68ee900a",
   "metadata": {},
   "outputs": [],
   "source": [
    "# Initialize search configuration\n",
    "config = twint.Config()\n",
    "\n",
    "# Search keys\n",
    "config.Search = \"bitcoin\"\n",
    "config.Lang = \"en\"\n",
    "\n",
    "# Search interval\n",
    "config.Since = '2020-01-01'\n",
    "config.Until = '2020-02-01'\n",
    "\n",
    "#Output settings\n",
    "config.Limit = 10\n",
    "config.Hide_output = True\n",
    "config.Store_csv = True\n",
    "config.Output = \"Output/test.csv\"\n",
    "\n",
    "# running search\n",
    "twint.run.Search(config)"
   ]
  },
  {
   "cell_type": "code",
   "execution_count": 16,
   "id": "4d760bd3",
   "metadata": {},
   "outputs": [
    {
     "data": {
      "text/plain": [
       "array(['en'], dtype=object)"
      ]
     },
     "execution_count": 16,
     "metadata": {},
     "output_type": "execute_result"
    }
   ],
   "source": [
    "df = pd.read_csv(\"Output/test.csv\")\n",
    "\n",
    "df['language'].unique()"
   ]
  }
 ],
 "metadata": {
  "kernelspec": {
   "display_name": "Python 3 (ipykernel)",
   "language": "python",
   "name": "python3"
  },
  "language_info": {
   "codemirror_mode": {
    "name": "ipython",
    "version": 3
   },
   "file_extension": ".py",
   "mimetype": "text/x-python",
   "name": "python",
   "nbconvert_exporter": "python",
   "pygments_lexer": "ipython3",
   "version": "3.8.12"
  }
 },
 "nbformat": 4,
 "nbformat_minor": 5
}
