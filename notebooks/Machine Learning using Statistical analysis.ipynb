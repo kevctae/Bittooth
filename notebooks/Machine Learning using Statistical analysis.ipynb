{
 "cells": [
  {
   "cell_type": "code",
   "execution_count": 1,
   "metadata": {},
   "outputs": [],
   "source": [
    "import pandas as pd\n",
    "import matplotlib.pyplot as plt\n",
    "from sklearn.model_selection import train_test_split\n",
    "from sklearn.linear_model import LinearRegression\n",
    "from tvDatafeed import TvDatafeed, Interval"
   ]
  },
  {
   "cell_type": "code",
   "execution_count": 2,
   "metadata": {},
   "outputs": [],
   "source": [
    "import requests\n",
    "import json\n",
    "import pandas as pd\n",
    "import datetime"
   ]
  },
  {
   "cell_type": "code",
   "execution_count": 3,
   "metadata": {},
   "outputs": [],
   "source": [
    "n=1"
   ]
  },
  {
   "cell_type": "code",
   "execution_count": 4,
   "metadata": {},
   "outputs": [
    {
     "name": "stderr",
     "output_type": "stream",
     "text": [
      "you are using nologin method, data you access may be limited\n"
     ]
    }
   ],
   "source": [
    "tv = TvDatafeed()\n",
    "def getdata(name):\n",
    "    data=tv.get_hist(symbol=name,exchange='BINANCE',interval=Interval.in_daily,n_bars=5000)\n",
    "    data=data.reset_index()\n",
    "#     data[\"datetime\"]=data[\"datetime\"]+datetime.timedelta(days=1)\n",
    "    data[\"datetime\"]=data[\"datetime\"].dt.strftime('%Y-%m-%d')\n",
    "    data2=data[data[\"datetime\"]>=\"2020-01-01\"].copy()\n",
    "    data2[\"datetime\"] = pd.to_datetime(data2[\"datetime\"])\n",
    "    return data2"
   ]
  },
  {
   "cell_type": "code",
   "execution_count": 5,
   "metadata": {},
   "outputs": [],
   "source": [
    "def getapi(api):\n",
    "    response_API=requests.get(api)\n",
    "    data=response_API.text\n",
    "    parse_json=json.loads(data)\n",
    "    df = pd.json_normalize(parse_json['values'])\n",
    "    listtime=list(df['x'])\n",
    "    listtime2=[]\n",
    "    for i in listtime:\n",
    "        listtime2.append(datetime.datetime.fromtimestamp(i).strftime('%Y-%m-%d'))\n",
    "    df['datetime']=pd.Series(listtime2)\n",
    "    df[\"datetime\"] = pd.to_datetime(df[\"datetime\"])\n",
    "#     df[\"datetime\"]=df[\"datetime\"]+datetime.timedelta(days=1)\n",
    "    df=df[df[\"datetime\"]>=\"2020-01-01\"].copy()\n",
    "    df=df.drop(columns=['x'])\n",
    "    df.rename(columns={'y':'value'},inplace=True)\n",
    "    df=df.drop_duplicates(subset=['datetime'])\n",
    "    return df"
   ]
  },
  {
   "cell_type": "code",
   "execution_count": 6,
   "metadata": {},
   "outputs": [
    {
     "data": {
      "text/html": [
       "<div>\n",
       "<style scoped>\n",
       "    .dataframe tbody tr th:only-of-type {\n",
       "        vertical-align: middle;\n",
       "    }\n",
       "\n",
       "    .dataframe tbody tr th {\n",
       "        vertical-align: top;\n",
       "    }\n",
       "\n",
       "    .dataframe thead th {\n",
       "        text-align: right;\n",
       "    }\n",
       "</style>\n",
       "<table border=\"1\" class=\"dataframe\">\n",
       "  <thead>\n",
       "    <tr style=\"text-align: right;\">\n",
       "      <th></th>\n",
       "      <th>datetime</th>\n",
       "      <th>volume</th>\n",
       "      <th>open</th>\n",
       "      <th>high</th>\n",
       "      <th>low</th>\n",
       "      <th>close</th>\n",
       "    </tr>\n",
       "  </thead>\n",
       "  <tbody>\n",
       "    <tr>\n",
       "      <th>1636</th>\n",
       "      <td>2022-02-07</td>\n",
       "      <td>64872.75710</td>\n",
       "      <td>43839.99</td>\n",
       "      <td>45492.00</td>\n",
       "      <td>42666.00</td>\n",
       "      <td>44042.99</td>\n",
       "    </tr>\n",
       "    <tr>\n",
       "      <th>1637</th>\n",
       "      <td>2022-02-08</td>\n",
       "      <td>34428.16729</td>\n",
       "      <td>44043.00</td>\n",
       "      <td>44799.00</td>\n",
       "      <td>43117.92</td>\n",
       "      <td>44372.72</td>\n",
       "    </tr>\n",
       "    <tr>\n",
       "      <th>1638</th>\n",
       "      <td>2022-02-09</td>\n",
       "      <td>62351.80208</td>\n",
       "      <td>44372.71</td>\n",
       "      <td>45821.00</td>\n",
       "      <td>43174.01</td>\n",
       "      <td>43495.44</td>\n",
       "    </tr>\n",
       "    <tr>\n",
       "      <th>1639</th>\n",
       "      <td>2022-02-10</td>\n",
       "      <td>44971.83585</td>\n",
       "      <td>43495.44</td>\n",
       "      <td>43920.00</td>\n",
       "      <td>41938.51</td>\n",
       "      <td>42373.73</td>\n",
       "    </tr>\n",
       "    <tr>\n",
       "      <th>1640</th>\n",
       "      <td>2022-02-11</td>\n",
       "      <td>843.80999</td>\n",
       "      <td>42373.73</td>\n",
       "      <td>42415.45</td>\n",
       "      <td>42221.38</td>\n",
       "      <td>42295.32</td>\n",
       "    </tr>\n",
       "  </tbody>\n",
       "</table>\n",
       "</div>"
      ],
      "text/plain": [
       "       datetime       volume      open      high       low     close\n",
       "1636 2022-02-07  64872.75710  43839.99  45492.00  42666.00  44042.99\n",
       "1637 2022-02-08  34428.16729  44043.00  44799.00  43117.92  44372.72\n",
       "1638 2022-02-09  62351.80208  44372.71  45821.00  43174.01  43495.44\n",
       "1639 2022-02-10  44971.83585  43495.44  43920.00  41938.51  42373.73\n",
       "1640 2022-02-11    843.80999  42373.73  42415.45  42221.38  42295.32"
      ]
     },
     "execution_count": 6,
     "metadata": {},
     "output_type": "execute_result"
    }
   ],
   "source": [
    "bitcoi=getdata('BTCUSDT')\n",
    "eth=getdata('ETHUSDT')\n",
    "bnb=getdata('BNBUSDT')\n",
    "ada=getdata('ADAUSDT')\n",
    "bitcoi=bitcoi[[\"datetime\",\"volume\",\"open\",\"high\",\"low\",\"close\"]]\n",
    "bitcoi.tail(5)"
   ]
  },
  {
   "cell_type": "code",
   "execution_count": 7,
   "metadata": {},
   "outputs": [],
   "source": [
    "number_transactions=getapi('https://api.blockchain.info/charts/n-transactions?timespan=4years&rollingAverage=24hours&format=json&sampled=false')\n",
    "number_address=getapi('https://api.blockchain.info/charts/n-unique-addresses?timespan=4years&rollingAverage=24hours&format=json&sampled=false')\n",
    "transaction_second=getapi('https://api.blockchain.info/charts/transactions-per-second?timespan=4years&rollingAverage=24hours&format=json&sampled=false')\n",
    "transaction_second=transaction_second.groupby(['datetime']).mean().reset_index()\n",
    "total_bitcoin=getapi('https://api.blockchain.info/charts/total-bitcoins?timespan=4years&rollingAverage=24hours&format=json&sampled=true')\n",
    "volume_trade=getapi('https://api.blockchain.info/charts/trade-volume?timespan=4years&rollingAverage=24hours&format=json&sampled=false')\n",
    "hash_rate=getapi('https://api.blockchain.info/charts/hash-rate?timespan=4years&rollingAverage=24hours&format=json&sampled=false')"
   ]
  },
  {
   "cell_type": "code",
   "execution_count": 8,
   "metadata": {},
   "outputs": [],
   "source": [
    "bitcoin=bitcoi.merge(eth[[\"datetime\",\"close\"]],on='datetime',how='left',suffixes=('_bitcoin', '_eth'))\n",
    "bitcoin=bitcoin.merge(bnb[[\"datetime\",\"close\"]],on='datetime',how='left')\n",
    "bitcoin=bitcoin.merge(ada[[\"datetime\",\"close\"]],on='datetime',how='left',suffixes=('_bnb', '_ada'))"
   ]
  },
  {
   "cell_type": "code",
   "execution_count": 9,
   "metadata": {},
   "outputs": [],
   "source": [
    "data_api=number_transactions.merge(number_address,on='datetime',how='left',suffixes=('_number_transaction', '_number_address'))\n",
    "data_api=data_api.merge(transaction_second,on='datetime',how='left')\n",
    "data_api=data_api.merge(total_bitcoin,on='datetime',how='left',suffixes=('_transaction_second', '_total_bitcoin'))"
   ]
  },
  {
   "cell_type": "code",
   "execution_count": 10,
   "metadata": {},
   "outputs": [
    {
     "data": {
      "text/html": [
       "<div>\n",
       "<style scoped>\n",
       "    .dataframe tbody tr th:only-of-type {\n",
       "        vertical-align: middle;\n",
       "    }\n",
       "\n",
       "    .dataframe tbody tr th {\n",
       "        vertical-align: top;\n",
       "    }\n",
       "\n",
       "    .dataframe thead th {\n",
       "        text-align: right;\n",
       "    }\n",
       "</style>\n",
       "<table border=\"1\" class=\"dataframe\">\n",
       "  <thead>\n",
       "    <tr style=\"text-align: right;\">\n",
       "      <th></th>\n",
       "      <th>datetime</th>\n",
       "      <th>volume</th>\n",
       "      <th>open</th>\n",
       "      <th>high</th>\n",
       "      <th>low</th>\n",
       "      <th>close_bitcoin</th>\n",
       "      <th>close_eth</th>\n",
       "      <th>close_bnb</th>\n",
       "      <th>close_ada</th>\n",
       "      <th>value_number_transaction</th>\n",
       "      <th>value_number_address</th>\n",
       "      <th>value_transaction_second</th>\n",
       "      <th>value_total_bitcoin</th>\n",
       "    </tr>\n",
       "  </thead>\n",
       "  <tbody>\n",
       "    <tr>\n",
       "      <th>768</th>\n",
       "      <td>2022-02-07</td>\n",
       "      <td>64872.75710</td>\n",
       "      <td>43839.99</td>\n",
       "      <td>45492.00</td>\n",
       "      <td>42666.00</td>\n",
       "      <td>44042.99</td>\n",
       "      <td>3116.69</td>\n",
       "      <td>407.8</td>\n",
       "      <td>1.176</td>\n",
       "      <td>276850.0</td>\n",
       "      <td>685310.0</td>\n",
       "      <td>2.537674</td>\n",
       "      <td>1.895052e+07</td>\n",
       "    </tr>\n",
       "    <tr>\n",
       "      <th>769</th>\n",
       "      <td>2022-02-08</td>\n",
       "      <td>34428.16729</td>\n",
       "      <td>44043.00</td>\n",
       "      <td>44799.00</td>\n",
       "      <td>43117.92</td>\n",
       "      <td>44372.72</td>\n",
       "      <td>3243.94</td>\n",
       "      <td>422.9</td>\n",
       "      <td>1.195</td>\n",
       "      <td>265804.0</td>\n",
       "      <td>663348.0</td>\n",
       "      <td>3.236806</td>\n",
       "      <td>1.895141e+07</td>\n",
       "    </tr>\n",
       "    <tr>\n",
       "      <th>770</th>\n",
       "      <td>2022-02-09</td>\n",
       "      <td>62351.80208</td>\n",
       "      <td>44372.71</td>\n",
       "      <td>45821.00</td>\n",
       "      <td>43174.01</td>\n",
       "      <td>43495.44</td>\n",
       "      <td>3072.49</td>\n",
       "      <td>414.7</td>\n",
       "      <td>1.150</td>\n",
       "      <td>260813.0</td>\n",
       "      <td>673697.0</td>\n",
       "      <td>3.135069</td>\n",
       "      <td>1.895230e+07</td>\n",
       "    </tr>\n",
       "    <tr>\n",
       "      <th>771</th>\n",
       "      <td>2022-02-10</td>\n",
       "      <td>44971.83585</td>\n",
       "      <td>43495.44</td>\n",
       "      <td>43920.00</td>\n",
       "      <td>41938.51</td>\n",
       "      <td>42373.73</td>\n",
       "      <td>2927.54</td>\n",
       "      <td>400.0</td>\n",
       "      <td>1.079</td>\n",
       "      <td>258595.0</td>\n",
       "      <td>664971.0</td>\n",
       "      <td>3.083160</td>\n",
       "      <td>1.895320e+07</td>\n",
       "    </tr>\n",
       "    <tr>\n",
       "      <th>772</th>\n",
       "      <td>2022-02-11</td>\n",
       "      <td>843.80999</td>\n",
       "      <td>42373.73</td>\n",
       "      <td>42415.45</td>\n",
       "      <td>42221.38</td>\n",
       "      <td>42295.32</td>\n",
       "      <td>2927.00</td>\n",
       "      <td>399.0</td>\n",
       "      <td>1.076</td>\n",
       "      <td>NaN</td>\n",
       "      <td>NaN</td>\n",
       "      <td>NaN</td>\n",
       "      <td>NaN</td>\n",
       "    </tr>\n",
       "  </tbody>\n",
       "</table>\n",
       "</div>"
      ],
      "text/plain": [
       "      datetime       volume      open      high       low  close_bitcoin  \\\n",
       "768 2022-02-07  64872.75710  43839.99  45492.00  42666.00       44042.99   \n",
       "769 2022-02-08  34428.16729  44043.00  44799.00  43117.92       44372.72   \n",
       "770 2022-02-09  62351.80208  44372.71  45821.00  43174.01       43495.44   \n",
       "771 2022-02-10  44971.83585  43495.44  43920.00  41938.51       42373.73   \n",
       "772 2022-02-11    843.80999  42373.73  42415.45  42221.38       42295.32   \n",
       "\n",
       "     close_eth  close_bnb  close_ada  value_number_transaction  \\\n",
       "768    3116.69      407.8      1.176                  276850.0   \n",
       "769    3243.94      422.9      1.195                  265804.0   \n",
       "770    3072.49      414.7      1.150                  260813.0   \n",
       "771    2927.54      400.0      1.079                  258595.0   \n",
       "772    2927.00      399.0      1.076                       NaN   \n",
       "\n",
       "     value_number_address  value_transaction_second  value_total_bitcoin  \n",
       "768              685310.0                  2.537674         1.895052e+07  \n",
       "769              663348.0                  3.236806         1.895141e+07  \n",
       "770              673697.0                  3.135069         1.895230e+07  \n",
       "771              664971.0                  3.083160         1.895320e+07  \n",
       "772                   NaN                       NaN                  NaN  "
      ]
     },
     "execution_count": 10,
     "metadata": {},
     "output_type": "execute_result"
    }
   ],
   "source": [
    "bitcoin=bitcoin.merge(data_api,on='datetime',how='left')\n",
    "bitcoin.tail(5)"
   ]
  },
  {
   "cell_type": "code",
   "execution_count": 11,
   "metadata": {},
   "outputs": [
    {
     "data": {
      "image/png": "[encoded data removed]",
      "text/plain": [
       "<Figure size 864x504 with 1 Axes>"
      ]
     },
     "metadata": {
      "needs_background": "light"
     },
     "output_type": "display_data"
    }
   ],
   "source": [
    "plt.figure(figsize = (12, 7))\n",
    "plt.plot(bitcoin[\"datetime\"], bitcoin[\"close_bitcoin\"], color='goldenrod', lw=2)\n",
    "plt.title(\"Bitcoin Price over time\", size=25)\n",
    "plt.xlabel(\"Time\", size=20)\n",
    "plt.ylabel(\"$ Price\", size=20)\n",
    "plt.show()"
   ]
  },
  {
   "cell_type": "code",
   "execution_count": 12,
   "metadata": {},
   "outputs": [
    {
     "data": {
      "image/png": "[encoded data removed]",
      "text/plain": [
       "<Figure size 864x504 with 1 Axes>"
      ]
     },
     "metadata": {
      "needs_background": "light"
     },
     "output_type": "display_data"
    }
   ],
   "source": [
    "plt.figure(figsize = (12, 7))\n",
    "plt.plot(bitcoin[\"datetime\"], bitcoin[\"volume\"], color='royalblue', lw=2)\n",
    "plt.title(\"Bitcoin Volume over time\", size=25)\n",
    "plt.xlabel(\"Time\", size=20)\n",
    "plt.ylabel(\"Volume\", size=20);"
   ]
  },
  {
   "cell_type": "code",
   "execution_count": 13,
   "metadata": {},
   "outputs": [
    {
     "data": {
      "text/plain": [
       "datetime                     0\n",
       "volume                       0\n",
       "open                         0\n",
       "high                         0\n",
       "low                          0\n",
       "close_bitcoin                0\n",
       "close_eth                    0\n",
       "close_bnb                    0\n",
       "close_ada                    0\n",
       "value_number_transaction     1\n",
       "value_number_address         3\n",
       "value_transaction_second     1\n",
       "value_total_bitcoin         39\n",
       "dtype: int64"
      ]
     },
     "execution_count": 13,
     "metadata": {},
     "output_type": "execute_result"
    }
   ],
   "source": [
    "bitcoin.isnull().sum()"
   ]
  },
  {
   "cell_type": "code",
   "execution_count": 14,
   "metadata": {},
   "outputs": [
    {
     "data": {
      "text/plain": [
       "volume                      0\n",
       "open                        0\n",
       "high                        0\n",
       "low                         0\n",
       "close_bitcoin               0\n",
       "close_eth                   0\n",
       "close_bnb                   0\n",
       "close_ada                   0\n",
       "value_number_transaction    0\n",
       "value_number_address        0\n",
       "value_transaction_second    0\n",
       "value_total_bitcoin         0\n",
       "datetime                    0\n",
       "dtype: int64"
      ]
     },
     "execution_count": 14,
     "metadata": {},
     "output_type": "execute_result"
    }
   ],
   "source": [
    "# bitcoin=bitcoin.interpolate(method='linear')\n",
    "temp=bitcoin[\"datetime\"]\n",
    "bitcoin=bitcoin.drop(columns=['datetime'])\n",
    "bitcoin=bitcoin.interpolate()\n",
    "bitcoin['datetime']=temp\n",
    "bitcoin.isnull().sum()"
   ]
  },
  {
   "cell_type": "code",
   "execution_count": 15,
   "metadata": {},
   "outputs": [],
   "source": [
    "required_features = ['volume','open', 'high', 'low','close_eth','close_bnb','close_ada','value_number_transaction','value_number_address','value_transaction_second','value_total_bitcoin']\n",
    "output_label = 'close_bitcoin'"
   ]
  },
  {
   "cell_type": "code",
   "execution_count": 16,
   "metadata": {},
   "outputs": [],
   "source": [
    "x_train, x_test, y_train, y_test = train_test_split(bitcoin[required_features],bitcoin[output_label],test_size = 0.2)"
   ]
  },
  {
   "cell_type": "code",
   "execution_count": 17,
   "metadata": {},
   "outputs": [
    {
     "data": {
      "text/html": [
       "<div>\n",
       "<style scoped>\n",
       "    .dataframe tbody tr th:only-of-type {\n",
       "        vertical-align: middle;\n",
       "    }\n",
       "\n",
       "    .dataframe tbody tr th {\n",
       "        vertical-align: top;\n",
       "    }\n",
       "\n",
       "    .dataframe thead th {\n",
       "        text-align: right;\n",
       "    }\n",
       "</style>\n",
       "<table border=\"1\" class=\"dataframe\">\n",
       "  <thead>\n",
       "    <tr style=\"text-align: right;\">\n",
       "      <th></th>\n",
       "      <th>volume</th>\n",
       "      <th>open</th>\n",
       "      <th>high</th>\n",
       "      <th>low</th>\n",
       "      <th>close_eth</th>\n",
       "      <th>close_bnb</th>\n",
       "      <th>close_ada</th>\n",
       "      <th>value_number_transaction</th>\n",
       "      <th>value_number_address</th>\n",
       "      <th>value_transaction_second</th>\n",
       "      <th>value_total_bitcoin</th>\n",
       "    </tr>\n",
       "  </thead>\n",
       "  <tbody>\n",
       "    <tr>\n",
       "      <th>550</th>\n",
       "      <td>64123.874245</td>\n",
       "      <td>35288.13</td>\n",
       "      <td>35293.78</td>\n",
       "      <td>33125.55</td>\n",
       "      <td>2196.53</td>\n",
       "      <td>302.0200</td>\n",
       "      <td>1.40390</td>\n",
       "      <td>223760.0</td>\n",
       "      <td>547735.0</td>\n",
       "      <td>2.100174</td>\n",
       "      <td>1.874737e+07</td>\n",
       "    </tr>\n",
       "    <tr>\n",
       "      <th>750</th>\n",
       "      <td>88860.891999</td>\n",
       "      <td>40680.92</td>\n",
       "      <td>41100.00</td>\n",
       "      <td>35440.45</td>\n",
       "      <td>2568.15</td>\n",
       "      <td>383.9000</td>\n",
       "      <td>1.12000</td>\n",
       "      <td>272348.0</td>\n",
       "      <td>721363.0</td>\n",
       "      <td>3.115451</td>\n",
       "      <td>1.893451e+07</td>\n",
       "    </tr>\n",
       "    <tr>\n",
       "      <th>341</th>\n",
       "      <td>61626.947614</td>\n",
       "      <td>19166.90</td>\n",
       "      <td>19294.84</td>\n",
       "      <td>18200.00</td>\n",
       "      <td>554.94</td>\n",
       "      <td>27.6705</td>\n",
       "      <td>0.14120</td>\n",
       "      <td>330970.0</td>\n",
       "      <td>737193.0</td>\n",
       "      <td>2.962847</td>\n",
       "      <td>1.856432e+07</td>\n",
       "    </tr>\n",
       "    <tr>\n",
       "      <th>630</th>\n",
       "      <td>48699.576550</td>\n",
       "      <td>43546.37</td>\n",
       "      <td>44978.00</td>\n",
       "      <td>43069.09</td>\n",
       "      <td>3152.50</td>\n",
       "      <td>383.5000</td>\n",
       "      <td>2.32700</td>\n",
       "      <td>268689.0</td>\n",
       "      <td>642773.0</td>\n",
       "      <td>3.012500</td>\n",
       "      <td>1.882252e+07</td>\n",
       "    </tr>\n",
       "    <tr>\n",
       "      <th>252</th>\n",
       "      <td>58253.753750</td>\n",
       "      <td>10219.29</td>\n",
       "      <td>10483.35</td>\n",
       "      <td>10070.83</td>\n",
       "      <td>367.93</td>\n",
       "      <td>24.5489</td>\n",
       "      <td>0.09709</td>\n",
       "      <td>345981.0</td>\n",
       "      <td>745318.0</td>\n",
       "      <td>3.820312</td>\n",
       "      <td>1.848413e+07</td>\n",
       "    </tr>\n",
       "    <tr>\n",
       "      <th>...</th>\n",
       "      <td>...</td>\n",
       "      <td>...</td>\n",
       "      <td>...</td>\n",
       "      <td>...</td>\n",
       "      <td>...</td>\n",
       "      <td>...</td>\n",
       "      <td>...</td>\n",
       "      <td>...</td>\n",
       "      <td>...</td>\n",
       "      <td>...</td>\n",
       "      <td>...</td>\n",
       "    </tr>\n",
       "    <tr>\n",
       "      <th>362</th>\n",
       "      <td>69411.592606</td>\n",
       "      <td>27079.42</td>\n",
       "      <td>27410.00</td>\n",
       "      <td>25880.00</td>\n",
       "      <td>732.00</td>\n",
       "      <td>39.0667</td>\n",
       "      <td>0.19067</td>\n",
       "      <td>336311.0</td>\n",
       "      <td>775919.0</td>\n",
       "      <td>3.461806</td>\n",
       "      <td>1.858304e+07</td>\n",
       "    </tr>\n",
       "    <tr>\n",
       "      <th>182</th>\n",
       "      <td>45725.168076</td>\n",
       "      <td>9231.99</td>\n",
       "      <td>9261.96</td>\n",
       "      <td>8940.00</td>\n",
       "      <td>226.46</td>\n",
       "      <td>15.3634</td>\n",
       "      <td>0.09291</td>\n",
       "      <td>339469.0</td>\n",
       "      <td>674745.0</td>\n",
       "      <td>3.734549</td>\n",
       "      <td>1.841915e+07</td>\n",
       "    </tr>\n",
       "    <tr>\n",
       "      <th>608</th>\n",
       "      <td>49904.655280</td>\n",
       "      <td>47100.89</td>\n",
       "      <td>49156.00</td>\n",
       "      <td>46512.00</td>\n",
       "      <td>3826.82</td>\n",
       "      <td>489.4000</td>\n",
       "      <td>2.86900</td>\n",
       "      <td>280865.0</td>\n",
       "      <td>682571.0</td>\n",
       "      <td>3.010590</td>\n",
       "      <td>1.880206e+07</td>\n",
       "    </tr>\n",
       "    <tr>\n",
       "      <th>379</th>\n",
       "      <td>118300.920916</td>\n",
       "      <td>39145.21</td>\n",
       "      <td>39747.76</td>\n",
       "      <td>34408.00</td>\n",
       "      <td>1168.53</td>\n",
       "      <td>40.8668</td>\n",
       "      <td>0.30188</td>\n",
       "      <td>344002.0</td>\n",
       "      <td>808283.0</td>\n",
       "      <td>3.854861</td>\n",
       "      <td>1.859998e+07</td>\n",
       "    </tr>\n",
       "    <tr>\n",
       "      <th>285</th>\n",
       "      <td>42205.283709</td>\n",
       "      <td>11528.24</td>\n",
       "      <td>11557.00</td>\n",
       "      <td>11300.00</td>\n",
       "      <td>381.04</td>\n",
       "      <td>30.7256</td>\n",
       "      <td>0.10925</td>\n",
       "      <td>333215.0</td>\n",
       "      <td>732250.0</td>\n",
       "      <td>2.959722</td>\n",
       "      <td>1.851442e+07</td>\n",
       "    </tr>\n",
       "  </tbody>\n",
       "</table>\n",
       "<p>155 rows × 11 columns</p>\n",
       "</div>"
      ],
      "text/plain": [
       "            volume      open      high       low  close_eth  close_bnb  \\\n",
       "550   64123.874245  35288.13  35293.78  33125.55    2196.53   302.0200   \n",
       "750   88860.891999  40680.92  41100.00  35440.45    2568.15   383.9000   \n",
       "341   61626.947614  19166.90  19294.84  18200.00     554.94    27.6705   \n",
       "630   48699.576550  43546.37  44978.00  43069.09    3152.50   383.5000   \n",
       "252   58253.753750  10219.29  10483.35  10070.83     367.93    24.5489   \n",
       "..             ...       ...       ...       ...        ...        ...   \n",
       "362   69411.592606  27079.42  27410.00  25880.00     732.00    39.0667   \n",
       "182   45725.168076   9231.99   9261.96   8940.00     226.46    15.3634   \n",
       "608   49904.655280  47100.89  49156.00  46512.00    3826.82   489.4000   \n",
       "379  118300.920916  39145.21  39747.76  34408.00    1168.53    40.8668   \n",
       "285   42205.283709  11528.24  11557.00  11300.00     381.04    30.7256   \n",
       "\n",
       "     close_ada  value_number_transaction  value_number_address  \\\n",
       "550    1.40390                  223760.0              547735.0   \n",
       "750    1.12000                  272348.0              721363.0   \n",
       "341    0.14120                  330970.0              737193.0   \n",
       "630    2.32700                  268689.0              642773.0   \n",
       "252    0.09709                  345981.0              745318.0   \n",
       "..         ...                       ...                   ...   \n",
       "362    0.19067                  336311.0              775919.0   \n",
       "182    0.09291                  339469.0              674745.0   \n",
       "608    2.86900                  280865.0              682571.0   \n",
       "379    0.30188                  344002.0              808283.0   \n",
       "285    0.10925                  333215.0              732250.0   \n",
       "\n",
       "     value_transaction_second  value_total_bitcoin  \n",
       "550                  2.100174         1.874737e+07  \n",
       "750                  3.115451         1.893451e+07  \n",
       "341                  2.962847         1.856432e+07  \n",
       "630                  3.012500         1.882252e+07  \n",
       "252                  3.820312         1.848413e+07  \n",
       "..                        ...                  ...  \n",
       "362                  3.461806         1.858304e+07  \n",
       "182                  3.734549         1.841915e+07  \n",
       "608                  3.010590         1.880206e+07  \n",
       "379                  3.854861         1.859998e+07  \n",
       "285                  2.959722         1.851442e+07  \n",
       "\n",
       "[155 rows x 11 columns]"
      ]
     },
     "execution_count": 17,
     "metadata": {},
     "output_type": "execute_result"
    }
   ],
   "source": [
    "x_test"
   ]
  },
  {
   "cell_type": "code",
   "execution_count": 18,
   "metadata": {},
   "outputs": [
    {
     "data": {
      "text/plain": [
       "LinearRegression()"
      ]
     },
     "execution_count": 18,
     "metadata": {},
     "output_type": "execute_result"
    }
   ],
   "source": [
    "model = LinearRegression()\n",
    "model.fit(x_train, y_train)"
   ]
  },
  {
   "cell_type": "code",
   "execution_count": 19,
   "metadata": {},
   "outputs": [
    {
     "data": {
      "text/plain": [
       "0.9987013265571355"
      ]
     },
     "execution_count": 19,
     "metadata": {},
     "output_type": "execute_result"
    }
   ],
   "source": [
    "model.score(x_test, y_test)"
   ]
  },
  {
   "cell_type": "code",
   "execution_count": 20,
   "metadata": {},
   "outputs": [],
   "source": [
    "future_set = bitcoin.tail(n).copy()"
   ]
  },
  {
   "cell_type": "code",
   "execution_count": 21,
   "metadata": {},
   "outputs": [
    {
     "data": {
      "text/plain": [
       "array([42127.93076071])"
      ]
     },
     "execution_count": 21,
     "metadata": {},
     "output_type": "execute_result"
    }
   ],
   "source": [
    "prediction = model.predict(future_set[required_features])\n",
    "prediction"
   ]
  },
  {
   "cell_type": "code",
   "execution_count": 22,
   "metadata": {},
   "outputs": [
    {
     "name": "stdout",
     "output_type": "stream",
     "text": [
      "The prediction of bitcoin price on February 12, 2022 at 7 P.M. is 42127.93076071086\n"
     ]
    }
   ],
   "source": [
    "today = datetime.date.today()\n",
    "tomorrow = today + datetime.timedelta(days=1)\n",
    "tmr = tomorrow.strftime(\"%B %d, %Y\")\n",
    "print(\"The prediction of bitcoin price on\",tmr,\"at 7 P.M. is\",prediction[0])"
   ]
  }
 ],
 "metadata": {
  "kernelspec": {
   "display_name": "Python 3 (ipykernel)",
   "language": "python",
   "name": "python3"
  },
  "language_info": {
   "codemirror_mode": {
    "name": "ipython",
    "version": 3
   },
   "file_extension": ".py",
   "mimetype": "text/x-python",
   "name": "python",
   "nbconvert_exporter": "python",
   "pygments_lexer": "ipython3",
   "version": "3.8.12"
  }
 },
 "nbformat": 4,
 "nbformat_minor": 2
}
