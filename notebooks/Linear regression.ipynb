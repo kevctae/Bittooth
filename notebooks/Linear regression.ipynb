{
 "cells": [
  {
   "cell_type": "code",
   "execution_count": 1,
   "metadata": {},
   "outputs": [],
   "source": [
    "import pandas as pd\n",
    "import matplotlib.pyplot as plt\n",
    "from sklearn.model_selection import train_test_split\n",
    "from sklearn.linear_model import LinearRegression\n",
    "from tvDatafeed import TvDatafeed, Interval"
   ]
  },
  {
   "cell_type": "code",
   "execution_count": 2,
   "metadata": {},
   "outputs": [],
   "source": [
    "import requests\n",
    "import json\n",
    "import pandas as pd\n",
    "import datetime"
   ]
  },
  {
   "cell_type": "code",
   "execution_count": 3,
   "metadata": {},
   "outputs": [],
   "source": [
    "n=1"
   ]
  },
  {
   "cell_type": "code",
   "execution_count": 4,
   "metadata": {},
   "outputs": [
    {
     "name": "stderr",
     "output_type": "stream",
     "text": [
      "you are using nologin method, data you access may be limited\n"
     ]
    }
   ],
   "source": [
    "tv = TvDatafeed()\n",
    "def getdata(name):\n",
    "    data=tv.get_hist(symbol=name,exchange='BINANCE',interval=Interval.in_daily,n_bars=5000)\n",
    "    data=data.reset_index()\n",
    "#     data[\"datetime\"]=data[\"datetime\"]+datetime.timedelta(days=1)\n",
    "    data[\"datetime\"]=data[\"datetime\"].dt.strftime('%Y-%m-%d')\n",
    "    data2=data[data[\"datetime\"]>=\"2020-01-01\"].copy()\n",
    "    data2[\"datetime\"] = pd.to_datetime(data2[\"datetime\"])\n",
    "    return data2"
   ]
  },
  {
   "cell_type": "code",
   "execution_count": 5,
   "metadata": {},
   "outputs": [],
   "source": [
    "def getapi(api):\n",
    "    response_API=requests.get(api)\n",
    "    data=response_API.text\n",
    "    parse_json=json.loads(data)\n",
    "    df = pd.json_normalize(parse_json['values'])\n",
    "    listtime=list(df['x'])\n",
    "    listtime2=[]\n",
    "    for i in listtime:\n",
    "        listtime2.append(datetime.datetime.fromtimestamp(i).strftime('%Y-%m-%d'))\n",
    "    df['datetime']=pd.Series(listtime2)\n",
    "    df[\"datetime\"] = pd.to_datetime(df[\"datetime\"])\n",
    "#     df[\"datetime\"]=df[\"datetime\"]+datetime.timedelta(days=1)\n",
    "    df=df[df[\"datetime\"]>=\"2020-01-01\"].copy()\n",
    "    df=df.drop(columns=['x'])\n",
    "    df.rename(columns={'y':'value'},inplace=True)\n",
    "    df=df.drop_duplicates(subset=['datetime'])\n",
    "    return df"
   ]
  },
  {
   "cell_type": "code",
   "execution_count": 6,
   "metadata": {},
   "outputs": [
    {
     "data": {
      "text/html": [
       "<div>\n",
       "<style scoped>\n",
       "    .dataframe tbody tr th:only-of-type {\n",
       "        vertical-align: middle;\n",
       "    }\n",
       "\n",
       "    .dataframe tbody tr th {\n",
       "        vertical-align: top;\n",
       "    }\n",
       "\n",
       "    .dataframe thead th {\n",
       "        text-align: right;\n",
       "    }\n",
       "</style>\n",
       "<table border=\"1\" class=\"dataframe\">\n",
       "  <thead>\n",
       "    <tr style=\"text-align: right;\">\n",
       "      <th></th>\n",
       "      <th>datetime</th>\n",
       "      <th>volume</th>\n",
       "      <th>open</th>\n",
       "      <th>high</th>\n",
       "      <th>low</th>\n",
       "      <th>close</th>\n",
       "    </tr>\n",
       "  </thead>\n",
       "  <tbody>\n",
       "    <tr>\n",
       "      <th>1640</th>\n",
       "      <td>2022-02-11</td>\n",
       "      <td>26556.85681</td>\n",
       "      <td>42373.73</td>\n",
       "      <td>43079.49</td>\n",
       "      <td>41688.88</td>\n",
       "      <td>42217.87</td>\n",
       "    </tr>\n",
       "    <tr>\n",
       "      <th>1641</th>\n",
       "      <td>2022-02-12</td>\n",
       "      <td>17648.58975</td>\n",
       "      <td>42217.87</td>\n",
       "      <td>42760.00</td>\n",
       "      <td>41870.00</td>\n",
       "      <td>42053.66</td>\n",
       "    </tr>\n",
       "    <tr>\n",
       "      <th>1642</th>\n",
       "      <td>2022-02-13</td>\n",
       "      <td>34010.13060</td>\n",
       "      <td>42053.65</td>\n",
       "      <td>42842.40</td>\n",
       "      <td>41550.56</td>\n",
       "      <td>42535.94</td>\n",
       "    </tr>\n",
       "    <tr>\n",
       "      <th>1643</th>\n",
       "      <td>2022-02-14</td>\n",
       "      <td>38093.46331</td>\n",
       "      <td>42535.94</td>\n",
       "      <td>44751.40</td>\n",
       "      <td>42427.03</td>\n",
       "      <td>44544.86</td>\n",
       "    </tr>\n",
       "    <tr>\n",
       "      <th>1644</th>\n",
       "      <td>2022-02-15</td>\n",
       "      <td>2510.94095</td>\n",
       "      <td>44544.85</td>\n",
       "      <td>44549.97</td>\n",
       "      <td>43945.32</td>\n",
       "      <td>43987.14</td>\n",
       "    </tr>\n",
       "  </tbody>\n",
       "</table>\n",
       "</div>"
      ],
      "text/plain": [
       "       datetime       volume      open      high       low     close\n",
       "1640 2022-02-11  26556.85681  42373.73  43079.49  41688.88  42217.87\n",
       "1641 2022-02-12  17648.58975  42217.87  42760.00  41870.00  42053.66\n",
       "1642 2022-02-13  34010.13060  42053.65  42842.40  41550.56  42535.94\n",
       "1643 2022-02-14  38093.46331  42535.94  44751.40  42427.03  44544.86\n",
       "1644 2022-02-15   2510.94095  44544.85  44549.97  43945.32  43987.14"
      ]
     },
     "execution_count": 6,
     "metadata": {},
     "output_type": "execute_result"
    }
   ],
   "source": [
    "bitcoi=getdata('BTCUSDT')\n",
    "eth=getdata('ETHUSDT')\n",
    "bnb=getdata('BNBUSDT')\n",
    "ada=getdata('ADAUSDT')\n",
    "bitcoi=bitcoi[[\"datetime\",\"volume\",\"open\",\"high\",\"low\",\"close\"]]\n",
    "bitcoi.tail(5)"
   ]
  },
  {
   "cell_type": "code",
   "execution_count": 7,
   "metadata": {},
   "outputs": [],
   "source": [
    "number_transactions=getapi('https://api.blockchain.info/charts/n-transactions?timespan=4years&rollingAverage=24hours&format=json&sampled=false')\n",
    "number_address=getapi('https://api.blockchain.info/charts/n-unique-addresses?timespan=4years&rollingAverage=24hours&format=json&sampled=false')\n",
    "transaction_second=getapi('https://api.blockchain.info/charts/transactions-per-second?timespan=4years&rollingAverage=24hours&format=json&sampled=false')\n",
    "transaction_second=transaction_second.groupby(['datetime']).mean().reset_index()\n",
    "total_bitcoin=getapi('https://api.blockchain.info/charts/total-bitcoins?timespan=4years&rollingAverage=24hours&format=json&sampled=true')\n",
    "volume_trade=getapi('https://api.blockchain.info/charts/trade-volume?timespan=4years&rollingAverage=24hours&format=json&sampled=false')\n",
    "hash_rate=getapi('https://api.blockchain.info/charts/hash-rate?timespan=4years&rollingAverage=24hours&format=json&sampled=false')"
   ]
  },
  {
   "cell_type": "code",
   "execution_count": 8,
   "metadata": {},
   "outputs": [],
   "source": [
    "bitcoin=bitcoi.merge(eth[[\"datetime\",\"close\"]],on='datetime',how='left',suffixes=('_bitcoin', '_eth'))\n",
    "bitcoin=bitcoin.merge(bnb[[\"datetime\",\"close\"]],on='datetime',how='left')\n",
    "bitcoin=bitcoin.merge(ada[[\"datetime\",\"close\"]],on='datetime',how='left',suffixes=('_bnb', '_ada'))"
   ]
  },
  {
   "cell_type": "code",
   "execution_count": 9,
   "metadata": {},
   "outputs": [],
   "source": [
    "data_api=number_transactions.merge(number_address,on='datetime',how='left',suffixes=('_number_transaction', '_number_address'))\n",
    "data_api=data_api.merge(transaction_second,on='datetime',how='left')\n",
    "data_api=data_api.merge(total_bitcoin,on='datetime',how='left',suffixes=('_transaction_second', '_total_bitcoin'))\n",
    "data_api=data_api.merge(volume_trade,on='datetime',how='left')\n",
    "data_api=data_api.merge(hash_rate,on='datetime',how='left',suffixes=('_volume_trade', '_hash_rate'))\n"
   ]
  },
  {
   "cell_type": "code",
   "execution_count": 10,
   "metadata": {},
   "outputs": [
    {
     "data": {
      "text/html": [
       "<div>\n",
       "<style scoped>\n",
       "    .dataframe tbody tr th:only-of-type {\n",
       "        vertical-align: middle;\n",
       "    }\n",
       "\n",
       "    .dataframe tbody tr th {\n",
       "        vertical-align: top;\n",
       "    }\n",
       "\n",
       "    .dataframe thead th {\n",
       "        text-align: right;\n",
       "    }\n",
       "</style>\n",
       "<table border=\"1\" class=\"dataframe\">\n",
       "  <thead>\n",
       "    <tr style=\"text-align: right;\">\n",
       "      <th></th>\n",
       "      <th>datetime</th>\n",
       "      <th>volume</th>\n",
       "      <th>open</th>\n",
       "      <th>high</th>\n",
       "      <th>low</th>\n",
       "      <th>close_bitcoin</th>\n",
       "      <th>close_eth</th>\n",
       "      <th>close_bnb</th>\n",
       "      <th>close_ada</th>\n",
       "      <th>value_number_transaction</th>\n",
       "      <th>value_number_address</th>\n",
       "      <th>value_transaction_second</th>\n",
       "      <th>value_total_bitcoin</th>\n",
       "      <th>value_volume_trade</th>\n",
       "      <th>value_hash_rate</th>\n",
       "    </tr>\n",
       "  </thead>\n",
       "  <tbody>\n",
       "    <tr>\n",
       "      <th>772</th>\n",
       "      <td>2022-02-11</td>\n",
       "      <td>26556.85681</td>\n",
       "      <td>42373.73</td>\n",
       "      <td>43079.49</td>\n",
       "      <td>41688.88</td>\n",
       "      <td>42217.87</td>\n",
       "      <td>2918.88</td>\n",
       "      <td>403.6</td>\n",
       "      <td>1.059</td>\n",
       "      <td>228189.0</td>\n",
       "      <td>604018.0</td>\n",
       "      <td>3.068403</td>\n",
       "      <td>1.895464e+07</td>\n",
       "      <td>3.225592e+08</td>\n",
       "      <td>2.481103e+08</td>\n",
       "    </tr>\n",
       "    <tr>\n",
       "      <th>773</th>\n",
       "      <td>2022-02-12</td>\n",
       "      <td>17648.58975</td>\n",
       "      <td>42217.87</td>\n",
       "      <td>42760.00</td>\n",
       "      <td>41870.00</td>\n",
       "      <td>42053.66</td>\n",
       "      <td>2871.13</td>\n",
       "      <td>397.9</td>\n",
       "      <td>1.042</td>\n",
       "      <td>208977.0</td>\n",
       "      <td>590527.0</td>\n",
       "      <td>2.986458</td>\n",
       "      <td>1.895553e+07</td>\n",
       "      <td>1.404551e+08</td>\n",
       "      <td>2.096333e+08</td>\n",
       "    </tr>\n",
       "    <tr>\n",
       "      <th>774</th>\n",
       "      <td>2022-02-13</td>\n",
       "      <td>34010.13060</td>\n",
       "      <td>42053.65</td>\n",
       "      <td>42842.40</td>\n",
       "      <td>41550.56</td>\n",
       "      <td>42535.94</td>\n",
       "      <td>2929.75</td>\n",
       "      <td>403.4</td>\n",
       "      <td>1.049</td>\n",
       "      <td>247592.0</td>\n",
       "      <td>630477.0</td>\n",
       "      <td>2.536632</td>\n",
       "      <td>1.895642e+07</td>\n",
       "      <td>9.067330e+07</td>\n",
       "      <td>2.029994e+08</td>\n",
       "    </tr>\n",
       "    <tr>\n",
       "      <th>775</th>\n",
       "      <td>2022-02-14</td>\n",
       "      <td>38093.46331</td>\n",
       "      <td>42535.94</td>\n",
       "      <td>44751.40</td>\n",
       "      <td>42427.03</td>\n",
       "      <td>44544.86</td>\n",
       "      <td>3183.52</td>\n",
       "      <td>432.4</td>\n",
       "      <td>1.107</td>\n",
       "      <td>273623.0</td>\n",
       "      <td>680501.0</td>\n",
       "      <td>2.481250</td>\n",
       "      <td>1.895731e+07</td>\n",
       "      <td>1.878267e+08</td>\n",
       "      <td>2.321888e+08</td>\n",
       "    </tr>\n",
       "    <tr>\n",
       "      <th>776</th>\n",
       "      <td>2022-02-15</td>\n",
       "      <td>2510.94095</td>\n",
       "      <td>44544.85</td>\n",
       "      <td>44549.97</td>\n",
       "      <td>43945.32</td>\n",
       "      <td>43987.14</td>\n",
       "      <td>3139.56</td>\n",
       "      <td>432.5</td>\n",
       "      <td>1.098</td>\n",
       "      <td>NaN</td>\n",
       "      <td>NaN</td>\n",
       "      <td>NaN</td>\n",
       "      <td>NaN</td>\n",
       "      <td>NaN</td>\n",
       "      <td>NaN</td>\n",
       "    </tr>\n",
       "  </tbody>\n",
       "</table>\n",
       "</div>"
      ],
      "text/plain": [
       "      datetime       volume      open      high       low  close_bitcoin  \\\n",
       "772 2022-02-11  26556.85681  42373.73  43079.49  41688.88       42217.87   \n",
       "773 2022-02-12  17648.58975  42217.87  42760.00  41870.00       42053.66   \n",
       "774 2022-02-13  34010.13060  42053.65  42842.40  41550.56       42535.94   \n",
       "775 2022-02-14  38093.46331  42535.94  44751.40  42427.03       44544.86   \n",
       "776 2022-02-15   2510.94095  44544.85  44549.97  43945.32       43987.14   \n",
       "\n",
       "     close_eth  close_bnb  close_ada  value_number_transaction  \\\n",
       "772    2918.88      403.6      1.059                  228189.0   \n",
       "773    2871.13      397.9      1.042                  208977.0   \n",
       "774    2929.75      403.4      1.049                  247592.0   \n",
       "775    3183.52      432.4      1.107                  273623.0   \n",
       "776    3139.56      432.5      1.098                       NaN   \n",
       "\n",
       "     value_number_address  value_transaction_second  value_total_bitcoin  \\\n",
       "772              604018.0                  3.068403         1.895464e+07   \n",
       "773              590527.0                  2.986458         1.895553e+07   \n",
       "774              630477.0                  2.536632         1.895642e+07   \n",
       "775              680501.0                  2.481250         1.895731e+07   \n",
       "776                   NaN                       NaN                  NaN   \n",
       "\n",
       "     value_volume_trade  value_hash_rate  \n",
       "772        3.225592e+08     2.481103e+08  \n",
       "773        1.404551e+08     2.096333e+08  \n",
       "774        9.067330e+07     2.029994e+08  \n",
       "775        1.878267e+08     2.321888e+08  \n",
       "776                 NaN              NaN  "
      ]
     },
     "execution_count": 10,
     "metadata": {},
     "output_type": "execute_result"
    }
   ],
   "source": [
    "bitcoin=bitcoin.merge(data_api,on='datetime',how='left')\n",
    "bitcoin.tail(5)"
   ]
  },
  {
   "cell_type": "code",
   "execution_count": 11,
   "metadata": {},
   "outputs": [
    {
     "data": {
      "image/png": "[encoded data removed]",
      "text/plain": [
       "<Figure size 864x504 with 1 Axes>"
      ]
     },
     "metadata": {
      "needs_background": "light"
     },
     "output_type": "display_data"
    }
   ],
   "source": [
    "plt.figure(figsize = (12, 7))\n",
    "plt.plot(bitcoin[\"datetime\"], bitcoin[\"close_bitcoin\"], color='goldenrod', lw=2)\n",
    "plt.title(\"Bitcoin Price over time\", size=25)\n",
    "plt.xlabel(\"Time\", size=20)\n",
    "plt.ylabel(\"$ Price\", size=20)\n",
    "plt.show()"
   ]
  },
  {
   "cell_type": "code",
   "execution_count": 12,
   "metadata": {},
   "outputs": [
    {
     "data": {
      "image/png": "[encoded data removed]",
      "text/plain": [
       "<Figure size 864x504 with 1 Axes>"
      ]
     },
     "metadata": {
      "needs_background": "light"
     },
     "output_type": "display_data"
    }
   ],
   "source": [
    "plt.figure(figsize = (12, 7))\n",
    "plt.plot(bitcoin[\"datetime\"], bitcoin[\"volume\"], color='royalblue', lw=2)\n",
    "plt.title(\"Bitcoin Volume over time\", size=25)\n",
    "plt.xlabel(\"Time\", size=20)\n",
    "plt.ylabel(\"Volume\", size=20);"
   ]
  },
  {
   "cell_type": "code",
   "execution_count": 13,
   "metadata": {},
   "outputs": [
    {
     "data": {
      "text/plain": [
       "datetime                     0\n",
       "volume                       0\n",
       "open                         0\n",
       "high                         0\n",
       "low                          0\n",
       "close_bitcoin                0\n",
       "close_eth                    0\n",
       "close_bnb                    0\n",
       "close_ada                    0\n",
       "value_number_transaction     1\n",
       "value_number_address         3\n",
       "value_transaction_second     1\n",
       "value_total_bitcoin         32\n",
       "value_volume_trade           1\n",
       "value_hash_rate              1\n",
       "dtype: int64"
      ]
     },
     "execution_count": 13,
     "metadata": {},
     "output_type": "execute_result"
    }
   ],
   "source": [
    "bitcoin.isnull().sum()"
   ]
  },
  {
   "cell_type": "code",
   "execution_count": 14,
   "metadata": {},
   "outputs": [
    {
     "data": {
      "text/plain": [
       "volume                      0\n",
       "open                        0\n",
       "high                        0\n",
       "low                         0\n",
       "close_bitcoin               0\n",
       "close_eth                   0\n",
       "close_bnb                   0\n",
       "close_ada                   0\n",
       "value_number_transaction    0\n",
       "value_number_address        0\n",
       "value_transaction_second    0\n",
       "value_total_bitcoin         0\n",
       "value_volume_trade          0\n",
       "value_hash_rate             0\n",
       "datetime                    0\n",
       "dtype: int64"
      ]
     },
     "execution_count": 14,
     "metadata": {},
     "output_type": "execute_result"
    }
   ],
   "source": [
    "# bitcoin=bitcoin.interpolate(method='linear')\n",
    "temp=bitcoin[\"datetime\"]\n",
    "bitcoin=bitcoin.drop(columns=['datetime'])\n",
    "bitcoin=bitcoin.interpolate()\n",
    "bitcoin['datetime']=temp\n",
    "bitcoin.isnull().sum()"
   ]
  },
  {
   "cell_type": "code",
   "execution_count": 15,
   "metadata": {},
   "outputs": [],
   "source": [
    "required_features = ['volume','open', 'high', 'low','close_eth','close_bnb','close_ada','value_number_transaction','value_number_address','value_transaction_second','value_total_bitcoin','value_volume_trade', 'value_hash_rate']\n",
    "output_label = 'close_bitcoin'"
   ]
  },
  {
   "cell_type": "code",
   "execution_count": 16,
   "metadata": {},
   "outputs": [],
   "source": [
    "x_train, x_test, y_train, y_test = train_test_split(bitcoin[required_features],bitcoin[output_label],test_size = 0.2)"
   ]
  },
  {
   "cell_type": "code",
   "execution_count": 17,
   "metadata": {},
   "outputs": [
    {
     "data": {
      "text/html": [
       "<div>\n",
       "<style scoped>\n",
       "    .dataframe tbody tr th:only-of-type {\n",
       "        vertical-align: middle;\n",
       "    }\n",
       "\n",
       "    .dataframe tbody tr th {\n",
       "        vertical-align: top;\n",
       "    }\n",
       "\n",
       "    .dataframe thead th {\n",
       "        text-align: right;\n",
       "    }\n",
       "</style>\n",
       "<table border=\"1\" class=\"dataframe\">\n",
       "  <thead>\n",
       "    <tr style=\"text-align: right;\">\n",
       "      <th></th>\n",
       "      <th>volume</th>\n",
       "      <th>open</th>\n",
       "      <th>high</th>\n",
       "      <th>low</th>\n",
       "      <th>close_eth</th>\n",
       "      <th>close_bnb</th>\n",
       "      <th>close_ada</th>\n",
       "      <th>value_number_transaction</th>\n",
       "      <th>value_number_address</th>\n",
       "      <th>value_transaction_second</th>\n",
       "      <th>value_total_bitcoin</th>\n",
       "      <th>value_volume_trade</th>\n",
       "      <th>value_hash_rate</th>\n",
       "    </tr>\n",
       "  </thead>\n",
       "  <tbody>\n",
       "    <tr>\n",
       "      <th>716</th>\n",
       "      <td>25020.052710</td>\n",
       "      <td>46133.83</td>\n",
       "      <td>47392.37</td>\n",
       "      <td>45500.00</td>\n",
       "      <td>3959.93</td>\n",
       "      <td>533.9000</td>\n",
       "      <td>1.24200</td>\n",
       "      <td>239170.0</td>\n",
       "      <td>616818.0</td>\n",
       "      <td>3.169965</td>\n",
       "      <td>1.890307e+07</td>\n",
       "      <td>3.563099e+08</td>\n",
       "      <td>1.539525e+08</td>\n",
       "    </tr>\n",
       "    <tr>\n",
       "      <th>261</th>\n",
       "      <td>38440.036858</td>\n",
       "      <td>10933.40</td>\n",
       "      <td>11179.79</td>\n",
       "      <td>10887.37</td>\n",
       "      <td>385.25</td>\n",
       "      <td>27.2035</td>\n",
       "      <td>0.09141</td>\n",
       "      <td>296357.0</td>\n",
       "      <td>624125.0</td>\n",
       "      <td>3.971007</td>\n",
       "      <td>1.849269e+07</td>\n",
       "      <td>8.826939e+07</td>\n",
       "      <td>1.284789e+08</td>\n",
       "    </tr>\n",
       "    <tr>\n",
       "      <th>369</th>\n",
       "      <td>116049.997038</td>\n",
       "      <td>31989.75</td>\n",
       "      <td>34360.00</td>\n",
       "      <td>29900.00</td>\n",
       "      <td>1099.56</td>\n",
       "      <td>41.8219</td>\n",
       "      <td>0.25873</td>\n",
       "      <td>354091.0</td>\n",
       "      <td>845343.0</td>\n",
       "      <td>3.958681</td>\n",
       "      <td>1.858984e+07</td>\n",
       "      <td>1.432013e+09</td>\n",
       "      <td>1.451608e+08</td>\n",
       "    </tr>\n",
       "    <tr>\n",
       "      <th>276</th>\n",
       "      <td>23212.001595</td>\n",
       "      <td>10542.07</td>\n",
       "      <td>10696.87</td>\n",
       "      <td>10517.87</td>\n",
       "      <td>352.37</td>\n",
       "      <td>28.9668</td>\n",
       "      <td>0.09686</td>\n",
       "      <td>268019.0</td>\n",
       "      <td>562147.0</td>\n",
       "      <td>3.620139</td>\n",
       "      <td>1.850694e+07</td>\n",
       "      <td>3.147720e+07</td>\n",
       "      <td>1.515921e+08</td>\n",
       "    </tr>\n",
       "    <tr>\n",
       "      <th>196</th>\n",
       "      <td>43375.571191</td>\n",
       "      <td>9197.60</td>\n",
       "      <td>9226.15</td>\n",
       "      <td>9047.25</td>\n",
       "      <td>233.57</td>\n",
       "      <td>17.1647</td>\n",
       "      <td>0.12602</td>\n",
       "      <td>345849.0</td>\n",
       "      <td>709099.0</td>\n",
       "      <td>3.851042</td>\n",
       "      <td>1.843308e+07</td>\n",
       "      <td>8.339369e+07</td>\n",
       "      <td>1.172690e+08</td>\n",
       "    </tr>\n",
       "    <tr>\n",
       "      <th>...</th>\n",
       "      <td>...</td>\n",
       "      <td>...</td>\n",
       "      <td>...</td>\n",
       "      <td>...</td>\n",
       "      <td>...</td>\n",
       "      <td>...</td>\n",
       "      <td>...</td>\n",
       "      <td>...</td>\n",
       "      <td>...</td>\n",
       "      <td>...</td>\n",
       "      <td>...</td>\n",
       "      <td>...</td>\n",
       "      <td>...</td>\n",
       "    </tr>\n",
       "    <tr>\n",
       "      <th>288</th>\n",
       "      <td>48797.749502</td>\n",
       "      <td>11505.13</td>\n",
       "      <td>11541.15</td>\n",
       "      <td>11200.00</td>\n",
       "      <td>365.50</td>\n",
       "      <td>30.0516</td>\n",
       "      <td>0.10414</td>\n",
       "      <td>324647.0</td>\n",
       "      <td>712317.0</td>\n",
       "      <td>3.703993</td>\n",
       "      <td>1.851764e+07</td>\n",
       "      <td>1.118547e+08</td>\n",
       "      <td>1.486935e+08</td>\n",
       "    </tr>\n",
       "    <tr>\n",
       "      <th>126</th>\n",
       "      <td>147154.611378</td>\n",
       "      <td>9143.40</td>\n",
       "      <td>10067.00</td>\n",
       "      <td>9021.00</td>\n",
       "      <td>212.00</td>\n",
       "      <td>17.0003</td>\n",
       "      <td>0.05123</td>\n",
       "      <td>341986.0</td>\n",
       "      <td>696092.0</td>\n",
       "      <td>3.697569</td>\n",
       "      <td>1.836456e+07</td>\n",
       "      <td>2.861557e+08</td>\n",
       "      <td>1.176844e+08</td>\n",
       "    </tr>\n",
       "    <tr>\n",
       "      <th>691</th>\n",
       "      <td>49917.850170</td>\n",
       "      <td>56243.83</td>\n",
       "      <td>58009.99</td>\n",
       "      <td>55317.00</td>\n",
       "      <td>4339.44</td>\n",
       "      <td>591.1000</td>\n",
       "      <td>1.75100</td>\n",
       "      <td>283401.0</td>\n",
       "      <td>700954.0</td>\n",
       "      <td>2.626910</td>\n",
       "      <td>1.887998e+07</td>\n",
       "      <td>4.947626e+08</td>\n",
       "      <td>1.487822e+08</td>\n",
       "    </tr>\n",
       "    <tr>\n",
       "      <th>284</th>\n",
       "      <td>52825.283710</td>\n",
       "      <td>11369.02</td>\n",
       "      <td>11720.01</td>\n",
       "      <td>11172.00</td>\n",
       "      <td>386.51</td>\n",
       "      <td>30.6503</td>\n",
       "      <td>0.10945</td>\n",
       "      <td>314174.0</td>\n",
       "      <td>658073.0</td>\n",
       "      <td>3.163194</td>\n",
       "      <td>1.851408e+07</td>\n",
       "      <td>6.021583e+07</td>\n",
       "      <td>1.429377e+08</td>\n",
       "    </tr>\n",
       "    <tr>\n",
       "      <th>273</th>\n",
       "      <td>60866.332893</td>\n",
       "      <td>10776.59</td>\n",
       "      <td>10920.00</td>\n",
       "      <td>10437.00</td>\n",
       "      <td>352.85</td>\n",
       "      <td>27.4673</td>\n",
       "      <td>0.09804</td>\n",
       "      <td>304757.0</td>\n",
       "      <td>679937.0</td>\n",
       "      <td>3.787674</td>\n",
       "      <td>1.850428e+07</td>\n",
       "      <td>8.989464e+07</td>\n",
       "      <td>1.190570e+08</td>\n",
       "    </tr>\n",
       "  </tbody>\n",
       "</table>\n",
       "<p>156 rows × 13 columns</p>\n",
       "</div>"
      ],
      "text/plain": [
       "            volume      open      high       low  close_eth  close_bnb  \\\n",
       "716   25020.052710  46133.83  47392.37  45500.00    3959.93   533.9000   \n",
       "261   38440.036858  10933.40  11179.79  10887.37     385.25    27.2035   \n",
       "369  116049.997038  31989.75  34360.00  29900.00    1099.56    41.8219   \n",
       "276   23212.001595  10542.07  10696.87  10517.87     352.37    28.9668   \n",
       "196   43375.571191   9197.60   9226.15   9047.25     233.57    17.1647   \n",
       "..             ...       ...       ...       ...        ...        ...   \n",
       "288   48797.749502  11505.13  11541.15  11200.00     365.50    30.0516   \n",
       "126  147154.611378   9143.40  10067.00   9021.00     212.00    17.0003   \n",
       "691   49917.850170  56243.83  58009.99  55317.00    4339.44   591.1000   \n",
       "284   52825.283710  11369.02  11720.01  11172.00     386.51    30.6503   \n",
       "273   60866.332893  10776.59  10920.00  10437.00     352.85    27.4673   \n",
       "\n",
       "     close_ada  value_number_transaction  value_number_address  \\\n",
       "716    1.24200                  239170.0              616818.0   \n",
       "261    0.09141                  296357.0              624125.0   \n",
       "369    0.25873                  354091.0              845343.0   \n",
       "276    0.09686                  268019.0              562147.0   \n",
       "196    0.12602                  345849.0              709099.0   \n",
       "..         ...                       ...                   ...   \n",
       "288    0.10414                  324647.0              712317.0   \n",
       "126    0.05123                  341986.0              696092.0   \n",
       "691    1.75100                  283401.0              700954.0   \n",
       "284    0.10945                  314174.0              658073.0   \n",
       "273    0.09804                  304757.0              679937.0   \n",
       "\n",
       "     value_transaction_second  value_total_bitcoin  value_volume_trade  \\\n",
       "716                  3.169965         1.890307e+07        3.563099e+08   \n",
       "261                  3.971007         1.849269e+07        8.826939e+07   \n",
       "369                  3.958681         1.858984e+07        1.432013e+09   \n",
       "276                  3.620139         1.850694e+07        3.147720e+07   \n",
       "196                  3.851042         1.843308e+07        8.339369e+07   \n",
       "..                        ...                  ...                 ...   \n",
       "288                  3.703993         1.851764e+07        1.118547e+08   \n",
       "126                  3.697569         1.836456e+07        2.861557e+08   \n",
       "691                  2.626910         1.887998e+07        4.947626e+08   \n",
       "284                  3.163194         1.851408e+07        6.021583e+07   \n",
       "273                  3.787674         1.850428e+07        8.989464e+07   \n",
       "\n",
       "     value_hash_rate  \n",
       "716     1.539525e+08  \n",
       "261     1.284789e+08  \n",
       "369     1.451608e+08  \n",
       "276     1.515921e+08  \n",
       "196     1.172690e+08  \n",
       "..               ...  \n",
       "288     1.486935e+08  \n",
       "126     1.176844e+08  \n",
       "691     1.487822e+08  \n",
       "284     1.429377e+08  \n",
       "273     1.190570e+08  \n",
       "\n",
       "[156 rows x 13 columns]"
      ]
     },
     "execution_count": 17,
     "metadata": {},
     "output_type": "execute_result"
    }
   ],
   "source": [
    "x_test"
   ]
  },
  {
   "cell_type": "code",
   "execution_count": 18,
   "metadata": {},
   "outputs": [
    {
     "data": {
      "text/plain": [
       "LinearRegression()"
      ]
     },
     "execution_count": 18,
     "metadata": {},
     "output_type": "execute_result"
    }
   ],
   "source": [
    "model = LinearRegression()\n",
    "model.fit(x_train, y_train)"
   ]
  },
  {
   "cell_type": "code",
   "execution_count": 19,
   "metadata": {},
   "outputs": [
    {
     "data": {
      "text/plain": [
       "0.9987121273167054"
      ]
     },
     "execution_count": 19,
     "metadata": {},
     "output_type": "execute_result"
    }
   ],
   "source": [
    "model.score(x_test, y_test)"
   ]
  },
  {
   "cell_type": "code",
   "execution_count": 20,
   "metadata": {},
   "outputs": [
    {
     "data": {
      "text/html": [
       "<div>\n",
       "<style scoped>\n",
       "    .dataframe tbody tr th:only-of-type {\n",
       "        vertical-align: middle;\n",
       "    }\n",
       "\n",
       "    .dataframe tbody tr th {\n",
       "        vertical-align: top;\n",
       "    }\n",
       "\n",
       "    .dataframe thead th {\n",
       "        text-align: right;\n",
       "    }\n",
       "</style>\n",
       "<table border=\"1\" class=\"dataframe\">\n",
       "  <thead>\n",
       "    <tr style=\"text-align: right;\">\n",
       "      <th></th>\n",
       "      <th>volume</th>\n",
       "      <th>open</th>\n",
       "      <th>high</th>\n",
       "      <th>low</th>\n",
       "      <th>close_bitcoin</th>\n",
       "      <th>close_eth</th>\n",
       "      <th>close_bnb</th>\n",
       "      <th>close_ada</th>\n",
       "      <th>value_number_transaction</th>\n",
       "      <th>value_number_address</th>\n",
       "      <th>value_transaction_second</th>\n",
       "      <th>value_total_bitcoin</th>\n",
       "      <th>value_volume_trade</th>\n",
       "      <th>value_hash_rate</th>\n",
       "      <th>datetime</th>\n",
       "    </tr>\n",
       "  </thead>\n",
       "  <tbody>\n",
       "    <tr>\n",
       "      <th>776</th>\n",
       "      <td>2510.94095</td>\n",
       "      <td>44544.85</td>\n",
       "      <td>44549.97</td>\n",
       "      <td>43945.32</td>\n",
       "      <td>43987.14</td>\n",
       "      <td>3139.56</td>\n",
       "      <td>432.5</td>\n",
       "      <td>1.098</td>\n",
       "      <td>273623.0</td>\n",
       "      <td>680501.0</td>\n",
       "      <td>2.48125</td>\n",
       "      <td>18957306.25</td>\n",
       "      <td>1.878267e+08</td>\n",
       "      <td>2.321888e+08</td>\n",
       "      <td>2022-02-15</td>\n",
       "    </tr>\n",
       "  </tbody>\n",
       "</table>\n",
       "</div>"
      ],
      "text/plain": [
       "         volume      open      high       low  close_bitcoin  close_eth  \\\n",
       "776  2510.94095  44544.85  44549.97  43945.32       43987.14    3139.56   \n",
       "\n",
       "     close_bnb  close_ada  value_number_transaction  value_number_address  \\\n",
       "776      432.5      1.098                  273623.0              680501.0   \n",
       "\n",
       "     value_transaction_second  value_total_bitcoin  value_volume_trade  \\\n",
       "776                   2.48125          18957306.25        1.878267e+08   \n",
       "\n",
       "     value_hash_rate   datetime  \n",
       "776     2.321888e+08 2022-02-15  "
      ]
     },
     "execution_count": 20,
     "metadata": {},
     "output_type": "execute_result"
    }
   ],
   "source": [
    "future_set = bitcoin.tail(n).copy()\n",
    "future_set"
   ]
  },
  {
   "cell_type": "code",
   "execution_count": 21,
   "metadata": {},
   "outputs": [
    {
     "data": {
      "text/plain": [
       "array([43950.62924157])"
      ]
     },
     "execution_count": 21,
     "metadata": {},
     "output_type": "execute_result"
    }
   ],
   "source": [
    "prediction = model.predict(future_set[required_features])\n",
    "prediction"
   ]
  },
  {
   "cell_type": "code",
   "execution_count": 22,
   "metadata": {},
   "outputs": [
    {
     "name": "stdout",
     "output_type": "stream",
     "text": [
      "The prediction of bitcoin price on February 16, 2022 at 7 P.M. is 43950.62924157205\n"
     ]
    }
   ],
   "source": [
    "today = datetime.date.today()\n",
    "tomorrow = future_set[\"datetime\"].iloc[0] + datetime.timedelta(days=1)\n",
    "tmr = tomorrow.strftime(\"%B %d, %Y\")\n",
    "print(\"The prediction of bitcoin price on\",tmr,\"at 7 P.M. is\",prediction[0])"
   ]
  }
 ],
 "metadata": {
  "kernelspec": {
   "display_name": "Python 3 (ipykernel)",
   "language": "python",
   "name": "python3"
  },
  "language_info": {
   "codemirror_mode": {
    "name": "ipython",
    "version": 3
   },
   "file_extension": ".py",
   "mimetype": "text/x-python",
   "name": "python",
   "nbconvert_exporter": "python",
   "pygments_lexer": "ipython3",
   "version": "3.8.12"
  }
 },
 "nbformat": 4,
 "nbformat_minor": 2
}
