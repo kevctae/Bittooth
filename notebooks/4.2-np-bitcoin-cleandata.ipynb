{
 "cells": [
  {
   "cell_type": "code",
   "execution_count": 6,
   "id": "7a39da3c",
   "metadata": {},
   "outputs": [],
   "source": [
    "import pandas as pd\n",
    "import numpy as np"
   ]
  },
  {
   "cell_type": "code",
   "execution_count": 7,
   "id": "daa29263",
   "metadata": {},
   "outputs": [],
   "source": [
    "bitcoin = pd.read_pickle(\"../data/interim/bitcoin_value_2020-now.pkl\")"
   ]
  },
  {
   "cell_type": "code",
   "execution_count": 8,
   "id": "9a187251",
   "metadata": {},
   "outputs": [
    {
     "data": {
      "text/plain": [
       "datetime                     0\n",
       "open_bitcoin                 0\n",
       "close_bitcoin                0\n",
       "open_eth                     0\n",
       "open_bnb                     0\n",
       "open_ada                     0\n",
       "value_number_transaction     0\n",
       "value_number_address         2\n",
       "value_transaction_second     0\n",
       "value_total_bitcoin         20\n",
       "value_hash_rate              0\n",
       "dtype: int64"
      ]
     },
     "execution_count": 8,
     "metadata": {},
     "output_type": "execute_result"
    }
   ],
   "source": [
    "bitcoin.isnull().sum()"
   ]
  },
  {
   "cell_type": "code",
   "execution_count": 9,
   "id": "b791d15a",
   "metadata": {},
   "outputs": [
    {
     "data": {
      "text/plain": [
       "open_bitcoin                0\n",
       "close_bitcoin               0\n",
       "open_eth                    0\n",
       "open_bnb                    0\n",
       "open_ada                    0\n",
       "value_number_transaction    0\n",
       "value_number_address        0\n",
       "value_transaction_second    0\n",
       "value_total_bitcoin         0\n",
       "value_hash_rate             0\n",
       "datetime                    0\n",
       "dtype: int64"
      ]
     },
     "execution_count": 9,
     "metadata": {},
     "output_type": "execute_result"
    }
   ],
   "source": [
    "temp=bitcoin[\"datetime\"]\n",
    "bitcoin=bitcoin.drop(columns=['datetime'])\n",
    "bitcoin=bitcoin.interpolate()\n",
    "bitcoin['datetime']=temp\n",
    "bitcoin.isnull().sum()"
   ]
  },
  {
   "cell_type": "code",
   "execution_count": 10,
   "id": "6a69bff7",
   "metadata": {},
   "outputs": [],
   "source": [
    "bitcoin.to_pickle(\"../data/cleaned/bitcoin_value_2020-now_cleaned.pkl\")"
   ]
  }
 ],
 "metadata": {
  "kernelspec": {
   "display_name": "Python 3 (ipykernel)",
   "language": "python",
   "name": "python3"
  },
  "language_info": {
   "codemirror_mode": {
    "name": "ipython",
    "version": 3
   },
   "file_extension": ".py",
   "mimetype": "text/x-python",
   "name": "python",
   "nbconvert_exporter": "python",
   "pygments_lexer": "ipython3",
   "version": "3.8.12"
  }
 },
 "nbformat": 4,
 "nbformat_minor": 5
}
