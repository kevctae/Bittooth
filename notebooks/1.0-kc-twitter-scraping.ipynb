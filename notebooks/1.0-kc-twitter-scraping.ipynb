{
 "cells": [
  {
   "cell_type": "markdown",
   "id": "259ca2e9",
   "metadata": {},
   "source": [
    "# Twitter Scrapping Tool"
   ]
  },
  {
   "cell_type": "markdown",
   "id": "0c39bee8",
   "metadata": {},
   "source": [
    "## Resources\n",
    "\n",
    "- [Analyzing Tweets with NLP in minutes with Spark, Optimus and Twint](https://towardsdatascience.com/analyzing-tweets-with-nlp-in-minutes-with-spark-optimus-and-twint-a0c96084995f)"
   ]
  },
  {
   "cell_type": "markdown",
   "id": "0da56f03",
   "metadata": {},
   "source": [
    "## Install Twint and Requirements"
   ]
  },
  {
   "cell_type": "code",
   "execution_count": null,
   "id": "88b25149",
   "metadata": {},
   "outputs": [],
   "source": [
    "%%capture\n",
    "\n",
    "# Install \"twint\" and requirements\n",
    "!pip install -e ./twint -r ./twint/requirements.txt\n",
    "!pip install -r requirements.txt\n",
    "\n",
    "# Enable extension\n",
    "!jupyter nbextension enable --py widgetsnbextension"
   ]
  },
  {
   "cell_type": "code",
   "execution_count": null,
   "id": "1e8ea48f",
   "metadata": {},
   "outputs": [],
   "source": [
    "# Enable extension\n",
    "!jupyter nbextension enable --py widgetsnbextension"
   ]
  },
  {
   "cell_type": "markdown",
   "id": "bad8d47a",
   "metadata": {},
   "source": [
    "## Import and Setup Libraries"
   ]
  },
  {
   "cell_type": "code",
   "execution_count": 1,
   "id": "312b67e1",
   "metadata": {},
   "outputs": [],
   "source": [
    "# Solve compatibility issues with notebooks and RunTime errors.\n",
    "import nest_asyncio\n",
    "nest_asyncio.apply()"
   ]
  },
  {
   "cell_type": "code",
   "execution_count": 2,
   "id": "eebb49b1",
   "metadata": {},
   "outputs": [],
   "source": [
    "import twint\n",
    "import pandas as pd\n",
    "from datetime import datetime, timedelta\n",
    "from tqdm.notebook import tqdm"
   ]
  },
  {
   "cell_type": "markdown",
   "id": "2c803390",
   "metadata": {},
   "source": [
    "## Scrape Twitter according to Config"
   ]
  },
  {
   "cell_type": "code",
   "execution_count": 7,
   "id": "4f79ee16",
   "metadata": {},
   "outputs": [],
   "source": [
    "# Function for running single/multiple search on a date interval\n",
    "def scrape_twitter(search, limit, since, until=None, output=\"../data/output.csv\"):\n",
    "    \n",
    "    # Initialize search configuration\n",
    "    config = twint.Config()\n",
    "\n",
    "    # Search keys\n",
    "    config.Search = search\n",
    "\n",
    "    # Search settings\n",
    "    config.Lang = \"en\"\n",
    "    config.Limit = limit\n",
    "    config.Verified = False\n",
    "    \n",
    "    # Output settings\n",
    "    config.Hide_output = True\n",
    "    config.Store_csv = True\n",
    "    config.Output = output\n",
    "    config.Pandas = True\n",
    "    \n",
    "    # Run search\n",
    "    if not until:\n",
    "        until = since\n",
    "        \n",
    "    df = pd.DataFrame()\n",
    "    \n",
    "    start = datetime.strptime(since, '%Y-%m-%d')\n",
    "    end = datetime.strptime(until, '%Y-%m-%d')\n",
    "    delta = end - start\n",
    "    \n",
    "    for i in tqdm(range(1, delta.days + 2)):\n",
    "        itr = start + timedelta(days=i)\n",
    "        config.Until = itr.strftime('%Y-%m-%d')\n",
    "        \n",
    "        twint.run.Search(config)\n",
    "        \n",
    "        df = pd.concat([df, twint.storage.panda.Tweets_df], ignore_index=True)\n",
    "        df = df.drop_duplicates(subset='id')\n",
    "    \n",
    "    return df"
   ]
  },
  {
   "cell_type": "code",
   "execution_count": null,
   "id": "91dd72e1",
   "metadata": {},
   "outputs": [
    {
     "data": {
      "application/vnd.jupyter.widget-view+json": {
       "model_id": "ed8f01336e8043f7b6a38e73c1c71e26",
       "version_major": 2,
       "version_minor": 0
      },
      "text/plain": [
       "  0%|          | 0/2 [00:00<?, ?it/s]"
      ]
     },
     "metadata": {},
     "output_type": "display_data"
    }
   ],
   "source": [
    "df = scrape_twitter(\n",
    "    search=\"bitcoin\",\n",
    "    limit=500,\n",
    "    since='2021-10-29',\n",
    "    until='2021-10-30'\n",
    ")"
   ]
  },
  {
   "cell_type": "code",
   "execution_count": null,
   "id": "a84a90da",
   "metadata": {},
   "outputs": [],
   "source": [
    "df"
   ]
  },
  {
   "cell_type": "code",
   "execution_count": null,
   "id": "4189212f",
   "metadata": {},
   "outputs": [],
   "source": []
  }
 ],
 "metadata": {
  "kernelspec": {
   "display_name": "Python 3 (ipykernel)",
   "language": "python",
   "name": "python3"
  },
  "language_info": {
   "codemirror_mode": {
    "name": "ipython",
    "version": 3
   },
   "file_extension": ".py",
   "mimetype": "text/x-python",
   "name": "python",
   "nbconvert_exporter": "python",
   "pygments_lexer": "ipython3",
   "version": "3.8.12"
  }
 },
 "nbformat": 4,
 "nbformat_minor": 5
}
