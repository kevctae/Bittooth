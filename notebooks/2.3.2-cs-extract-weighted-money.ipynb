{
 "cells": [
  {
   "cell_type": "code",
   "execution_count": 1,
   "metadata": {},
   "outputs": [],
   "source": [
    "# imports\n",
    "import pandas as pd\n",
    "import matplotlib.pyplot as plt\n",
    "import numpy as np\n",
    "import datetime as dt\n",
    "from scipy.ndimage import gaussian_filter1d"
   ]
  },
  {
   "cell_type": "code",
   "execution_count": 3,
   "metadata": {},
   "outputs": [],
   "source": [
    "# read files\n",
    "df_money = pd.read_pickle(\"../data/cleaned/by_id_verified_money_2020-2021.pkl\")\n",
    "df_tweet = pd.read_pickle(\"../data/cleaned/tweets_verified_2020-2021_cleaned.pkl\")\n",
    "df_bitcoin = pd.read_csv(\"../data/raw/bitcoin_value_2020-2021.csv\", parse_dates=[\"datetime\"])\n",
    "\n",
    "# get differential of bitcoin value\n",
    "df_bitcoin['diff'] = df_bitcoin['close_bitcoin'].diff()"
   ]
  },
  {
   "cell_type": "code",
   "execution_count": null,
   "metadata": {},
   "outputs": [],
   "source": [
    "# merge tweets and sentiment values\n",
    "df_tweet_money = pd.merge(df_tweet, df_money, how='left', on='id')\n",
    "df_tweet_money['money'] = df_tweet_money['money'].fillna(0)\n",
    "\n",
    "# sum metrics\n",
    "df_tweet_money['sum_metrics'] = df_tweet_money['replies_count'] + \\\n",
    "                                    df_tweet_money['retweets_count'] + \\\n",
    "                                    df_tweet_money['likes_count']\n",
    "\n",
    "# get weights\n",
    "df_freq = df_tweet_money.groupby(['sum_metrics']).agg({'id':'count'}).reset_index()\n",
    "df_freq = df_freq.rename(columns={'id': 'freq_tweets'})\n",
    "\n",
    "freq_max = df_freq['freq_tweets'].max()\n",
    "freq_min = df_freq['freq_tweets'].min()\n",
    "\n",
    "df_freq['freq_tweets_norm'] = (df_freq['freq_tweets'] - freq_min) / (freq_max - freq_min)\n",
    "df_freq['weights'] = 1 - df_freq['freq_tweets_norm']\n",
    "\n",
    "display(df_freq)"
   ]
  },
  {
   "cell_type": "code",
   "execution_count": null,
   "metadata": {},
   "outputs": [],
   "source": [
    "_ = plt.figure(figsize=(10, 7))\n",
    "\n",
    "_ = plt.bar(df_freq['sum_metrics'][0:50], df_freq['freq_tweets_norm'][0:50], label='freq_tweets_norm', alpha=0.5)\n",
    "_ = plt.bar(df_freq['sum_metrics'][0:50], df_freq['weights'][0:50], label='weights', alpha=0.5)\n",
    "\n",
    "_ = plt.legend()\n",
    "_ = plt.xlabel(\"Sums of Metrics\")\n",
    "_ = plt.ylabel(\"Frequency of Tweets (Normalized)\")\n",
    "\n",
    "_ = plt.savefig(\"figures/sum_metr_vs_freq.svg\", format='svg')\n",
    "_ = plt.show()"
   ]
  },
  {
   "cell_type": "code",
   "execution_count": null,
   "metadata": {},
   "outputs": [],
   "source": [
    "# merge weights with \n",
    "df = pd.merge(df_tweet_money,\\\n",
    "              df_freq[['sum_metrics', 'weights']], \\\n",
    "              how='left', \\\n",
    "              on='sum_metrics')\n",
    "\n",
    "# get weighted sentiments\n",
    "df['weighted_money'] = df['money'] * df['weights']\n",
    "\n",
    "display(df[['money', 'sum_metrics', 'weights', 'weighted_money']].head())"
   ]
  },
  {
   "cell_type": "code",
   "execution_count": null,
   "metadata": {},
   "outputs": [],
   "source": [
    "# group by date and get the mean of weighted_sentiment\n",
    "df_by_date = df.groupby(df['created_at'].dt.date).agg({'weighted_money': 'mean'}).reset_index()\n",
    "\n",
    "display(df_by_date.head())"
   ]
  },
  {
   "cell_type": "code",
   "execution_count": null,
   "metadata": {},
   "outputs": [],
   "source": [
    "# clean data before export\n",
    "df_by_date[\"created_at\"] = pd.to_datetime(df_by_date[\"created_at\"])\n",
    "df_freq = df_freq.rename(columns={'created_at': 'datetime'})\n",
    "\n",
    "# export as pickle\n",
    "df_by_date.to_pickle(\"../data/cleaned/by_date_verified_weighted_money_2020-2021.pkl\")"
   ]
  },
  {
   "cell_type": "code",
   "execution_count": null,
   "metadata": {},
   "outputs": [],
   "source": [
    "# try reading pickle\n",
    "df_test = pd.read_pickle(\"../data/cleaned/by_date_verified_weighted_money_2020-2021.pkl\")\n",
    "\n",
    "display(df_test.dtypes)\n",
    "display(df_test.head())"
   ]
  },
  {
   "cell_type": "code",
   "execution_count": null,
   "metadata": {},
   "outputs": [],
   "source": [
    "def plot_sent_vs_bit(from_date, to_date, sigma, save_to=None):\n",
    "    fig, ax1 = plt.subplots(figsize=(10, 7))\n",
    "\n",
    "    _ = ax1.set_xlabel(\"Time (Month)\")\n",
    "    lns1 = ax1.plot(df_by_date['created_at'],\n",
    "                    gaussian_filter1d(df_by_date['weighted_money'], sigma), \n",
    "                    color='blue',\n",
    "                    label='Weighted Money')\n",
    "    _ = ax1.set_ylabel(\"Weighted Money\")\n",
    "\n",
    "    ax2 = ax1.twinx()\n",
    "    lns2 = ax2.plot(df_bitcoin['datetime'],\n",
    "                    gaussian_filter1d(df_bitcoin['diff'], sigma),\n",
    "                    color='orange',\n",
    "                    label='Diff. Bitcoin')\n",
    "    _ = ax2.set_ylabel(\"Diff. Bitcoin Value (Dollar)\")\n",
    "\n",
    "    lns = lns1 + lns2\n",
    "    labs = [l.get_label() for l in lns]\n",
    "    _ = ax1.legend(lns, labs, loc=3)\n",
    "    _ = ax1.set_xlim(pd.Timestamp(from_date), pd.Timestamp(to_date))\n",
    "\n",
    "    if save_to is not None:\n",
    "        _ = plt.savefig(save_to, format='svg')\n",
    "    _ = plt.show()"
   ]
  },
  {
   "cell_type": "code",
   "execution_count": null,
   "metadata": {},
   "outputs": [],
   "source": [
    "# plot weighted sentiment vs diff. bitcoin value\n",
    "plot_sent_vs_bit('2020-01-01', '2021-12-31', 5)"
   ]
  },
  {
   "cell_type": "code",
   "execution_count": null,
   "metadata": {},
   "outputs": [],
   "source": [
    "# plot weighted sentiment vs diff. bitcoin value (2021 only)\n",
    "plot_sent_vs_bit('2021-01-01', '2021-12-31', 5)"
   ]
  },
  {
   "cell_type": "code",
   "execution_count": null,
   "metadata": {},
   "outputs": [],
   "source": []
  }
 ],
 "metadata": {
  "kernelspec": {
   "display_name": "Python 3 (ipykernel)",
   "language": "python",
   "name": "python3"
  },
  "language_info": {
   "codemirror_mode": {
    "name": "ipython",
    "version": 3
   },
   "file_extension": ".py",
   "mimetype": "text/x-python",
   "name": "python",
   "nbconvert_exporter": "python",
   "pygments_lexer": "ipython3",
   "version": "3.8.12"
  }
 },
 "nbformat": 4,
 "nbformat_minor": 4
}
