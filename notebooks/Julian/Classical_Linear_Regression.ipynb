{
 "cells": [
  {
   "cell_type": "code",
   "execution_count": 16,
   "metadata": {},
   "outputs": [],
   "source": [
    "import pandas as pd\n",
    "import matplotlib.pyplot as plt\n",
    "from sklearn.model_selection import train_test_split\n",
    "from sklearn.linear_model import LinearRegression\n",
    "from tvDatafeed import TvDatafeed, Interval\n",
    "\n",
    "import pandas_ta as ta"
   ]
  },
  {
   "cell_type": "code",
   "execution_count": 2,
   "metadata": {},
   "outputs": [],
   "source": [
    "import requests\n",
    "import json\n",
    "import pandas as pd\n",
    "import numpy as np\n",
    "import datetime"
   ]
  },
  {
   "cell_type": "code",
   "execution_count": 20,
   "metadata": {},
   "outputs": [],
   "source": [
    "from statsmodels.formula.api import ols\n",
    "from statsmodels.stats.outliers_influence import variance_inflation_factor as vif"
   ]
  },
  {
   "cell_type": "code",
   "execution_count": 4,
   "metadata": {},
   "outputs": [],
   "source": [
    "n=1"
   ]
  },
  {
   "cell_type": "code",
   "execution_count": 121,
   "metadata": {},
   "outputs": [
    {
     "name": "stderr",
     "output_type": "stream",
     "text": [
      "WARNING:tvDatafeed.main:you are using nologin method, data you access may be limited\n"
     ]
    }
   ],
   "source": [
    "tv = TvDatafeed()\n",
    "def getdata(name):\n",
    "    data=tv.get_hist(symbol=name,exchange='BINANCE',interval=Interval.in_daily,n_bars=5000)\n",
    "    data=data.reset_index()\n",
    "#     data[\"datetime\"]=data[\"datetime\"]+datetime.timedelta(days=1)\n",
    "    data[\"datetime\"]=data[\"datetime\"].dt.strftime('%Y-%m-%d')\n",
    "    data2=data[data[\"datetime\"]>=\"2020-01-01\"].copy()\n",
    "    data2[\"datetime\"] = pd.to_datetime(data2[\"datetime\"])\n",
    "    return data2"
   ]
  },
  {
   "cell_type": "code",
   "execution_count": 122,
   "metadata": {},
   "outputs": [],
   "source": [
    "def getapi(api):\n",
    "    response_API=requests.get(api)\n",
    "    data=response_API.text\n",
    "    parse_json=json.loads(data)\n",
    "    df = pd.json_normalize(parse_json['values'])\n",
    "    listtime=list(df['x'])\n",
    "    listtime2=[]\n",
    "    for i in listtime:\n",
    "        listtime2.append(datetime.datetime.fromtimestamp(i).strftime('%Y-%m-%d'))\n",
    "    df['datetime']=pd.Series(listtime2)\n",
    "    df[\"datetime\"] = pd.to_datetime(df[\"datetime\"])\n",
    "#     df[\"datetime\"]=df[\"datetime\"]+datetime.timedelta(days=1)\n",
    "    df=df[df[\"datetime\"]>=\"2020-01-01\"].copy()\n",
    "    df=df.drop(columns=['x'])\n",
    "    df.rename(columns={'y':'value'},inplace=True)\n",
    "    df=df.drop_duplicates(subset=['datetime'])\n",
    "    return df"
   ]
  },
  {
   "cell_type": "code",
   "execution_count": 123,
   "metadata": {},
   "outputs": [
    {
     "data": {
      "text/html": [
       "<div>\n",
       "<style scoped>\n",
       "    .dataframe tbody tr th:only-of-type {\n",
       "        vertical-align: middle;\n",
       "    }\n",
       "\n",
       "    .dataframe tbody tr th {\n",
       "        vertical-align: top;\n",
       "    }\n",
       "\n",
       "    .dataframe thead th {\n",
       "        text-align: right;\n",
       "    }\n",
       "</style>\n",
       "<table border=\"1\" class=\"dataframe\">\n",
       "  <thead>\n",
       "    <tr style=\"text-align: right;\">\n",
       "      <th></th>\n",
       "      <th>datetime</th>\n",
       "      <th>volume</th>\n",
       "      <th>open</th>\n",
       "      <th>high</th>\n",
       "      <th>low</th>\n",
       "      <th>close</th>\n",
       "    </tr>\n",
       "  </thead>\n",
       "  <tbody>\n",
       "    <tr>\n",
       "      <th>1643</th>\n",
       "      <td>2022-02-14</td>\n",
       "      <td>38093.46331</td>\n",
       "      <td>42535.94</td>\n",
       "      <td>44751.40</td>\n",
       "      <td>42427.03</td>\n",
       "      <td>44544.86</td>\n",
       "    </tr>\n",
       "    <tr>\n",
       "      <th>1644</th>\n",
       "      <td>2022-02-15</td>\n",
       "      <td>28471.02342</td>\n",
       "      <td>44544.85</td>\n",
       "      <td>44549.97</td>\n",
       "      <td>43307.00</td>\n",
       "      <td>43873.56</td>\n",
       "    </tr>\n",
       "    <tr>\n",
       "      <th>1645</th>\n",
       "      <td>2022-02-16</td>\n",
       "      <td>47242.42931</td>\n",
       "      <td>43873.56</td>\n",
       "      <td>44164.71</td>\n",
       "      <td>40073.21</td>\n",
       "      <td>40515.70</td>\n",
       "    </tr>\n",
       "    <tr>\n",
       "      <th>1646</th>\n",
       "      <td>2022-02-17</td>\n",
       "      <td>43845.92241</td>\n",
       "      <td>40515.71</td>\n",
       "      <td>40959.88</td>\n",
       "      <td>39450.00</td>\n",
       "      <td>39974.44</td>\n",
       "    </tr>\n",
       "    <tr>\n",
       "      <th>1647</th>\n",
       "      <td>2022-02-18</td>\n",
       "      <td>17391.99591</td>\n",
       "      <td>39974.45</td>\n",
       "      <td>40444.32</td>\n",
       "      <td>39639.03</td>\n",
       "      <td>39906.93</td>\n",
       "    </tr>\n",
       "  </tbody>\n",
       "</table>\n",
       "</div>"
      ],
      "text/plain": [
       "       datetime       volume      open      high       low     close\n",
       "1643 2022-02-14  38093.46331  42535.94  44751.40  42427.03  44544.86\n",
       "1644 2022-02-15  28471.02342  44544.85  44549.97  43307.00  43873.56\n",
       "1645 2022-02-16  47242.42931  43873.56  44164.71  40073.21  40515.70\n",
       "1646 2022-02-17  43845.92241  40515.71  40959.88  39450.00  39974.44\n",
       "1647 2022-02-18  17391.99591  39974.45  40444.32  39639.03  39906.93"
      ]
     },
     "execution_count": 123,
     "metadata": {},
     "output_type": "execute_result"
    }
   ],
   "source": [
    "bitcoi=getdata('BTCUSDT')\n",
    "eth=getdata('ETHUSDT')\n",
    "bnb=getdata('BNBUSDT')\n",
    "ada=getdata('ADAUSDT')\n",
    "bitcoi=bitcoi[[\"datetime\",\"volume\",\"open\",\"high\",\"low\",\"close\"]]\n",
    "bitcoi.tail(5)"
   ]
  },
  {
   "cell_type": "code",
   "execution_count": 124,
   "metadata": {},
   "outputs": [],
   "source": [
    "\n",
    "number_transactions=getapi('https://api.blockchain.info/charts/n-transactions?timespan=4years&rollingAverage=24hours&format=json&sampled=false')\n",
    "number_address=getapi('https://api.blockchain.info/charts/n-unique-addresses?timespan=4years&rollingAverage=24hours&format=json&sampled=false')\n",
    "transaction_second=getapi('https://api.blockchain.info/charts/transactions-per-second?timespan=4years&rollingAverage=24hours&format=json&sampled=false')\n",
    "transaction_second=transaction_second.groupby(['datetime']).mean().reset_index()\n",
    "total_bitcoin=getapi('https://api.blockchain.info/charts/total-bitcoins?timespan=4years&rollingAverage=24hours&format=json&sampled=true')\n",
    "volume_trade=getapi('https://api.blockchain.info/charts/trade-volume?timespan=4years&rollingAverage=24hours&format=json&sampled=false')\n",
    "hash_rate=getapi('https://api.blockchain.info/charts/hash-rate?timespan=4years&rollingAverage=24hours&format=json&sampled=false')"
   ]
  },
  {
   "cell_type": "code",
   "execution_count": 125,
   "metadata": {},
   "outputs": [],
   "source": [
    "\n",
    "bitcoin=bitcoi.merge(eth[[\"datetime\",\"close\"]],on='datetime',how='left',suffixes=('_bitcoin', '_eth'))\n",
    "bitcoin=bitcoin.merge(bnb[[\"datetime\",\"close\"]],on='datetime',how='left')\n",
    "bitcoin=bitcoin.merge(ada[[\"datetime\",\"close\"]],on='datetime',how='left',suffixes=('_bnb', '_ada'))"
   ]
  },
  {
   "cell_type": "code",
   "execution_count": 126,
   "metadata": {},
   "outputs": [],
   "source": [
    "\n",
    "data_api=number_transactions.merge(number_address,on='datetime',how='left',suffixes=('_number_transaction', '_number_address'))\n",
    "data_api=data_api.merge(transaction_second,on='datetime',how='left')\n",
    "data_api=data_api.merge(total_bitcoin,on='datetime',how='left',suffixes=('_transaction_second', '_total_bitcoin'))\n",
    "data_api=data_api.merge(volume_trade,on='datetime',how='left')\n",
    "data_api=data_api.merge(hash_rate,on='datetime',how='left',suffixes=('_volume_trade', '_hash_rate'))\n"
   ]
  },
  {
   "cell_type": "code",
   "execution_count": 127,
   "metadata": {},
   "outputs": [
    {
     "data": {
      "text/html": [
       "<div>\n",
       "<style scoped>\n",
       "    .dataframe tbody tr th:only-of-type {\n",
       "        vertical-align: middle;\n",
       "    }\n",
       "\n",
       "    .dataframe tbody tr th {\n",
       "        vertical-align: top;\n",
       "    }\n",
       "\n",
       "    .dataframe thead th {\n",
       "        text-align: right;\n",
       "    }\n",
       "</style>\n",
       "<table border=\"1\" class=\"dataframe\">\n",
       "  <thead>\n",
       "    <tr style=\"text-align: right;\">\n",
       "      <th></th>\n",
       "      <th>datetime</th>\n",
       "      <th>volume</th>\n",
       "      <th>open</th>\n",
       "      <th>high</th>\n",
       "      <th>low</th>\n",
       "      <th>close_bitcoin</th>\n",
       "      <th>close_eth</th>\n",
       "      <th>close_bnb</th>\n",
       "      <th>close_ada</th>\n",
       "      <th>value_number_transaction</th>\n",
       "      <th>value_number_address</th>\n",
       "      <th>value_transaction_second</th>\n",
       "      <th>value_total_bitcoin</th>\n",
       "      <th>value_volume_trade</th>\n",
       "      <th>value_hash_rate</th>\n",
       "    </tr>\n",
       "  </thead>\n",
       "  <tbody>\n",
       "    <tr>\n",
       "      <th>775</th>\n",
       "      <td>2022-02-14</td>\n",
       "      <td>38093.46331</td>\n",
       "      <td>42535.94</td>\n",
       "      <td>44751.40</td>\n",
       "      <td>42427.03</td>\n",
       "      <td>44544.86</td>\n",
       "      <td>3183.52</td>\n",
       "      <td>432.4</td>\n",
       "      <td>1.107</td>\n",
       "      <td>273623.0</td>\n",
       "      <td>680501.0</td>\n",
       "      <td>2.481250</td>\n",
       "      <td>1.895708e+07</td>\n",
       "      <td>1.878267e+08</td>\n",
       "      <td>2.321888e+08</td>\n",
       "    </tr>\n",
       "    <tr>\n",
       "      <th>776</th>\n",
       "      <td>2022-02-15</td>\n",
       "      <td>28471.02342</td>\n",
       "      <td>44544.85</td>\n",
       "      <td>44549.97</td>\n",
       "      <td>43307.00</td>\n",
       "      <td>43873.56</td>\n",
       "      <td>3122.30</td>\n",
       "      <td>427.3</td>\n",
       "      <td>1.082</td>\n",
       "      <td>266788.0</td>\n",
       "      <td>677777.0</td>\n",
       "      <td>3.030208</td>\n",
       "      <td>1.895797e+07</td>\n",
       "      <td>2.354059e+08</td>\n",
       "      <td>2.069797e+08</td>\n",
       "    </tr>\n",
       "    <tr>\n",
       "      <th>777</th>\n",
       "      <td>2022-02-16</td>\n",
       "      <td>47242.42931</td>\n",
       "      <td>43873.56</td>\n",
       "      <td>44164.71</td>\n",
       "      <td>40073.21</td>\n",
       "      <td>40515.70</td>\n",
       "      <td>2891.87</td>\n",
       "      <td>402.4</td>\n",
       "      <td>1.020</td>\n",
       "      <td>255573.0</td>\n",
       "      <td>665429.0</td>\n",
       "      <td>3.176042</td>\n",
       "      <td>1.895885e+07</td>\n",
       "      <td>1.735183e+08</td>\n",
       "      <td>2.132565e+08</td>\n",
       "    </tr>\n",
       "    <tr>\n",
       "      <th>778</th>\n",
       "      <td>2022-02-17</td>\n",
       "      <td>43845.92241</td>\n",
       "      <td>40515.71</td>\n",
       "      <td>40959.88</td>\n",
       "      <td>39450.00</td>\n",
       "      <td>39974.44</td>\n",
       "      <td>2779.48</td>\n",
       "      <td>399.2</td>\n",
       "      <td>0.995</td>\n",
       "      <td>261055.0</td>\n",
       "      <td>672505.0</td>\n",
       "      <td>3.091319</td>\n",
       "      <td>1.895974e+07</td>\n",
       "      <td>3.271538e+08</td>\n",
       "      <td>1.862941e+08</td>\n",
       "    </tr>\n",
       "    <tr>\n",
       "      <th>779</th>\n",
       "      <td>2022-02-18</td>\n",
       "      <td>17391.99591</td>\n",
       "      <td>39974.45</td>\n",
       "      <td>40444.32</td>\n",
       "      <td>39639.03</td>\n",
       "      <td>39906.93</td>\n",
       "      <td>2735.28</td>\n",
       "      <td>397.3</td>\n",
       "      <td>0.987</td>\n",
       "      <td>NaN</td>\n",
       "      <td>NaN</td>\n",
       "      <td>NaN</td>\n",
       "      <td>NaN</td>\n",
       "      <td>NaN</td>\n",
       "      <td>NaN</td>\n",
       "    </tr>\n",
       "  </tbody>\n",
       "</table>\n",
       "</div>"
      ],
      "text/plain": [
       "      datetime       volume      open      high       low  close_bitcoin  \\\n",
       "775 2022-02-14  38093.46331  42535.94  44751.40  42427.03       44544.86   \n",
       "776 2022-02-15  28471.02342  44544.85  44549.97  43307.00       43873.56   \n",
       "777 2022-02-16  47242.42931  43873.56  44164.71  40073.21       40515.70   \n",
       "778 2022-02-17  43845.92241  40515.71  40959.88  39450.00       39974.44   \n",
       "779 2022-02-18  17391.99591  39974.45  40444.32  39639.03       39906.93   \n",
       "\n",
       "     close_eth  close_bnb  close_ada  value_number_transaction  \\\n",
       "775    3183.52      432.4      1.107                  273623.0   \n",
       "776    3122.30      427.3      1.082                  266788.0   \n",
       "777    2891.87      402.4      1.020                  255573.0   \n",
       "778    2779.48      399.2      0.995                  261055.0   \n",
       "779    2735.28      397.3      0.987                       NaN   \n",
       "\n",
       "     value_number_address  value_transaction_second  value_total_bitcoin  \\\n",
       "775              680501.0                  2.481250         1.895708e+07   \n",
       "776              677777.0                  3.030208         1.895797e+07   \n",
       "777              665429.0                  3.176042         1.895885e+07   \n",
       "778              672505.0                  3.091319         1.895974e+07   \n",
       "779                   NaN                       NaN                  NaN   \n",
       "\n",
       "     value_volume_trade  value_hash_rate  \n",
       "775        1.878267e+08     2.321888e+08  \n",
       "776        2.354059e+08     2.069797e+08  \n",
       "777        1.735183e+08     2.132565e+08  \n",
       "778        3.271538e+08     1.862941e+08  \n",
       "779                 NaN              NaN  "
      ]
     },
     "execution_count": 127,
     "metadata": {},
     "output_type": "execute_result"
    }
   ],
   "source": [
    "bitcoin=bitcoin.merge(data_api,on='datetime',how='left')\n",
    "bitcoin.tail(5)"
   ]
  },
  {
   "cell_type": "code",
   "execution_count": 128,
   "metadata": {},
   "outputs": [
    {
     "data": {
      "image/png": "[encoded data removed]",
      "text/plain": [
       "<Figure size 864x504 with 1 Axes>"
      ]
     },
     "metadata": {
      "needs_background": "light"
     },
     "output_type": "display_data"
    }
   ],
   "source": [
    "plt.figure(figsize = (12, 7))\n",
    "plt.plot(bitcoin[\"datetime\"], bitcoin[\"close_bitcoin\"], color='goldenrod', lw=2)\n",
    "plt.title(\"Bitcoin Price over time\", size=25)\n",
    "plt.xlabel(\"Time\", size=20)\n",
    "plt.ylabel(\"$ Price\", size=20)\n",
    "plt.show()"
   ]
  },
  {
   "cell_type": "code",
   "execution_count": 129,
   "metadata": {},
   "outputs": [
    {
     "data": {
      "image/png": "[encoded data removed]",
      "text/plain": [
       "<Figure size 864x504 with 1 Axes>"
      ]
     },
     "metadata": {
      "needs_background": "light"
     },
     "output_type": "display_data"
    }
   ],
   "source": [
    "plt.figure(figsize = (12, 7))\n",
    "plt.plot(bitcoin[\"datetime\"], bitcoin[\"volume\"], color='royalblue', lw=2)\n",
    "plt.title(\"Bitcoin Volume over time\", size=25)\n",
    "plt.xlabel(\"Time\", size=20)\n",
    "plt.ylabel(\"Volume\", size=20);"
   ]
  },
  {
   "cell_type": "code",
   "execution_count": 130,
   "metadata": {},
   "outputs": [
    {
     "data": {
      "text/plain": [
       "datetime                     0\n",
       "volume                       0\n",
       "open                         0\n",
       "high                         0\n",
       "low                          0\n",
       "close_bitcoin                0\n",
       "close_eth                    0\n",
       "close_bnb                    0\n",
       "close_ada                    0\n",
       "value_number_transaction     1\n",
       "value_number_address         3\n",
       "value_transaction_second     1\n",
       "value_total_bitcoin         36\n",
       "value_volume_trade           1\n",
       "value_hash_rate              1\n",
       "dtype: int64"
      ]
     },
     "execution_count": 130,
     "metadata": {},
     "output_type": "execute_result"
    }
   ],
   "source": [
    "bitcoin.isnull().sum()"
   ]
  },
  {
   "cell_type": "markdown",
   "metadata": {},
   "source": [
    "### Linear Regression"
   ]
  },
  {
   "cell_type": "markdown",
   "metadata": {},
   "source": [
    "Features - technical indicators.\n",
    "Reference: https://www.alpharithms.com/predicting-stock-prices-with-linear-regression-214618/\n"
   ]
  },
  {
   "cell_type": "code",
   "execution_count": 131,
   "metadata": {},
   "outputs": [],
   "source": [
    "'''\n",
    "function to calculate technical indicators'''\n",
    "def technical_indicator(df, column, technical_indicator, length):\n",
    "    \n",
    "    if technical_indicator == 'EMA':\n",
    "        df.ta.ema(close = column, length = length, append = True, lookahead=False)\n",
    "        \n",
    "    return df\n",
    "        \n",
    "    "
   ]
  },
  {
   "cell_type": "code",
   "execution_count": 132,
   "metadata": {},
   "outputs": [],
   "source": [
    "'''\n",
    "function to calculate return'''\n",
    "def calculate_return(df, columns, n):\n",
    "    \n",
    "    if type(columns) == list:\n",
    "        for column in columns:\n",
    "            df[column+'_return'] = df[column].pct_change(n)\n",
    "            \n",
    "    elif type(columns)==str:\n",
    "        df[columns+'_return'] = df[columns].pct_change(n)\n",
    "    \n",
    "    return df"
   ]
  },
  {
   "cell_type": "code",
   "execution_count": 133,
   "metadata": {},
   "outputs": [],
   "source": [
    "\n",
    "def lag_columns(df, columns, n):\n",
    "    \n",
    "    if type(columns) == list:\n",
    "        for column in columns:\n",
    "            df[column+\"_\"+str(n)+\"_days_lagged\"] = df[column].shift(periods = n)\n",
    "    elif type(columns)==str:\n",
    "        df[columns+\"_\"+str(n)+\"_days_lagged\"] = df[columns].shift(periods = n)\n",
    "        \n",
    "    return df"
   ]
  },
  {
   "cell_type": "code",
   "execution_count": 138,
   "metadata": {},
   "outputs": [],
   "source": [
    "bitcoin = technical_indicator(bitcoin, 'close_bitcoin', 'EMA', length = 2)\n",
    "bitcoin = lag_columns(bitcoin, ['EMA_2'], +1)\n",
    "bitcoin_modified = calculate_return(bitcoin, ['close_bitcoin','EMA_2_1_days_lagged' ], 1)\n"
   ]
  },
  {
   "cell_type": "code",
   "execution_count": 139,
   "metadata": {},
   "outputs": [
    {
     "data": {
      "text/plain": [
       "<matplotlib.legend.Legend at 0x15170d580>"
      ]
     },
     "execution_count": 139,
     "metadata": {},
     "output_type": "execute_result"
    },
    {
     "data": {
      "image/png": "[encoded data removed]",
      "text/plain": [
       "<Figure size 432x288 with 1 Axes>"
      ]
     },
     "metadata": {
      "needs_background": "light"
     },
     "output_type": "display_data"
    }
   ],
   "source": [
    "fig, ax = plt.subplots()\n",
    "\n",
    "ax.plot(bitcoin['datetime'],bitcoin['close_bitcoin'], label = 'Bitcoin Price')\n",
    "ax.plot(bitcoin['datetime'],bitcoin['EMA_2'], label = 'Bitcoin Price Moving Average')\n",
    "\n",
    "plt.title(\"Bitcoin Price and Exponential Moving Average\")\n",
    "plt.legend()"
   ]
  },
  {
   "cell_type": "markdown",
   "metadata": {},
   "source": [
    "# We need to lag the features to avoid leakage (lookahead bias). That is, you cannot use tomorrow's data to predict the price for tomorrow. We need to use what we know today to predict the price tomorrow."
   ]
  },
  {
   "cell_type": "code",
   "execution_count": 145,
   "metadata": {},
   "outputs": [
    {
     "data": {
      "text/html": [
       "<div>\n",
       "<style scoped>\n",
       "    .dataframe tbody tr th:only-of-type {\n",
       "        vertical-align: middle;\n",
       "    }\n",
       "\n",
       "    .dataframe tbody tr th {\n",
       "        vertical-align: top;\n",
       "    }\n",
       "\n",
       "    .dataframe thead th {\n",
       "        text-align: right;\n",
       "    }\n",
       "</style>\n",
       "<table border=\"1\" class=\"dataframe\">\n",
       "  <thead>\n",
       "    <tr style=\"text-align: right;\">\n",
       "      <th></th>\n",
       "      <th>datetime</th>\n",
       "      <th>volume</th>\n",
       "      <th>open</th>\n",
       "      <th>high</th>\n",
       "      <th>low</th>\n",
       "      <th>close_bitcoin</th>\n",
       "      <th>close_eth</th>\n",
       "      <th>close_bnb</th>\n",
       "      <th>close_ada</th>\n",
       "      <th>value_number_transaction</th>\n",
       "      <th>value_number_address</th>\n",
       "      <th>value_transaction_second</th>\n",
       "      <th>value_total_bitcoin</th>\n",
       "      <th>value_volume_trade</th>\n",
       "      <th>value_hash_rate</th>\n",
       "      <th>EMA_2</th>\n",
       "      <th>EMA_2_1_days_lagged</th>\n",
       "      <th>close_bitcoin_return</th>\n",
       "      <th>EMA_2_1_days_lagged_return</th>\n",
       "    </tr>\n",
       "  </thead>\n",
       "  <tbody>\n",
       "    <tr>\n",
       "      <th>0</th>\n",
       "      <td>2020-01-01</td>\n",
       "      <td>31951.483932</td>\n",
       "      <td>7200.77</td>\n",
       "      <td>7212.50</td>\n",
       "      <td>6924.74</td>\n",
       "      <td>6965.71</td>\n",
       "      <td>127.19</td>\n",
       "      <td>13.0105</td>\n",
       "      <td>0.03269</td>\n",
       "      <td>295567.0</td>\n",
       "      <td>475461.0</td>\n",
       "      <td>3.156424</td>\n",
       "      <td>1.813287e+07</td>\n",
       "      <td>2.860097e+07</td>\n",
       "      <td>9.671772e+07</td>\n",
       "      <td>NaN</td>\n",
       "      <td>NaN</td>\n",
       "      <td>NaN</td>\n",
       "      <td>NaN</td>\n",
       "    </tr>\n",
       "    <tr>\n",
       "      <th>1</th>\n",
       "      <td>2020-01-02</td>\n",
       "      <td>68428.500451</td>\n",
       "      <td>6965.49</td>\n",
       "      <td>7405.00</td>\n",
       "      <td>6871.04</td>\n",
       "      <td>7344.96</td>\n",
       "      <td>134.35</td>\n",
       "      <td>13.6474</td>\n",
       "      <td>0.03417</td>\n",
       "      <td>316517.0</td>\n",
       "      <td>523231.0</td>\n",
       "      <td>2.839931</td>\n",
       "      <td>1.813465e+07</td>\n",
       "      <td>6.828297e+07</td>\n",
       "      <td>1.159241e+08</td>\n",
       "      <td>7155.335000</td>\n",
       "      <td>NaN</td>\n",
       "      <td>0.054445</td>\n",
       "      <td>NaN</td>\n",
       "    </tr>\n",
       "    <tr>\n",
       "      <th>2</th>\n",
       "      <td>2020-01-03</td>\n",
       "      <td>29987.974977</td>\n",
       "      <td>7345.00</td>\n",
       "      <td>7404.00</td>\n",
       "      <td>7272.21</td>\n",
       "      <td>7354.11</td>\n",
       "      <td>134.20</td>\n",
       "      <td>13.8092</td>\n",
       "      <td>0.03434</td>\n",
       "      <td>287215.0</td>\n",
       "      <td>465366.0</td>\n",
       "      <td>3.339583</td>\n",
       "      <td>1.813643e+07</td>\n",
       "      <td>1.368703e+08</td>\n",
       "      <td>1.152381e+08</td>\n",
       "      <td>7287.851667</td>\n",
       "      <td>7155.335000</td>\n",
       "      <td>0.001246</td>\n",
       "      <td>NaN</td>\n",
       "    </tr>\n",
       "    <tr>\n",
       "      <th>3</th>\n",
       "      <td>2020-01-04</td>\n",
       "      <td>38331.085604</td>\n",
       "      <td>7354.19</td>\n",
       "      <td>7495.00</td>\n",
       "      <td>7318.00</td>\n",
       "      <td>7358.75</td>\n",
       "      <td>135.37</td>\n",
       "      <td>14.0532</td>\n",
       "      <td>0.03460</td>\n",
       "      <td>287779.0</td>\n",
       "      <td>459065.0</td>\n",
       "      <td>3.481424</td>\n",
       "      <td>1.813822e+07</td>\n",
       "      <td>5.018183e+07</td>\n",
       "      <td>1.118084e+08</td>\n",
       "      <td>7335.117222</td>\n",
       "      <td>7287.851667</td>\n",
       "      <td>0.000631</td>\n",
       "      <td>0.018520</td>\n",
       "    </tr>\n",
       "    <tr>\n",
       "      <th>4</th>\n",
       "      <td>2020-01-05</td>\n",
       "      <td>54635.695316</td>\n",
       "      <td>7357.64</td>\n",
       "      <td>7795.34</td>\n",
       "      <td>7346.76</td>\n",
       "      <td>7758.00</td>\n",
       "      <td>144.15</td>\n",
       "      <td>14.9471</td>\n",
       "      <td>0.03732</td>\n",
       "      <td>299146.0</td>\n",
       "      <td>522665.0</td>\n",
       "      <td>3.192535</td>\n",
       "      <td>1.814001e+07</td>\n",
       "      <td>4.817756e+07</td>\n",
       "      <td>9.260207e+07</td>\n",
       "      <td>7617.039074</td>\n",
       "      <td>7335.117222</td>\n",
       "      <td>0.054255</td>\n",
       "      <td>0.006486</td>\n",
       "    </tr>\n",
       "  </tbody>\n",
       "</table>\n",
       "</div>"
      ],
      "text/plain": [
       "    datetime        volume     open     high      low  close_bitcoin  \\\n",
       "0 2020-01-01  31951.483932  7200.77  7212.50  6924.74        6965.71   \n",
       "1 2020-01-02  68428.500451  6965.49  7405.00  6871.04        7344.96   \n",
       "2 2020-01-03  29987.974977  7345.00  7404.00  7272.21        7354.11   \n",
       "3 2020-01-04  38331.085604  7354.19  7495.00  7318.00        7358.75   \n",
       "4 2020-01-05  54635.695316  7357.64  7795.34  7346.76        7758.00   \n",
       "\n",
       "   close_eth  close_bnb  close_ada  value_number_transaction  \\\n",
       "0     127.19    13.0105    0.03269                  295567.0   \n",
       "1     134.35    13.6474    0.03417                  316517.0   \n",
       "2     134.20    13.8092    0.03434                  287215.0   \n",
       "3     135.37    14.0532    0.03460                  287779.0   \n",
       "4     144.15    14.9471    0.03732                  299146.0   \n",
       "\n",
       "   value_number_address  value_transaction_second  value_total_bitcoin  \\\n",
       "0              475461.0                  3.156424         1.813287e+07   \n",
       "1              523231.0                  2.839931         1.813465e+07   \n",
       "2              465366.0                  3.339583         1.813643e+07   \n",
       "3              459065.0                  3.481424         1.813822e+07   \n",
       "4              522665.0                  3.192535         1.814001e+07   \n",
       "\n",
       "   value_volume_trade  value_hash_rate        EMA_2  EMA_2_1_days_lagged  \\\n",
       "0        2.860097e+07     9.671772e+07          NaN                  NaN   \n",
       "1        6.828297e+07     1.159241e+08  7155.335000                  NaN   \n",
       "2        1.368703e+08     1.152381e+08  7287.851667          7155.335000   \n",
       "3        5.018183e+07     1.118084e+08  7335.117222          7287.851667   \n",
       "4        4.817756e+07     9.260207e+07  7617.039074          7335.117222   \n",
       "\n",
       "   close_bitcoin_return  EMA_2_1_days_lagged_return  \n",
       "0                   NaN                         NaN  \n",
       "1              0.054445                         NaN  \n",
       "2              0.001246                         NaN  \n",
       "3              0.000631                    0.018520  \n",
       "4              0.054255                    0.006486  "
      ]
     },
     "execution_count": 145,
     "metadata": {},
     "output_type": "execute_result"
    }
   ],
   "source": [
    "bitcoin.head()"
   ]
  },
  {
   "cell_type": "code",
   "execution_count": 146,
   "metadata": {},
   "outputs": [],
   "source": [
    "formula_1 = 'close_bitcoin_return ~ EMA_2_1_days_lagged_return'\n",
    "res_1 = ols(formula_1, data= bitcoin).fit()"
   ]
  },
  {
   "cell_type": "code",
   "execution_count": 149,
   "metadata": {},
   "outputs": [
    {
     "name": "stdout",
     "output_type": "stream",
     "text": [
      "                             OLS Regression Results                             \n",
      "================================================================================\n",
      "Dep. Variable:     close_bitcoin_return   R-squared:                       0.007\n",
      "Model:                              OLS   Adj. R-squared:                  0.006\n",
      "Method:                   Least Squares   F-statistic:                     5.512\n",
      "Date:                  Sat, 19 Feb 2022   Prob (F-statistic):             0.0191\n",
      "Time:                          17:36:24   Log-Likelihood:                 1391.6\n",
      "No. Observations:                   777   AIC:                            -2779.\n",
      "Df Residuals:                       775   BIC:                            -2770.\n",
      "Df Model:                             1                                         \n",
      "Covariance Type:              nonrobust                                         \n",
      "==============================================================================================\n",
      "                                 coef    std err          t      P>|t|      [0.025      0.975]\n",
      "----------------------------------------------------------------------------------------------\n",
      "Intercept                      0.0034      0.001      2.303      0.022       0.000       0.006\n",
      "EMA_2_1_days_lagged_return    -0.1226      0.052     -2.348      0.019      -0.225      -0.020\n",
      "==============================================================================\n",
      "Omnibus:                      270.665   Durbin-Watson:                   2.043\n",
      "Prob(Omnibus):                  0.000   Jarque-Bera (JB):             5862.023\n",
      "Skew:                          -1.032   Prob(JB):                         0.00\n",
      "Kurtosis:                      16.297   Cond. No.                         36.0\n",
      "==============================================================================\n",
      "\n",
      "Notes:\n",
      "[1] Standard Errors assume that the covariance matrix of the errors is correctly specified.\n"
     ]
    }
   ],
   "source": [
    "print(res_1.summary())"
   ]
  },
  {
   "cell_type": "code",
   "execution_count": null,
   "metadata": {},
   "outputs": [],
   "source": []
  },
  {
   "cell_type": "code",
   "execution_count": null,
   "metadata": {},
   "outputs": [],
   "source": []
  },
  {
   "cell_type": "code",
   "execution_count": null,
   "metadata": {},
   "outputs": [],
   "source": []
  },
  {
   "cell_type": "code",
   "execution_count": null,
   "metadata": {},
   "outputs": [],
   "source": []
  },
  {
   "cell_type": "code",
   "execution_count": null,
   "metadata": {},
   "outputs": [],
   "source": []
  }
 ],
 "metadata": {
  "kernelspec": {
   "display_name": "Python 3 (ipykernel)",
   "language": "python",
   "name": "python3"
  },
  "language_info": {
   "codemirror_mode": {
    "name": "ipython",
    "version": 3
   },
   "file_extension": ".py",
   "mimetype": "text/x-python",
   "name": "python",
   "nbconvert_exporter": "python",
   "pygments_lexer": "ipython3",
   "version": "3.8.12"
  }
 },
 "nbformat": 4,
 "nbformat_minor": 2
}
