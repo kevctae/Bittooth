{
 "cells": [
  {
   "cell_type": "code",
   "execution_count": 2,
   "metadata": {},
   "outputs": [],
   "source": [
    "import pandas as pd\n",
    "import matplotlib.pyplot as plt\n",
    "from sklearn.model_selection import train_test_split\n",
    "from sklearn.linear_model import LinearRegression\n",
    "from tvDatafeed import TvDatafeed, Interval"
   ]
  },
  {
   "cell_type": "code",
   "execution_count": 3,
   "metadata": {},
   "outputs": [],
   "source": [
    "import requests\n",
    "import json\n",
    "import pandas as pd\n",
    "import datetime"
   ]
  },
  {
   "cell_type": "code",
   "execution_count": 4,
   "metadata": {},
   "outputs": [],
   "source": [
    "n=1"
   ]
  },
  {
   "cell_type": "code",
   "execution_count": 5,
   "metadata": {},
   "outputs": [
    {
     "name": "stderr",
     "output_type": "stream",
     "text": [
      "you are using nologin method, data you access may be limited\n"
     ]
    }
   ],
   "source": [
    "tv = TvDatafeed()\n",
    "def getdata(name):\n",
    "    data=tv.get_hist(symbol=name,exchange='BINANCE',interval=Interval.in_daily,n_bars=5000)\n",
    "    data=data.reset_index()\n",
    "#     data[\"datetime\"]=data[\"datetime\"]+datetime.timedelta(days=1)\n",
    "    data[\"datetime\"]=data[\"datetime\"].dt.strftime('%Y-%m-%d')\n",
    "    data2=data[data[\"datetime\"]>=\"2020-01-01\"].copy()\n",
    "    data2[\"datetime\"] = pd.to_datetime(data2[\"datetime\"])\n",
    "    return data2"
   ]
  },
  {
   "cell_type": "code",
   "execution_count": 6,
   "metadata": {},
   "outputs": [],
   "source": [
    "def getapi(api):\n",
    "    response_API=requests.get(api)\n",
    "    data=response_API.text\n",
    "    parse_json=json.loads(data)\n",
    "    df = pd.json_normalize(parse_json['values'])\n",
    "    listtime=list(df['x'])\n",
    "    listtime2=[]\n",
    "    for i in listtime:\n",
    "        listtime2.append(datetime.datetime.fromtimestamp(i).strftime('%Y-%m-%d'))\n",
    "    df['datetime']=pd.Series(listtime2)\n",
    "    df[\"datetime\"] = pd.to_datetime(df[\"datetime\"])\n",
    "#     df[\"datetime\"]=df[\"datetime\"]+datetime.timedelta(days=1)\n",
    "    df=df[df[\"datetime\"]>=\"2020-01-01\"].copy()\n",
    "    df=df.drop(columns=['x'])\n",
    "    df.rename(columns={'y':'value'},inplace=True)\n",
    "    df=df.drop_duplicates(subset=['datetime'])\n",
    "    return df"
   ]
  },
  {
   "cell_type": "code",
   "execution_count": 7,
   "metadata": {},
   "outputs": [
    {
     "data": {
      "text/html": [
       "<div>\n",
       "<style scoped>\n",
       "    .dataframe tbody tr th:only-of-type {\n",
       "        vertical-align: middle;\n",
       "    }\n",
       "\n",
       "    .dataframe tbody tr th {\n",
       "        vertical-align: top;\n",
       "    }\n",
       "\n",
       "    .dataframe thead th {\n",
       "        text-align: right;\n",
       "    }\n",
       "</style>\n",
       "<table border=\"1\" class=\"dataframe\">\n",
       "  <thead>\n",
       "    <tr style=\"text-align: right;\">\n",
       "      <th></th>\n",
       "      <th>datetime</th>\n",
       "      <th>volume</th>\n",
       "      <th>open</th>\n",
       "      <th>high</th>\n",
       "      <th>low</th>\n",
       "      <th>close</th>\n",
       "    </tr>\n",
       "  </thead>\n",
       "  <tbody>\n",
       "    <tr>\n",
       "      <th>1640</th>\n",
       "      <td>2022-02-11</td>\n",
       "      <td>26556.85681</td>\n",
       "      <td>42373.73</td>\n",
       "      <td>43079.49</td>\n",
       "      <td>41688.88</td>\n",
       "      <td>42217.87</td>\n",
       "    </tr>\n",
       "    <tr>\n",
       "      <th>1641</th>\n",
       "      <td>2022-02-12</td>\n",
       "      <td>17648.58975</td>\n",
       "      <td>42217.87</td>\n",
       "      <td>42760.00</td>\n",
       "      <td>41870.00</td>\n",
       "      <td>42053.66</td>\n",
       "    </tr>\n",
       "    <tr>\n",
       "      <th>1642</th>\n",
       "      <td>2022-02-13</td>\n",
       "      <td>34010.13060</td>\n",
       "      <td>42053.65</td>\n",
       "      <td>42842.40</td>\n",
       "      <td>41550.56</td>\n",
       "      <td>42535.94</td>\n",
       "    </tr>\n",
       "    <tr>\n",
       "      <th>1643</th>\n",
       "      <td>2022-02-14</td>\n",
       "      <td>38093.46331</td>\n",
       "      <td>42535.94</td>\n",
       "      <td>44751.40</td>\n",
       "      <td>42427.03</td>\n",
       "      <td>44544.86</td>\n",
       "    </tr>\n",
       "    <tr>\n",
       "      <th>1644</th>\n",
       "      <td>2022-02-15</td>\n",
       "      <td>2571.65969</td>\n",
       "      <td>44544.85</td>\n",
       "      <td>44549.97</td>\n",
       "      <td>43945.32</td>\n",
       "      <td>44025.97</td>\n",
       "    </tr>\n",
       "  </tbody>\n",
       "</table>\n",
       "</div>"
      ],
      "text/plain": [
       "       datetime       volume      open      high       low     close\n",
       "1640 2022-02-11  26556.85681  42373.73  43079.49  41688.88  42217.87\n",
       "1641 2022-02-12  17648.58975  42217.87  42760.00  41870.00  42053.66\n",
       "1642 2022-02-13  34010.13060  42053.65  42842.40  41550.56  42535.94\n",
       "1643 2022-02-14  38093.46331  42535.94  44751.40  42427.03  44544.86\n",
       "1644 2022-02-15   2571.65969  44544.85  44549.97  43945.32  44025.97"
      ]
     },
     "execution_count": 7,
     "metadata": {},
     "output_type": "execute_result"
    }
   ],
   "source": [
    "bitcoi=getdata('BTCUSDT')\n",
    "eth=getdata('ETHUSDT')\n",
    "bnb=getdata('BNBUSDT')\n",
    "ada=getdata('ADAUSDT')\n",
    "bitcoi=bitcoi[[\"datetime\",\"volume\",\"open\",\"high\",\"low\",\"close\"]]\n",
    "bitcoi.tail(5)"
   ]
  },
  {
   "cell_type": "code",
   "execution_count": 8,
   "metadata": {},
   "outputs": [],
   "source": [
    "number_transactions=getapi('https://api.blockchain.info/charts/n-transactions?timespan=4years&rollingAverage=24hours&format=json&sampled=false')\n",
    "number_address=getapi('https://api.blockchain.info/charts/n-unique-addresses?timespan=4years&rollingAverage=24hours&format=json&sampled=false')\n",
    "transaction_second=getapi('https://api.blockchain.info/charts/transactions-per-second?timespan=4years&rollingAverage=24hours&format=json&sampled=false')\n",
    "transaction_second=transaction_second.groupby(['datetime']).mean().reset_index()\n",
    "total_bitcoin=getapi('https://api.blockchain.info/charts/total-bitcoins?timespan=4years&rollingAverage=24hours&format=json&sampled=true')\n",
    "volume_trade=getapi('https://api.blockchain.info/charts/trade-volume?timespan=4years&rollingAverage=24hours&format=json&sampled=false')\n",
    "hash_rate=getapi('https://api.blockchain.info/charts/hash-rate?timespan=4years&rollingAverage=24hours&format=json&sampled=false')"
   ]
  },
  {
   "cell_type": "code",
   "execution_count": 9,
   "metadata": {},
   "outputs": [],
   "source": [
    "bitcoin=bitcoi.merge(eth[[\"datetime\",\"close\"]],on='datetime',how='left',suffixes=('_bitcoin', '_eth'))\n",
    "bitcoin=bitcoin.merge(bnb[[\"datetime\",\"close\"]],on='datetime',how='left')\n",
    "bitcoin=bitcoin.merge(ada[[\"datetime\",\"close\"]],on='datetime',how='left',suffixes=('_bnb', '_ada'))"
   ]
  },
  {
   "cell_type": "code",
   "execution_count": 10,
   "metadata": {},
   "outputs": [],
   "source": [
    "data_api=number_transactions.merge(number_address,on='datetime',how='left',suffixes=('_number_transaction', '_number_address'))\n",
    "data_api=data_api.merge(transaction_second,on='datetime',how='left')\n",
    "data_api=data_api.merge(total_bitcoin,on='datetime',how='left',suffixes=('_transaction_second', '_total_bitcoin'))\n",
    "data_api=data_api.merge(volume_trade,on='datetime',how='left')\n",
    "data_api=data_api.merge(hash_rate,on='datetime',how='left',suffixes=('_volume_trade', '_hash_rate'))\n"
   ]
  },
  {
   "cell_type": "code",
   "execution_count": 11,
   "metadata": {},
   "outputs": [
    {
     "data": {
      "text/html": [
       "<div>\n",
       "<style scoped>\n",
       "    .dataframe tbody tr th:only-of-type {\n",
       "        vertical-align: middle;\n",
       "    }\n",
       "\n",
       "    .dataframe tbody tr th {\n",
       "        vertical-align: top;\n",
       "    }\n",
       "\n",
       "    .dataframe thead th {\n",
       "        text-align: right;\n",
       "    }\n",
       "</style>\n",
       "<table border=\"1\" class=\"dataframe\">\n",
       "  <thead>\n",
       "    <tr style=\"text-align: right;\">\n",
       "      <th></th>\n",
       "      <th>datetime</th>\n",
       "      <th>volume</th>\n",
       "      <th>open</th>\n",
       "      <th>high</th>\n",
       "      <th>low</th>\n",
       "      <th>close_bitcoin</th>\n",
       "      <th>close_eth</th>\n",
       "      <th>close_bnb</th>\n",
       "      <th>close_ada</th>\n",
       "      <th>value_number_transaction</th>\n",
       "      <th>value_number_address</th>\n",
       "      <th>value_transaction_second</th>\n",
       "      <th>value_total_bitcoin</th>\n",
       "      <th>value_volume_trade</th>\n",
       "      <th>value_hash_rate</th>\n",
       "    </tr>\n",
       "  </thead>\n",
       "  <tbody>\n",
       "    <tr>\n",
       "      <th>772</th>\n",
       "      <td>2022-02-11</td>\n",
       "      <td>26556.85681</td>\n",
       "      <td>42373.73</td>\n",
       "      <td>43079.49</td>\n",
       "      <td>41688.88</td>\n",
       "      <td>42217.87</td>\n",
       "      <td>2918.88</td>\n",
       "      <td>403.6</td>\n",
       "      <td>1.059</td>\n",
       "      <td>228189.0</td>\n",
       "      <td>604018.0</td>\n",
       "      <td>3.068403</td>\n",
       "      <td>1.895464e+07</td>\n",
       "      <td>3.225592e+08</td>\n",
       "      <td>2.481103e+08</td>\n",
       "    </tr>\n",
       "    <tr>\n",
       "      <th>773</th>\n",
       "      <td>2022-02-12</td>\n",
       "      <td>17648.58975</td>\n",
       "      <td>42217.87</td>\n",
       "      <td>42760.00</td>\n",
       "      <td>41870.00</td>\n",
       "      <td>42053.66</td>\n",
       "      <td>2871.13</td>\n",
       "      <td>397.9</td>\n",
       "      <td>1.042</td>\n",
       "      <td>208977.0</td>\n",
       "      <td>590527.0</td>\n",
       "      <td>2.986458</td>\n",
       "      <td>1.895553e+07</td>\n",
       "      <td>1.404551e+08</td>\n",
       "      <td>2.096333e+08</td>\n",
       "    </tr>\n",
       "    <tr>\n",
       "      <th>774</th>\n",
       "      <td>2022-02-13</td>\n",
       "      <td>34010.13060</td>\n",
       "      <td>42053.65</td>\n",
       "      <td>42842.40</td>\n",
       "      <td>41550.56</td>\n",
       "      <td>42535.94</td>\n",
       "      <td>2929.75</td>\n",
       "      <td>403.4</td>\n",
       "      <td>1.049</td>\n",
       "      <td>247592.0</td>\n",
       "      <td>630477.0</td>\n",
       "      <td>2.536632</td>\n",
       "      <td>1.895642e+07</td>\n",
       "      <td>9.067330e+07</td>\n",
       "      <td>2.029994e+08</td>\n",
       "    </tr>\n",
       "    <tr>\n",
       "      <th>775</th>\n",
       "      <td>2022-02-14</td>\n",
       "      <td>38093.46331</td>\n",
       "      <td>42535.94</td>\n",
       "      <td>44751.40</td>\n",
       "      <td>42427.03</td>\n",
       "      <td>44544.86</td>\n",
       "      <td>3183.52</td>\n",
       "      <td>432.4</td>\n",
       "      <td>1.107</td>\n",
       "      <td>273623.0</td>\n",
       "      <td>680501.0</td>\n",
       "      <td>2.481250</td>\n",
       "      <td>1.895731e+07</td>\n",
       "      <td>1.878267e+08</td>\n",
       "      <td>2.321888e+08</td>\n",
       "    </tr>\n",
       "    <tr>\n",
       "      <th>776</th>\n",
       "      <td>2022-02-15</td>\n",
       "      <td>2571.65969</td>\n",
       "      <td>44544.85</td>\n",
       "      <td>44549.97</td>\n",
       "      <td>43945.32</td>\n",
       "      <td>44025.97</td>\n",
       "      <td>3142.88</td>\n",
       "      <td>431.8</td>\n",
       "      <td>1.096</td>\n",
       "      <td>NaN</td>\n",
       "      <td>NaN</td>\n",
       "      <td>NaN</td>\n",
       "      <td>NaN</td>\n",
       "      <td>NaN</td>\n",
       "      <td>NaN</td>\n",
       "    </tr>\n",
       "  </tbody>\n",
       "</table>\n",
       "</div>"
      ],
      "text/plain": [
       "      datetime       volume      open      high       low  close_bitcoin  \\\n",
       "772 2022-02-11  26556.85681  42373.73  43079.49  41688.88       42217.87   \n",
       "773 2022-02-12  17648.58975  42217.87  42760.00  41870.00       42053.66   \n",
       "774 2022-02-13  34010.13060  42053.65  42842.40  41550.56       42535.94   \n",
       "775 2022-02-14  38093.46331  42535.94  44751.40  42427.03       44544.86   \n",
       "776 2022-02-15   2571.65969  44544.85  44549.97  43945.32       44025.97   \n",
       "\n",
       "     close_eth  close_bnb  close_ada  value_number_transaction  \\\n",
       "772    2918.88      403.6      1.059                  228189.0   \n",
       "773    2871.13      397.9      1.042                  208977.0   \n",
       "774    2929.75      403.4      1.049                  247592.0   \n",
       "775    3183.52      432.4      1.107                  273623.0   \n",
       "776    3142.88      431.8      1.096                       NaN   \n",
       "\n",
       "     value_number_address  value_transaction_second  value_total_bitcoin  \\\n",
       "772              604018.0                  3.068403         1.895464e+07   \n",
       "773              590527.0                  2.986458         1.895553e+07   \n",
       "774              630477.0                  2.536632         1.895642e+07   \n",
       "775              680501.0                  2.481250         1.895731e+07   \n",
       "776                   NaN                       NaN                  NaN   \n",
       "\n",
       "     value_volume_trade  value_hash_rate  \n",
       "772        3.225592e+08     2.481103e+08  \n",
       "773        1.404551e+08     2.096333e+08  \n",
       "774        9.067330e+07     2.029994e+08  \n",
       "775        1.878267e+08     2.321888e+08  \n",
       "776                 NaN              NaN  "
      ]
     },
     "execution_count": 11,
     "metadata": {},
     "output_type": "execute_result"
    }
   ],
   "source": [
    "bitcoin=bitcoin.merge(data_api,on='datetime',how='left')\n",
    "bitcoin.tail(5)"
   ]
  },
  {
   "cell_type": "code",
   "execution_count": 12,
   "metadata": {},
   "outputs": [
    {
     "data": {
      "image/png": "[encoded data removed]",
      "text/plain": [
       "<Figure size 864x504 with 1 Axes>"
      ]
     },
     "metadata": {
      "needs_background": "light"
     },
     "output_type": "display_data"
    }
   ],
   "source": [
    "plt.figure(figsize = (12, 7))\n",
    "plt.plot(bitcoin[\"datetime\"], bitcoin[\"close_bitcoin\"], color='goldenrod', lw=2)\n",
    "plt.title(\"Bitcoin Price over time\", size=25)\n",
    "plt.xlabel(\"Time\", size=20)\n",
    "plt.ylabel(\"$ Price\", size=20)\n",
    "plt.show()"
   ]
  },
  {
   "cell_type": "code",
   "execution_count": 13,
   "metadata": {},
   "outputs": [
    {
     "data": {
      "image/png": "[encoded data removed]",
      "text/plain": [
       "<Figure size 864x504 with 1 Axes>"
      ]
     },
     "metadata": {
      "needs_background": "light"
     },
     "output_type": "display_data"
    }
   ],
   "source": [
    "plt.figure(figsize = (12, 7))\n",
    "plt.plot(bitcoin[\"datetime\"], bitcoin[\"volume\"], color='royalblue', lw=2)\n",
    "plt.title(\"Bitcoin Volume over time\", size=25)\n",
    "plt.xlabel(\"Time\", size=20)\n",
    "plt.ylabel(\"Volume\", size=20);"
   ]
  },
  {
   "cell_type": "code",
   "execution_count": 15,
   "metadata": {},
   "outputs": [
    {
     "data": {
      "text/plain": [
       "datetime                     0\n",
       "volume                       0\n",
       "open                         0\n",
       "high                         0\n",
       "low                          0\n",
       "close_bitcoin                0\n",
       "close_eth                    0\n",
       "close_bnb                    0\n",
       "close_ada                    0\n",
       "value_number_transaction     1\n",
       "value_number_address         3\n",
       "value_transaction_second     1\n",
       "value_total_bitcoin         32\n",
       "value_volume_trade           1\n",
       "value_hash_rate              1\n",
       "dtype: int64"
      ]
     },
     "execution_count": 15,
     "metadata": {},
     "output_type": "execute_result"
    }
   ],
   "source": [
    "bitcoin.isnull().sum()"
   ]
  },
  {
   "cell_type": "code",
   "execution_count": null,
   "metadata": {},
   "outputs": [],
   "source": []
  },
  {
   "cell_type": "code",
   "execution_count": null,
   "metadata": {},
   "outputs": [],
   "source": []
  },
  {
   "cell_type": "code",
   "execution_count": null,
   "metadata": {},
   "outputs": [],
   "source": []
  },
  {
   "cell_type": "code",
   "execution_count": null,
   "metadata": {},
   "outputs": [],
   "source": []
  },
  {
   "cell_type": "code",
   "execution_count": null,
   "metadata": {},
   "outputs": [],
   "source": []
  },
  {
   "cell_type": "code",
   "execution_count": null,
   "metadata": {},
   "outputs": [],
   "source": []
  },
  {
   "cell_type": "code",
   "execution_count": null,
   "metadata": {},
   "outputs": [],
   "source": []
  },
  {
   "cell_type": "code",
   "execution_count": null,
   "metadata": {},
   "outputs": [],
   "source": []
  },
  {
   "cell_type": "code",
   "execution_count": null,
   "metadata": {},
   "outputs": [],
   "source": []
  },
  {
   "cell_type": "code",
   "execution_count": null,
   "metadata": {},
   "outputs": [],
   "source": []
  },
  {
   "cell_type": "code",
   "execution_count": null,
   "metadata": {},
   "outputs": [],
   "source": []
  },
  {
   "cell_type": "code",
   "execution_count": 14,
   "metadata": {},
   "outputs": [
    {
     "data": {
      "text/plain": [
       "volume                      0\n",
       "open                        0\n",
       "high                        0\n",
       "low                         0\n",
       "close_bitcoin               0\n",
       "close_eth                   0\n",
       "close_bnb                   0\n",
       "close_ada                   0\n",
       "value_number_transaction    0\n",
       "value_number_address        0\n",
       "value_transaction_second    0\n",
       "value_total_bitcoin         0\n",
       "value_volume_trade          0\n",
       "value_hash_rate             0\n",
       "datetime                    0\n",
       "dtype: int64"
      ]
     },
     "execution_count": 14,
     "metadata": {},
     "output_type": "execute_result"
    }
   ],
   "source": [
    "# bitcoin=bitcoin.interpolate(method='linear')\n",
    "temp=bitcoin[\"datetime\"]\n",
    "bitcoin=bitcoin.drop(columns=['datetime'])\n",
    "bitcoin=bitcoin.interpolate()\n",
    "bitcoin['datetime']=temp\n",
    "bitcoin.isnull().sum()"
   ]
  },
  {
   "cell_type": "code",
   "execution_count": 1,
   "metadata": {},
   "outputs": [
    {
     "ename": "NameError",
     "evalue": "name 'bitcoin' is not defined",
     "output_type": "error",
     "traceback": [
      "\u001b[0;31m---------------------------------------------------------------------------\u001b[0m",
      "\u001b[0;31mNameError\u001b[0m                                 Traceback (most recent call last)",
      "Input \u001b[0;32mIn [1]\u001b[0m, in \u001b[0;36m<module>\u001b[0;34m\u001b[0m\n\u001b[0;32m----> 1\u001b[0m \u001b[43mbitcoin\u001b[49m\n",
      "\u001b[0;31mNameError\u001b[0m: name 'bitcoin' is not defined"
     ]
    }
   ],
   "source": [
    "bitcoin"
   ]
  },
  {
   "cell_type": "code",
   "execution_count": null,
   "metadata": {},
   "outputs": [],
   "source": []
  },
  {
   "cell_type": "code",
   "execution_count": null,
   "metadata": {},
   "outputs": [],
   "source": []
  },
  {
   "cell_type": "code",
   "execution_count": null,
   "metadata": {},
   "outputs": [],
   "source": []
  },
  {
   "cell_type": "code",
   "execution_count": 15,
   "metadata": {},
   "outputs": [],
   "source": [
    "required_features = ['volume','open', 'high', 'low','close_eth','close_bnb','close_ada','value_number_transaction','value_number_address','value_transaction_second','value_total_bitcoin','value_volume_trade', 'value_hash_rate']\n",
    "output_label = 'close_bitcoin'"
   ]
  },
  {
   "cell_type": "code",
   "execution_count": 16,
   "metadata": {},
   "outputs": [],
   "source": [
    "x_train, x_test, y_train, y_test = train_test_split(bitcoin[required_features],bitcoin[output_label],test_size = 0.2)"
   ]
  },
  {
   "cell_type": "code",
   "execution_count": 17,
   "metadata": {},
   "outputs": [
    {
     "data": {
      "text/html": [
       "<div>\n",
       "<style scoped>\n",
       "    .dataframe tbody tr th:only-of-type {\n",
       "        vertical-align: middle;\n",
       "    }\n",
       "\n",
       "    .dataframe tbody tr th {\n",
       "        vertical-align: top;\n",
       "    }\n",
       "\n",
       "    .dataframe thead th {\n",
       "        text-align: right;\n",
       "    }\n",
       "</style>\n",
       "<table border=\"1\" class=\"dataframe\">\n",
       "  <thead>\n",
       "    <tr style=\"text-align: right;\">\n",
       "      <th></th>\n",
       "      <th>volume</th>\n",
       "      <th>open</th>\n",
       "      <th>high</th>\n",
       "      <th>low</th>\n",
       "      <th>close_eth</th>\n",
       "      <th>close_bnb</th>\n",
       "      <th>close_ada</th>\n",
       "      <th>value_number_transaction</th>\n",
       "      <th>value_number_address</th>\n",
       "      <th>value_transaction_second</th>\n",
       "      <th>value_total_bitcoin</th>\n",
       "      <th>value_volume_trade</th>\n",
       "      <th>value_hash_rate</th>\n",
       "    </tr>\n",
       "  </thead>\n",
       "  <tbody>\n",
       "    <tr>\n",
       "      <th>424</th>\n",
       "      <td>85086.111648</td>\n",
       "      <td>45134.11</td>\n",
       "      <td>49790.00</td>\n",
       "      <td>44950.53</td>\n",
       "      <td>1569.86</td>\n",
       "      <td>254.9637</td>\n",
       "      <td>1.29627</td>\n",
       "      <td>280485.0</td>\n",
       "      <td>748049.0</td>\n",
       "      <td>3.365104</td>\n",
       "      <td>1.864101e+07</td>\n",
       "      <td>7.240613e+08</td>\n",
       "      <td>1.403886e+08</td>\n",
       "    </tr>\n",
       "    <tr>\n",
       "      <th>157</th>\n",
       "      <td>57952.848385</td>\n",
       "      <td>9666.85</td>\n",
       "      <td>9802.00</td>\n",
       "      <td>9372.46</td>\n",
       "      <td>244.56</td>\n",
       "      <td>17.4135</td>\n",
       "      <td>0.08657</td>\n",
       "      <td>252368.0</td>\n",
       "      <td>487527.0</td>\n",
       "      <td>3.690625</td>\n",
       "      <td>1.839598e+07</td>\n",
       "      <td>7.404058e+07</td>\n",
       "      <td>1.085396e+08</td>\n",
       "    </tr>\n",
       "    <tr>\n",
       "      <th>261</th>\n",
       "      <td>38440.036858</td>\n",
       "      <td>10933.40</td>\n",
       "      <td>11179.79</td>\n",
       "      <td>10887.37</td>\n",
       "      <td>385.25</td>\n",
       "      <td>27.2035</td>\n",
       "      <td>0.09141</td>\n",
       "      <td>296357.0</td>\n",
       "      <td>624125.0</td>\n",
       "      <td>3.971007</td>\n",
       "      <td>1.849302e+07</td>\n",
       "      <td>8.826939e+07</td>\n",
       "      <td>1.284789e+08</td>\n",
       "    </tr>\n",
       "    <tr>\n",
       "      <th>551</th>\n",
       "      <td>58210.596349</td>\n",
       "      <td>33690.15</td>\n",
       "      <td>35118.88</td>\n",
       "      <td>33532.00</td>\n",
       "      <td>2322.50</td>\n",
       "      <td>319.9200</td>\n",
       "      <td>1.41570</td>\n",
       "      <td>228279.0</td>\n",
       "      <td>579824.0</td>\n",
       "      <td>1.950694</td>\n",
       "      <td>1.874781e+07</td>\n",
       "      <td>2.626500e+08</td>\n",
       "      <td>1.013866e+08</td>\n",
       "    </tr>\n",
       "    <tr>\n",
       "      <th>706</th>\n",
       "      <td>38425.924660</td>\n",
       "      <td>50588.95</td>\n",
       "      <td>51200.00</td>\n",
       "      <td>48600.00</td>\n",
       "      <td>4436.91</td>\n",
       "      <td>607.2000</td>\n",
       "      <td>1.39600</td>\n",
       "      <td>266110.0</td>\n",
       "      <td>660440.0</td>\n",
       "      <td>3.423090</td>\n",
       "      <td>1.889364e+07</td>\n",
       "      <td>3.085435e+08</td>\n",
       "      <td>1.865324e+08</td>\n",
       "    </tr>\n",
       "    <tr>\n",
       "      <th>...</th>\n",
       "      <td>...</td>\n",
       "      <td>...</td>\n",
       "      <td>...</td>\n",
       "      <td>...</td>\n",
       "      <td>...</td>\n",
       "      <td>...</td>\n",
       "      <td>...</td>\n",
       "      <td>...</td>\n",
       "      <td>...</td>\n",
       "      <td>...</td>\n",
       "      <td>...</td>\n",
       "      <td>...</td>\n",
       "      <td>...</td>\n",
       "    </tr>\n",
       "    <tr>\n",
       "      <th>613</th>\n",
       "      <td>49249.667081</td>\n",
       "      <td>51756.88</td>\n",
       "      <td>52780.00</td>\n",
       "      <td>50969.33</td>\n",
       "      <td>3926.77</td>\n",
       "      <td>496.1000</td>\n",
       "      <td>2.83300</td>\n",
       "      <td>268877.0</td>\n",
       "      <td>627019.0</td>\n",
       "      <td>2.566493</td>\n",
       "      <td>1.880650e+07</td>\n",
       "      <td>2.057639e+08</td>\n",
       "      <td>1.506115e+08</td>\n",
       "    </tr>\n",
       "    <tr>\n",
       "      <th>571</th>\n",
       "      <td>152452.512724</td>\n",
       "      <td>35381.02</td>\n",
       "      <td>40550.00</td>\n",
       "      <td>35205.78</td>\n",
       "      <td>2228.08</td>\n",
       "      <td>304.0000</td>\n",
       "      <td>1.25510</td>\n",
       "      <td>261950.0</td>\n",
       "      <td>644448.0</td>\n",
       "      <td>2.198090</td>\n",
       "      <td>1.876561e+07</td>\n",
       "      <td>2.136712e+08</td>\n",
       "      <td>1.019503e+08</td>\n",
       "    </tr>\n",
       "    <tr>\n",
       "      <th>124</th>\n",
       "      <td>76480.765342</td>\n",
       "      <td>8871.92</td>\n",
       "      <td>9118.58</td>\n",
       "      <td>8760.00</td>\n",
       "      <td>205.29</td>\n",
       "      <td>16.8886</td>\n",
       "      <td>0.04945</td>\n",
       "      <td>329075.0</td>\n",
       "      <td>652289.0</td>\n",
       "      <td>3.061632</td>\n",
       "      <td>1.835990e+07</td>\n",
       "      <td>1.866390e+08</td>\n",
       "      <td>1.262946e+08</td>\n",
       "    </tr>\n",
       "    <tr>\n",
       "      <th>195</th>\n",
       "      <td>39053.579665</td>\n",
       "      <td>9255.85</td>\n",
       "      <td>9276.49</td>\n",
       "      <td>9160.57</td>\n",
       "      <td>238.61</td>\n",
       "      <td>17.6351</td>\n",
       "      <td>0.13069</td>\n",
       "      <td>316064.0</td>\n",
       "      <td>671171.0</td>\n",
       "      <td>3.851215</td>\n",
       "      <td>1.843252e+07</td>\n",
       "      <td>8.824971e+07</td>\n",
       "      <td>1.189935e+08</td>\n",
       "    </tr>\n",
       "    <tr>\n",
       "      <th>412</th>\n",
       "      <td>85743.637818</td>\n",
       "      <td>49133.45</td>\n",
       "      <td>52618.74</td>\n",
       "      <td>48947.00</td>\n",
       "      <td>1849.88</td>\n",
       "      <td>165.3233</td>\n",
       "      <td>0.89206</td>\n",
       "      <td>317666.0</td>\n",
       "      <td>829226.0</td>\n",
       "      <td>3.619618</td>\n",
       "      <td>1.863031e+07</td>\n",
       "      <td>8.992002e+08</td>\n",
       "      <td>1.470403e+08</td>\n",
       "    </tr>\n",
       "  </tbody>\n",
       "</table>\n",
       "<p>155 rows × 13 columns</p>\n",
       "</div>"
      ],
      "text/plain": [
       "            volume      open      high       low  close_eth  close_bnb  \\\n",
       "424   85086.111648  45134.11  49790.00  44950.53    1569.86   254.9637   \n",
       "157   57952.848385   9666.85   9802.00   9372.46     244.56    17.4135   \n",
       "261   38440.036858  10933.40  11179.79  10887.37     385.25    27.2035   \n",
       "551   58210.596349  33690.15  35118.88  33532.00    2322.50   319.9200   \n",
       "706   38425.924660  50588.95  51200.00  48600.00    4436.91   607.2000   \n",
       "..             ...       ...       ...       ...        ...        ...   \n",
       "613   49249.667081  51756.88  52780.00  50969.33    3926.77   496.1000   \n",
       "571  152452.512724  35381.02  40550.00  35205.78    2228.08   304.0000   \n",
       "124   76480.765342   8871.92   9118.58   8760.00     205.29    16.8886   \n",
       "195   39053.579665   9255.85   9276.49   9160.57     238.61    17.6351   \n",
       "412   85743.637818  49133.45  52618.74  48947.00    1849.88   165.3233   \n",
       "\n",
       "     close_ada  value_number_transaction  value_number_address  \\\n",
       "424    1.29627                  280485.0              748049.0   \n",
       "157    0.08657                  252368.0              487527.0   \n",
       "261    0.09141                  296357.0              624125.0   \n",
       "551    1.41570                  228279.0              579824.0   \n",
       "706    1.39600                  266110.0              660440.0   \n",
       "..         ...                       ...                   ...   \n",
       "613    2.83300                  268877.0              627019.0   \n",
       "571    1.25510                  261950.0              644448.0   \n",
       "124    0.04945                  329075.0              652289.0   \n",
       "195    0.13069                  316064.0              671171.0   \n",
       "412    0.89206                  317666.0              829226.0   \n",
       "\n",
       "     value_transaction_second  value_total_bitcoin  value_volume_trade  \\\n",
       "424                  3.365104         1.864101e+07        7.240613e+08   \n",
       "157                  3.690625         1.839598e+07        7.404058e+07   \n",
       "261                  3.971007         1.849302e+07        8.826939e+07   \n",
       "551                  1.950694         1.874781e+07        2.626500e+08   \n",
       "706                  3.423090         1.889364e+07        3.085435e+08   \n",
       "..                        ...                  ...                 ...   \n",
       "613                  2.566493         1.880650e+07        2.057639e+08   \n",
       "571                  2.198090         1.876561e+07        2.136712e+08   \n",
       "124                  3.061632         1.835990e+07        1.866390e+08   \n",
       "195                  3.851215         1.843252e+07        8.824971e+07   \n",
       "412                  3.619618         1.863031e+07        8.992002e+08   \n",
       "\n",
       "     value_hash_rate  \n",
       "424     1.403886e+08  \n",
       "157     1.085396e+08  \n",
       "261     1.284789e+08  \n",
       "551     1.013866e+08  \n",
       "706     1.865324e+08  \n",
       "..               ...  \n",
       "613     1.506115e+08  \n",
       "571     1.019503e+08  \n",
       "124     1.262946e+08  \n",
       "195     1.189935e+08  \n",
       "412     1.470403e+08  \n",
       "\n",
       "[155 rows x 13 columns]"
      ]
     },
     "execution_count": 17,
     "metadata": {},
     "output_type": "execute_result"
    }
   ],
   "source": [
    "x_test"
   ]
  },
  {
   "cell_type": "code",
   "execution_count": 18,
   "metadata": {},
   "outputs": [
    {
     "data": {
      "text/plain": [
       "LinearRegression()"
      ]
     },
     "execution_count": 18,
     "metadata": {},
     "output_type": "execute_result"
    }
   ],
   "source": [
    "model = LinearRegression()\n",
    "model.fit(x_train, y_train)"
   ]
  },
  {
   "cell_type": "code",
   "execution_count": 19,
   "metadata": {},
   "outputs": [
    {
     "data": {
      "text/plain": [
       "0.9990740303262224"
      ]
     },
     "execution_count": 19,
     "metadata": {},
     "output_type": "execute_result"
    }
   ],
   "source": [
    "model.score(x_test, y_test)"
   ]
  },
  {
   "cell_type": "code",
   "execution_count": 20,
   "metadata": {},
   "outputs": [
    {
     "data": {
      "text/html": [
       "<div>\n",
       "<style scoped>\n",
       "    .dataframe tbody tr th:only-of-type {\n",
       "        vertical-align: middle;\n",
       "    }\n",
       "\n",
       "    .dataframe tbody tr th {\n",
       "        vertical-align: top;\n",
       "    }\n",
       "\n",
       "    .dataframe thead th {\n",
       "        text-align: right;\n",
       "    }\n",
       "</style>\n",
       "<table border=\"1\" class=\"dataframe\">\n",
       "  <thead>\n",
       "    <tr style=\"text-align: right;\">\n",
       "      <th></th>\n",
       "      <th>volume</th>\n",
       "      <th>open</th>\n",
       "      <th>high</th>\n",
       "      <th>low</th>\n",
       "      <th>close_bitcoin</th>\n",
       "      <th>close_eth</th>\n",
       "      <th>close_bnb</th>\n",
       "      <th>close_ada</th>\n",
       "      <th>value_number_transaction</th>\n",
       "      <th>value_number_address</th>\n",
       "      <th>value_transaction_second</th>\n",
       "      <th>value_total_bitcoin</th>\n",
       "      <th>value_volume_trade</th>\n",
       "      <th>value_hash_rate</th>\n",
       "      <th>datetime</th>\n",
       "    </tr>\n",
       "  </thead>\n",
       "  <tbody>\n",
       "    <tr>\n",
       "      <th>772</th>\n",
       "      <td>4492.8354</td>\n",
       "      <td>42373.73</td>\n",
       "      <td>42485.66</td>\n",
       "      <td>42156.99</td>\n",
       "      <td>42329.93</td>\n",
       "      <td>2933.09</td>\n",
       "      <td>399.9</td>\n",
       "      <td>1.076</td>\n",
       "      <td>258595.0</td>\n",
       "      <td>664971.0</td>\n",
       "      <td>3.08316</td>\n",
       "      <td>1.895320e+07</td>\n",
       "      <td>4.642584e+08</td>\n",
       "      <td>1.884046e+08</td>\n",
       "      <td>2022-02-11</td>\n",
       "    </tr>\n",
       "  </tbody>\n",
       "</table>\n",
       "</div>"
      ],
      "text/plain": [
       "        volume      open      high       low  close_bitcoin  close_eth  \\\n",
       "772  4492.8354  42373.73  42485.66  42156.99       42329.93    2933.09   \n",
       "\n",
       "     close_bnb  close_ada  value_number_transaction  value_number_address  \\\n",
       "772      399.9      1.076                  258595.0              664971.0   \n",
       "\n",
       "     value_transaction_second  value_total_bitcoin  value_volume_trade  \\\n",
       "772                   3.08316         1.895320e+07        4.642584e+08   \n",
       "\n",
       "     value_hash_rate   datetime  \n",
       "772     1.884046e+08 2022-02-11  "
      ]
     },
     "execution_count": 20,
     "metadata": {},
     "output_type": "execute_result"
    }
   ],
   "source": [
    "future_set = bitcoin.tail(n).copy()\n",
    "future_set"
   ]
  },
  {
   "cell_type": "code",
   "execution_count": 21,
   "metadata": {},
   "outputs": [
    {
     "data": {
      "text/plain": [
       "array([42182.75077506])"
      ]
     },
     "execution_count": 21,
     "metadata": {},
     "output_type": "execute_result"
    }
   ],
   "source": [
    "prediction = model.predict(future_set[required_features])\n",
    "prediction"
   ]
  },
  {
   "cell_type": "code",
   "execution_count": 22,
   "metadata": {},
   "outputs": [
    {
     "name": "stdout",
     "output_type": "stream",
     "text": [
      "The prediction of bitcoin price on February 12, 2022 at 7 P.M. is 42182.75077505737\n"
     ]
    }
   ],
   "source": [
    "today = datetime.date.today()\n",
    "tomorrow = future_set[\"datetime\"].iloc[0] + datetime.timedelta(days=1)\n",
    "tmr = tomorrow.strftime(\"%B %d, %Y\")\n",
    "print(\"The prediction of bitcoin price on\",tmr,\"at 7 P.M. is\",prediction[0])"
   ]
  }
 ],
 "metadata": {
  "kernelspec": {
   "display_name": "Python 3 (ipykernel)",
   "language": "python",
   "name": "python3"
  },
  "language_info": {
   "codemirror_mode": {
    "name": "ipython",
    "version": 3
   },
   "file_extension": ".py",
   "mimetype": "text/x-python",
   "name": "python",
   "nbconvert_exporter": "python",
   "pygments_lexer": "ipython3",
   "version": "3.8.12"
  }
 },
 "nbformat": 4,
 "nbformat_minor": 2
}
