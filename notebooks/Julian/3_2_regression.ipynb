{
 "cells": [
  {
   "cell_type": "markdown",
   "metadata": {},
   "source": [
    "# This noteboook is aimed at modelling returns of Bitcoin using traditional econometrics approach"
   ]
  },
  {
   "cell_type": "markdown",
   "metadata": {},
   "source": [
    "## Importing libraries"
   ]
  },
  {
   "cell_type": "code",
   "execution_count": 1,
   "metadata": {},
   "outputs": [],
   "source": [
    "# basic data-handling libraries\n",
    "import pandas as pd\n",
    "import numpy as np\n",
    "import matplotlib.pyplot as plt"
   ]
  },
  {
   "cell_type": "code",
   "execution_count": 2,
   "metadata": {},
   "outputs": [],
   "source": [
    "# libraries used in dataimports and modifications\n",
    "from tvDatafeed import TvDatafeed, Interval\n",
    "import pandas_ta as ta\n",
    "import requests\n",
    "import json\n",
    "import datetime"
   ]
  },
  {
   "cell_type": "code",
   "execution_count": 3,
   "metadata": {},
   "outputs": [],
   "source": [
    "# library for statistical analysis\n",
    "from statsmodels.formula.api import ols\n",
    "from statsmodels.stats.outliers_influence import variance_inflation_factor as vif"
   ]
  },
  {
   "cell_type": "code",
   "execution_count": 4,
   "metadata": {},
   "outputs": [],
   "source": [
    "# utilities\n",
    "import sys\n",
    "sys.path.append('../modules')\n",
    "import utils"
   ]
  },
  {
   "cell_type": "code",
   "execution_count": 5,
   "metadata": {},
   "outputs": [
    {
     "name": "stderr",
     "output_type": "stream",
     "text": [
      "you are using nologin method, data you access may be limited\n"
     ]
    }
   ],
   "source": [
    "bitcoin= utils.get_data('BTCUSDT', exchange = 'BINANCE',start_date = \"2020-01-01\")"
   ]
  },
  {
   "cell_type": "markdown",
   "metadata": {},
   "source": [
    "### Linear Regression"
   ]
  },
  {
   "cell_type": "markdown",
   "metadata": {},
   "source": [
    "Features - technical indicators.\n",
    "Reference: https://www.alpharithms.com/predicting-stock-prices-with-linear-regression-214618/\n"
   ]
  },
  {
   "cell_type": "code",
   "execution_count": 9,
   "metadata": {},
   "outputs": [],
   "source": [
    "'''\n",
    "function to calculate technical indicators'''\n",
    "def technical_indicator(df, column, technical_indicator, length):\n",
    "    \n",
    "    if technical_indicator == 'EMA':\n",
    "        df.ta.ema(close = column, length = length, append = True, lookahead=False)\n",
    "        \n",
    "    return df\n",
    "        \n",
    "    "
   ]
  },
  {
   "cell_type": "code",
   "execution_count": 16,
   "metadata": {},
   "outputs": [],
   "source": [
    "bitcoin = technical_indicator(bitcoin, 'close', 'EMA', length = 2)\n",
    "bitcoin = utils.lag_columns(bitcoin, ['EMA_2'], +1)\n",
    "bitcoin_modified = utils.calculate_return(bitcoin, ['close','EMA_2_1_days_lagged' ], 1)\n"
   ]
  },
  {
   "cell_type": "code",
   "execution_count": 17,
   "metadata": {},
   "outputs": [
    {
     "data": {
      "text/plain": [
       "<matplotlib.legend.Legend at 0x14eba5940>"
      ]
     },
     "execution_count": 17,
     "metadata": {},
     "output_type": "execute_result"
    },
    {
     "data": {
      "image/png": "[encoded data removed]",
      "text/plain": [
       "<Figure size 432x288 with 1 Axes>"
      ]
     },
     "metadata": {
      "needs_background": "light"
     },
     "output_type": "display_data"
    }
   ],
   "source": [
    "fig, ax = plt.subplots()\n",
    "\n",
    "ax.plot(bitcoin['datetime'],bitcoin['close'], label = 'Bitcoin Price')\n",
    "ax.plot(bitcoin['datetime'],bitcoin['EMA_2'], label = 'Bitcoin Price Moving Average')\n",
    "\n",
    "plt.title(\"Bitcoin Price and Exponential Moving Average\")\n",
    "plt.legend()"
   ]
  },
  {
   "cell_type": "markdown",
   "metadata": {},
   "source": [
    "# We need to lag the features to avoid leakage (lookahead bias). That is, you cannot use tomorrow's data to predict the price for tomorrow. We need to use what we know today to predict the price tomorrow."
   ]
  },
  {
   "cell_type": "code",
   "execution_count": 18,
   "metadata": {},
   "outputs": [
    {
     "data": {
      "text/html": [
       "<div>\n",
       "<style scoped>\n",
       "    .dataframe tbody tr th:only-of-type {\n",
       "        vertical-align: middle;\n",
       "    }\n",
       "\n",
       "    .dataframe tbody tr th {\n",
       "        vertical-align: top;\n",
       "    }\n",
       "\n",
       "    .dataframe thead th {\n",
       "        text-align: right;\n",
       "    }\n",
       "</style>\n",
       "<table border=\"1\" class=\"dataframe\">\n",
       "  <thead>\n",
       "    <tr style=\"text-align: right;\">\n",
       "      <th></th>\n",
       "      <th>datetime</th>\n",
       "      <th>symbol</th>\n",
       "      <th>open</th>\n",
       "      <th>high</th>\n",
       "      <th>low</th>\n",
       "      <th>close</th>\n",
       "      <th>volume</th>\n",
       "      <th>EMA_2</th>\n",
       "      <th>EMA_2_1_days_lagged</th>\n",
       "      <th>close_return</th>\n",
       "      <th>EMA_2_1_days_lagged_return</th>\n",
       "    </tr>\n",
       "  </thead>\n",
       "  <tbody>\n",
       "    <tr>\n",
       "      <th>868</th>\n",
       "      <td>2020-01-01</td>\n",
       "      <td>BINANCE:BTCUSDT</td>\n",
       "      <td>7200.77</td>\n",
       "      <td>7212.50</td>\n",
       "      <td>6924.74</td>\n",
       "      <td>6965.71</td>\n",
       "      <td>31951.483932</td>\n",
       "      <td>NaN</td>\n",
       "      <td>NaN</td>\n",
       "      <td>NaN</td>\n",
       "      <td>NaN</td>\n",
       "    </tr>\n",
       "    <tr>\n",
       "      <th>869</th>\n",
       "      <td>2020-01-02</td>\n",
       "      <td>BINANCE:BTCUSDT</td>\n",
       "      <td>6965.49</td>\n",
       "      <td>7405.00</td>\n",
       "      <td>6871.04</td>\n",
       "      <td>7344.96</td>\n",
       "      <td>68428.500451</td>\n",
       "      <td>7155.335000</td>\n",
       "      <td>NaN</td>\n",
       "      <td>0.054445</td>\n",
       "      <td>NaN</td>\n",
       "    </tr>\n",
       "    <tr>\n",
       "      <th>870</th>\n",
       "      <td>2020-01-03</td>\n",
       "      <td>BINANCE:BTCUSDT</td>\n",
       "      <td>7345.00</td>\n",
       "      <td>7404.00</td>\n",
       "      <td>7272.21</td>\n",
       "      <td>7354.11</td>\n",
       "      <td>29987.974977</td>\n",
       "      <td>7287.851667</td>\n",
       "      <td>7155.335000</td>\n",
       "      <td>0.001246</td>\n",
       "      <td>NaN</td>\n",
       "    </tr>\n",
       "    <tr>\n",
       "      <th>871</th>\n",
       "      <td>2020-01-04</td>\n",
       "      <td>BINANCE:BTCUSDT</td>\n",
       "      <td>7354.19</td>\n",
       "      <td>7495.00</td>\n",
       "      <td>7318.00</td>\n",
       "      <td>7358.75</td>\n",
       "      <td>38331.085604</td>\n",
       "      <td>7335.117222</td>\n",
       "      <td>7287.851667</td>\n",
       "      <td>0.000631</td>\n",
       "      <td>0.018520</td>\n",
       "    </tr>\n",
       "    <tr>\n",
       "      <th>872</th>\n",
       "      <td>2020-01-05</td>\n",
       "      <td>BINANCE:BTCUSDT</td>\n",
       "      <td>7357.64</td>\n",
       "      <td>7795.34</td>\n",
       "      <td>7346.76</td>\n",
       "      <td>7758.00</td>\n",
       "      <td>54635.695316</td>\n",
       "      <td>7617.039074</td>\n",
       "      <td>7335.117222</td>\n",
       "      <td>0.054255</td>\n",
       "      <td>0.006486</td>\n",
       "    </tr>\n",
       "  </tbody>\n",
       "</table>\n",
       "</div>"
      ],
      "text/plain": [
       "      datetime           symbol     open     high      low    close  \\\n",
       "868 2020-01-01  BINANCE:BTCUSDT  7200.77  7212.50  6924.74  6965.71   \n",
       "869 2020-01-02  BINANCE:BTCUSDT  6965.49  7405.00  6871.04  7344.96   \n",
       "870 2020-01-03  BINANCE:BTCUSDT  7345.00  7404.00  7272.21  7354.11   \n",
       "871 2020-01-04  BINANCE:BTCUSDT  7354.19  7495.00  7318.00  7358.75   \n",
       "872 2020-01-05  BINANCE:BTCUSDT  7357.64  7795.34  7346.76  7758.00   \n",
       "\n",
       "           volume        EMA_2  EMA_2_1_days_lagged  close_return  \\\n",
       "868  31951.483932          NaN                  NaN           NaN   \n",
       "869  68428.500451  7155.335000                  NaN      0.054445   \n",
       "870  29987.974977  7287.851667          7155.335000      0.001246   \n",
       "871  38331.085604  7335.117222          7287.851667      0.000631   \n",
       "872  54635.695316  7617.039074          7335.117222      0.054255   \n",
       "\n",
       "     EMA_2_1_days_lagged_return  \n",
       "868                         NaN  \n",
       "869                         NaN  \n",
       "870                         NaN  \n",
       "871                    0.018520  \n",
       "872                    0.006486  "
      ]
     },
     "execution_count": 18,
     "metadata": {},
     "output_type": "execute_result"
    }
   ],
   "source": [
    "bitcoin.head()"
   ]
  },
  {
   "cell_type": "code",
   "execution_count": 146,
   "metadata": {},
   "outputs": [],
   "source": [
    "formula_1 = 'close_return ~ EMA_2_1_days_lagged_return'\n",
    "res_1 = ols(formula_1, data= bitcoin).fit()"
   ]
  },
  {
   "cell_type": "code",
   "execution_count": 149,
   "metadata": {},
   "outputs": [
    {
     "name": "stdout",
     "output_type": "stream",
     "text": [
      "                             OLS Regression Results                             \n",
      "================================================================================\n",
      "Dep. Variable:     close_bitcoin_return   R-squared:                       0.007\n",
      "Model:                              OLS   Adj. R-squared:                  0.006\n",
      "Method:                   Least Squares   F-statistic:                     5.512\n",
      "Date:                  Sat, 19 Feb 2022   Prob (F-statistic):             0.0191\n",
      "Time:                          17:36:24   Log-Likelihood:                 1391.6\n",
      "No. Observations:                   777   AIC:                            -2779.\n",
      "Df Residuals:                       775   BIC:                            -2770.\n",
      "Df Model:                             1                                         \n",
      "Covariance Type:              nonrobust                                         \n",
      "==============================================================================================\n",
      "                                 coef    std err          t      P>|t|      [0.025      0.975]\n",
      "----------------------------------------------------------------------------------------------\n",
      "Intercept                      0.0034      0.001      2.303      0.022       0.000       0.006\n",
      "EMA_2_1_days_lagged_return    -0.1226      0.052     -2.348      0.019      -0.225      -0.020\n",
      "==============================================================================\n",
      "Omnibus:                      270.665   Durbin-Watson:                   2.043\n",
      "Prob(Omnibus):                  0.000   Jarque-Bera (JB):             5862.023\n",
      "Skew:                          -1.032   Prob(JB):                         0.00\n",
      "Kurtosis:                      16.297   Cond. No.                         36.0\n",
      "==============================================================================\n",
      "\n",
      "Notes:\n",
      "[1] Standard Errors assume that the covariance matrix of the errors is correctly specified.\n"
     ]
    }
   ],
   "source": [
    "print(res_1.summary())"
   ]
  },
  {
   "cell_type": "code",
   "execution_count": null,
   "metadata": {},
   "outputs": [],
   "source": []
  },
  {
   "cell_type": "code",
   "execution_count": null,
   "metadata": {},
   "outputs": [],
   "source": []
  },
  {
   "cell_type": "code",
   "execution_count": null,
   "metadata": {},
   "outputs": [],
   "source": []
  },
  {
   "cell_type": "code",
   "execution_count": null,
   "metadata": {},
   "outputs": [],
   "source": []
  },
  {
   "cell_type": "code",
   "execution_count": null,
   "metadata": {},
   "outputs": [],
   "source": []
  }
 ],
 "metadata": {
  "kernelspec": {
   "display_name": "Python 3 (ipykernel)",
   "language": "python",
   "name": "python3"
  },
  "language_info": {
   "codemirror_mode": {
    "name": "ipython",
    "version": 3
   },
   "file_extension": ".py",
   "mimetype": "text/x-python",
   "name": "python",
   "nbconvert_exporter": "python",
   "pygments_lexer": "ipython3",
   "version": "3.8.12"
  }
 },
 "nbformat": 4,
 "nbformat_minor": 2
}
