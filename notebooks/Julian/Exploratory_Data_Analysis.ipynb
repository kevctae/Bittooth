{
 "cells": [
  {
   "cell_type": "code",
   "execution_count": 2,
   "id": "95a052d8",
   "metadata": {},
   "outputs": [],
   "source": [
    "# Basic Libraries\n",
    "import pandas as pd\n",
    "import matplotlib.pyplot as plt\n",
    "import numpy as np\n",
    "import datetime\n",
    "\n",
    "# Library for downloading data\n",
    "from tvDatafeed import TvDatafeed, Interval"
   ]
  },
  {
   "cell_type": "code",
   "execution_count": 3,
   "id": "1d371f2a",
   "metadata": {},
   "outputs": [],
   "source": [
    "# Basic Environment setup\n",
    "plt.rcParams['figure.figsize'] = (15,5)\n",
    "\n",
    "# Make pandas display all columns\n",
    "pd.set_option(\"display.max_columns\", None)"
   ]
  },
  {
   "cell_type": "code",
   "execution_count": null,
   "id": "af441bf5",
   "metadata": {},
   "outputs": [],
   "source": []
  },
  {
   "cell_type": "code",
   "execution_count": null,
   "id": "99b65549",
   "metadata": {},
   "outputs": [],
   "source": []
  },
  {
   "cell_type": "markdown",
   "id": "fbfeaac6",
   "metadata": {},
   "source": [
    "## Downloading Data"
   ]
  },
  {
   "cell_type": "code",
   "execution_count": 4,
   "id": "420d8c1d",
   "metadata": {},
   "outputs": [
    {
     "name": "stderr",
     "output_type": "stream",
     "text": [
      "you are using nologin method, data you access may be limited\n"
     ]
    }
   ],
   "source": [
    "tv = TvDatafeed()\n",
    "\n",
    "bitcoi = tv.get_hist(symbol='BTCUSD', exchange='COINBASE', interval=Interval.in_daily, n_bars=5000)\n",
    "bitcoi = bitcoi.reset_index()\n",
    "bitcoi.index = bitcoi['datetime']\n",
    "bitcoi = bitcoi.drop(columns = 'datetime', inplace = False)"
   ]
  },
  {
   "cell_type": "code",
   "execution_count": null,
   "id": "a70bdca0",
   "metadata": {},
   "outputs": [],
   "source": []
  },
  {
   "cell_type": "code",
   "execution_count": null,
   "id": "8dcec0fe",
   "metadata": {},
   "outputs": [],
   "source": []
  },
  {
   "cell_type": "code",
   "execution_count": null,
   "id": "e8c4bce8",
   "metadata": {},
   "outputs": [],
   "source": []
  },
  {
   "cell_type": "code",
   "execution_count": null,
   "id": "e14766bf",
   "metadata": {},
   "outputs": [],
   "source": []
  },
  {
   "cell_type": "markdown",
   "id": "09c53e9d",
   "metadata": {},
   "source": [
    "## Exploratory Data Analysis"
   ]
  },
  {
   "cell_type": "code",
   "execution_count": 5,
   "id": "f3c3b740",
   "metadata": {},
   "outputs": [
    {
     "data": {
      "text/html": [
       "<div>\n",
       "<style scoped>\n",
       "    .dataframe tbody tr th:only-of-type {\n",
       "        vertical-align: middle;\n",
       "    }\n",
       "\n",
       "    .dataframe tbody tr th {\n",
       "        vertical-align: top;\n",
       "    }\n",
       "\n",
       "    .dataframe thead th {\n",
       "        text-align: right;\n",
       "    }\n",
       "</style>\n",
       "<table border=\"1\" class=\"dataframe\">\n",
       "  <thead>\n",
       "    <tr style=\"text-align: right;\">\n",
       "      <th></th>\n",
       "      <th>symbol</th>\n",
       "      <th>open</th>\n",
       "      <th>high</th>\n",
       "      <th>low</th>\n",
       "      <th>close</th>\n",
       "      <th>volume</th>\n",
       "    </tr>\n",
       "    <tr>\n",
       "      <th>datetime</th>\n",
       "      <th></th>\n",
       "      <th></th>\n",
       "      <th></th>\n",
       "      <th></th>\n",
       "      <th></th>\n",
       "      <th></th>\n",
       "    </tr>\n",
       "  </thead>\n",
       "  <tbody>\n",
       "    <tr>\n",
       "      <th>2014-11-30 19:00:00</th>\n",
       "      <td>COINBASE:BTCUSD</td>\n",
       "      <td>300.0</td>\n",
       "      <td>370.0</td>\n",
       "      <td>300.00</td>\n",
       "      <td>370.0</td>\n",
       "      <td>0.05660</td>\n",
       "    </tr>\n",
       "    <tr>\n",
       "      <th>2014-12-01 19:00:00</th>\n",
       "      <td>COINBASE:BTCUSD</td>\n",
       "      <td>377.0</td>\n",
       "      <td>378.0</td>\n",
       "      <td>377.00</td>\n",
       "      <td>378.0</td>\n",
       "      <td>15.01367</td>\n",
       "    </tr>\n",
       "    <tr>\n",
       "      <th>2014-12-02 19:00:00</th>\n",
       "      <td>COINBASE:BTCUSD</td>\n",
       "      <td>377.9</td>\n",
       "      <td>378.0</td>\n",
       "      <td>377.01</td>\n",
       "      <td>378.0</td>\n",
       "      <td>0.54666</td>\n",
       "    </tr>\n",
       "    <tr>\n",
       "      <th>2014-12-03 19:00:00</th>\n",
       "      <td>COINBASE:BTCUSD</td>\n",
       "      <td>377.1</td>\n",
       "      <td>377.1</td>\n",
       "      <td>377.10</td>\n",
       "      <td>377.1</td>\n",
       "      <td>0.01001</td>\n",
       "    </tr>\n",
       "    <tr>\n",
       "      <th>2014-12-05 19:00:00</th>\n",
       "      <td>COINBASE:BTCUSD</td>\n",
       "      <td>378.0</td>\n",
       "      <td>378.0</td>\n",
       "      <td>378.00</td>\n",
       "      <td>378.0</td>\n",
       "      <td>0.01501</td>\n",
       "    </tr>\n",
       "  </tbody>\n",
       "</table>\n",
       "</div>"
      ],
      "text/plain": [
       "                              symbol   open   high     low  close    volume\n",
       "datetime                                                                   \n",
       "2014-11-30 19:00:00  COINBASE:BTCUSD  300.0  370.0  300.00  370.0   0.05660\n",
       "2014-12-01 19:00:00  COINBASE:BTCUSD  377.0  378.0  377.00  378.0  15.01367\n",
       "2014-12-02 19:00:00  COINBASE:BTCUSD  377.9  378.0  377.01  378.0   0.54666\n",
       "2014-12-03 19:00:00  COINBASE:BTCUSD  377.1  377.1  377.10  377.1   0.01001\n",
       "2014-12-05 19:00:00  COINBASE:BTCUSD  378.0  378.0  378.00  378.0   0.01501"
      ]
     },
     "execution_count": 5,
     "metadata": {},
     "output_type": "execute_result"
    }
   ],
   "source": [
    "bitcoi.head()"
   ]
  },
  {
   "cell_type": "code",
   "execution_count": 6,
   "id": "8435be1c",
   "metadata": {},
   "outputs": [
    {
     "data": {
      "text/plain": [
       "<matplotlib.legend.Legend at 0x10f418af0>"
      ]
     },
     "execution_count": 6,
     "metadata": {},
     "output_type": "execute_result"
    },
    {
     "data": {
      "image/png": "[encoded data removed]",
      "text/plain": [
       "<Figure size 1080x360 with 2 Axes>"
      ]
     },
     "metadata": {
      "needs_background": "light"
     },
     "output_type": "display_data"
    }
   ],
   "source": [
    "\n",
    "fig, (ax1, ax2) = plt.subplots(2,1, sharex = True)\n",
    "\n",
    "ax1.plot(bitcoi['close'], label = \"Closing Price\")\n",
    "ax2.plot(bitcoi['volume'], label = \"Trading Volume\")\n",
    "\n",
    "ax1.set_title(\"Price and Volume of Bitcoin\", fontsize = 14)\n",
    "ax1.legend()\n",
    "ax2.legend()\n"
   ]
  },
  {
   "cell_type": "code",
   "execution_count": 7,
   "id": "b3348576",
   "metadata": {},
   "outputs": [
    {
     "data": {
      "text/html": [
       "<div>\n",
       "<style scoped>\n",
       "    .dataframe tbody tr th:only-of-type {\n",
       "        vertical-align: middle;\n",
       "    }\n",
       "\n",
       "    .dataframe tbody tr th {\n",
       "        vertical-align: top;\n",
       "    }\n",
       "\n",
       "    .dataframe thead th {\n",
       "        text-align: right;\n",
       "    }\n",
       "</style>\n",
       "<table border=\"1\" class=\"dataframe\">\n",
       "  <thead>\n",
       "    <tr style=\"text-align: right;\">\n",
       "      <th></th>\n",
       "      <th>symbol</th>\n",
       "      <th>open</th>\n",
       "      <th>high</th>\n",
       "      <th>low</th>\n",
       "      <th>close</th>\n",
       "      <th>volume</th>\n",
       "    </tr>\n",
       "    <tr>\n",
       "      <th>datetime</th>\n",
       "      <th></th>\n",
       "      <th></th>\n",
       "      <th></th>\n",
       "      <th></th>\n",
       "      <th></th>\n",
       "      <th></th>\n",
       "    </tr>\n",
       "  </thead>\n",
       "  <tbody>\n",
       "    <tr>\n",
       "      <th>2014-11-30 19:00:00</th>\n",
       "      <td>COINBASE:BTCUSD</td>\n",
       "      <td>300.0</td>\n",
       "      <td>370.0</td>\n",
       "      <td>300.00</td>\n",
       "      <td>370.0</td>\n",
       "      <td>0.05660</td>\n",
       "    </tr>\n",
       "    <tr>\n",
       "      <th>2014-12-01 19:00:00</th>\n",
       "      <td>COINBASE:BTCUSD</td>\n",
       "      <td>377.0</td>\n",
       "      <td>378.0</td>\n",
       "      <td>377.00</td>\n",
       "      <td>378.0</td>\n",
       "      <td>15.01367</td>\n",
       "    </tr>\n",
       "    <tr>\n",
       "      <th>2014-12-02 19:00:00</th>\n",
       "      <td>COINBASE:BTCUSD</td>\n",
       "      <td>377.9</td>\n",
       "      <td>378.0</td>\n",
       "      <td>377.01</td>\n",
       "      <td>378.0</td>\n",
       "      <td>0.54666</td>\n",
       "    </tr>\n",
       "    <tr>\n",
       "      <th>2014-12-03 19:00:00</th>\n",
       "      <td>COINBASE:BTCUSD</td>\n",
       "      <td>377.1</td>\n",
       "      <td>377.1</td>\n",
       "      <td>377.10</td>\n",
       "      <td>377.1</td>\n",
       "      <td>0.01001</td>\n",
       "    </tr>\n",
       "    <tr>\n",
       "      <th>2014-12-05 19:00:00</th>\n",
       "      <td>COINBASE:BTCUSD</td>\n",
       "      <td>378.0</td>\n",
       "      <td>378.0</td>\n",
       "      <td>378.00</td>\n",
       "      <td>378.0</td>\n",
       "      <td>0.01501</td>\n",
       "    </tr>\n",
       "  </tbody>\n",
       "</table>\n",
       "</div>"
      ],
      "text/plain": [
       "                              symbol   open   high     low  close    volume\n",
       "datetime                                                                   \n",
       "2014-11-30 19:00:00  COINBASE:BTCUSD  300.0  370.0  300.00  370.0   0.05660\n",
       "2014-12-01 19:00:00  COINBASE:BTCUSD  377.0  378.0  377.00  378.0  15.01367\n",
       "2014-12-02 19:00:00  COINBASE:BTCUSD  377.9  378.0  377.01  378.0   0.54666\n",
       "2014-12-03 19:00:00  COINBASE:BTCUSD  377.1  377.1  377.10  377.1   0.01001\n",
       "2014-12-05 19:00:00  COINBASE:BTCUSD  378.0  378.0  378.00  378.0   0.01501"
      ]
     },
     "execution_count": 7,
     "metadata": {},
     "output_type": "execute_result"
    }
   ],
   "source": [
    "bitcoi.head()"
   ]
  },
  {
   "cell_type": "code",
   "execution_count": 8,
   "id": "cb5d8527",
   "metadata": {},
   "outputs": [],
   "source": [
    "# calculate return\n",
    "'''\n",
    "Function to calculate Returns\n",
    "\n",
    "Parameter:\n",
    "dataframe\n",
    "column - str column name to calculate return on \n",
    "window - int or list of int representing days (default set to 1)\n",
    "\n",
    "Output:\n",
    "\n",
    "'''\n",
    "\n",
    "def calculate_return(df, column, window = 1):\n",
    "    \n",
    "    if df.index.name != 'datetime':\n",
    "        df.index = df['datetime']\n",
    "        #df = df.drop(columns = 'datetime', inplace = False)\n",
    "    \n",
    "    # calculate return and create a column\n",
    "    if type(window) == list:\n",
    "        for i in window:\n",
    "            df[str(i)+'_days_return'] = df[column].pct_change(i)\n",
    "    else:\n",
    "        df[str(i)+'_days_return'] = df[column].pct_change(window)\n",
    "        \n",
    "    \n",
    "    \n",
    "    return df"
   ]
  },
  {
   "cell_type": "code",
   "execution_count": 9,
   "id": "9440475b",
   "metadata": {},
   "outputs": [],
   "source": [
    "bitcoi = calculate_return(bitcoi, 'close', [1,2,3,4,5,7])\n"
   ]
  },
  {
   "cell_type": "code",
   "execution_count": 10,
   "id": "7cdb38b4",
   "metadata": {},
   "outputs": [
    {
     "data": {
      "text/plain": [
       "'1'"
      ]
     },
     "execution_count": 10,
     "metadata": {},
     "output_type": "execute_result"
    }
   ],
   "source": [
    " bitcoi['1_days_return'].name[0]"
   ]
  },
  {
   "cell_type": "code",
   "execution_count": 11,
   "id": "0a6fa2a6",
   "metadata": {},
   "outputs": [
    {
     "data": {
      "text/plain": [
       "Text(0.5, 1.0, 'Bitcoin 1- day Return')"
      ]
     },
     "execution_count": 11,
     "metadata": {},
     "output_type": "execute_result"
    },
    {
     "data": {
      "image/png": "[encoded data removed]",
      "text/plain": [
       "<Figure size 1080x360 with 1 Axes>"
      ]
     },
     "metadata": {
      "needs_background": "light"
     },
     "output_type": "display_data"
    }
   ],
   "source": [
    "\n",
    "fig, ax = plt.subplots()\n",
    "column = '1_days_return'\n",
    "day = column[0]\n",
    "\n",
    "ax = bitcoi[column].plot.hist( bins = 200)\n",
    "\n",
    "ax.set_xlabel(\"Return\", fontsize = 14)\n",
    "ax.set_title(f\"Bitcoin {day}- day Return\")"
   ]
  },
  {
   "cell_type": "code",
   "execution_count": 12,
   "id": "8d3913a9",
   "metadata": {},
   "outputs": [
    {
     "data": {
      "text/plain": [
       "Text(0.5, 1.0, 'Bitcoin 4- day Return')"
      ]
     },
     "execution_count": 12,
     "metadata": {},
     "output_type": "execute_result"
    },
    {
     "data": {
      "image/png": "[encoded data removed]",
      "text/plain": [
       "<Figure size 1080x360 with 1 Axes>"
      ]
     },
     "metadata": {
      "needs_background": "light"
     },
     "output_type": "display_data"
    }
   ],
   "source": [
    "fig, ax = plt.subplots()\n",
    "column = '4_days_return'\n",
    "day = column[0]\n",
    "\n",
    "ax = bitcoi[column].plot.hist( bins = 200)\n",
    "\n",
    "ax.set_xlabel(\"Return\", fontsize = 14)\n",
    "ax.set_title(f\"Bitcoin {day}- day Return\")"
   ]
  },
  {
   "cell_type": "code",
   "execution_count": 13,
   "id": "dac283ad",
   "metadata": {},
   "outputs": [
    {
     "data": {
      "text/plain": [
       "Text(0.5, 1.0, 'Bitcoin 7- day Return')"
      ]
     },
     "execution_count": 13,
     "metadata": {},
     "output_type": "execute_result"
    },
    {
     "data": {
      "image/png": "[encoded data removed]",
      "text/plain": [
       "<Figure size 1080x360 with 1 Axes>"
      ]
     },
     "metadata": {
      "needs_background": "light"
     },
     "output_type": "display_data"
    }
   ],
   "source": [
    "fig, ax = plt.subplots()\n",
    "column = '7_days_return'\n",
    "day = column[0]\n",
    "\n",
    "ax = bitcoi[column].plot.hist( bins = 200)\n",
    "\n",
    "ax.set_xlabel(\"Return\", fontsize = 14)\n",
    "ax.set_title(f\"Bitcoin {day}- day Return\")"
   ]
  },
  {
   "cell_type": "code",
   "execution_count": null,
   "id": "01fb2f67",
   "metadata": {},
   "outputs": [],
   "source": []
  },
  {
   "cell_type": "code",
   "execution_count": null,
   "id": "351a136e",
   "metadata": {},
   "outputs": [],
   "source": []
  },
  {
   "cell_type": "markdown",
   "id": "6d3334f5",
   "metadata": {},
   "source": [
    "**Linear Regression**"
   ]
  },
  {
   "cell_type": "code",
   "execution_count": null,
   "id": "331f5497",
   "metadata": {},
   "outputs": [],
   "source": []
  },
  {
   "cell_type": "code",
   "execution_count": null,
   "id": "71ff0315",
   "metadata": {},
   "outputs": [],
   "source": []
  },
  {
   "cell_type": "code",
   "execution_count": null,
   "id": "1f1f5a7e",
   "metadata": {},
   "outputs": [],
   "source": []
  },
  {
   "cell_type": "code",
   "execution_count": null,
   "id": "5f2681e8",
   "metadata": {},
   "outputs": [],
   "source": []
  },
  {
   "cell_type": "code",
   "execution_count": null,
   "id": "a74840e1",
   "metadata": {},
   "outputs": [],
   "source": []
  }
 ],
 "metadata": {
  "kernelspec": {
   "display_name": "Python 3 (ipykernel)",
   "language": "python",
   "name": "python3"
  },
  "language_info": {
   "codemirror_mode": {
    "name": "ipython",
    "version": 3
   },
   "file_extension": ".py",
   "mimetype": "text/x-python",
   "name": "python",
   "nbconvert_exporter": "python",
   "pygments_lexer": "ipython3",
   "version": "3.8.12"
  }
 },
 "nbformat": 4,
 "nbformat_minor": 5
}
