{
 "cells": [
  {
   "cell_type": "code",
   "execution_count": 3,
   "metadata": {},
   "outputs": [
    {
     "name": "stderr",
     "output_type": "stream",
     "text": [
      "you are using nologin method, data you access may be limited\n"
     ]
    }
   ],
   "source": [
    "import pandas as pd\n",
    "import matplotlib.pyplot as plt\n",
    "from sklearn.model_selection import train_test_split\n",
    "from sklearn.linear_model import LinearRegression\n",
    "from sklearn.metrics import mean_squared_error\n",
    "from tvDatafeed import TvDatafeed, Interval\n",
    "import numpy as np\n",
    "import datetime\n",
    "tv = TvDatafeed()\n",
    "bitcoi = tv.get_hist(symbol='BTCUSD', exchange='COINBASE', interval=Interval.in_daily, n_bars=5000)\n",
    "bitcoi = bitcoi.reset_index()"
   ]
  },
  {
   "cell_type": "code",
   "execution_count": 4,
   "metadata": {},
   "outputs": [],
   "source": [
    "# !pip install --upgrade --no-cache-dir git+https://github.com/StreamAlpha/tvdatafeed.git"
   ]
  },
  {
   "cell_type": "code",
   "execution_count": 29,
   "metadata": {},
   "outputs": [],
   "source": [
    "def predict_bitcoin_price(n):\n",
    "    bitcoin=bitcoi[:-n].copy()\n",
    "#     plt.figure(figsize = (12, 7))\n",
    "#     plt.plot(bitcoin[\"datetime\"], bitcoin[\"close\"], color='goldenrod', lw=2)\n",
    "#     plt.title(\"Bitcoin Price over time\", size=25)\n",
    "#     plt.xlabel(\"Time\", size=20)\n",
    "#     plt.ylabel(\"$ Price\", size=20)\n",
    "#     plt.show()\n",
    "\n",
    "#     plt.figure(figsize = (12, 7))\n",
    "#     plt.plot(bitcoin[\"datetime\"], bitcoin[\"volume\"], color='royalblue', lw=2)\n",
    "#     plt.title(\"Bitcoin Volume over time\", size=25)\n",
    "#     plt.xlabel(\"Time\", size=20)\n",
    "#     plt.ylabel(\"Volume\", size=20);\n",
    "#     plt.show()\n",
    "\n",
    "    required_features = ['open', 'high', 'low', 'volume']\n",
    "    output_label = 'close'\n",
    "    x_train, x_test, y_train, y_test = train_test_split(bitcoin[required_features],bitcoin[output_label],test_size = 0.2)\n",
    "    model = LinearRegression()\n",
    "    model.fit(x_train, y_train)\n",
    "    #print(\"Model score is\",model.score(x_test, y_test))\n",
    "    future_set = bitcoin.tail(n).copy()\n",
    "    prediction = model.predict(future_set[required_features])\n",
    "    future_set[\"datetime\"]=future_set[\"datetime\"]+datetime.timedelta(days=n)\n",
    "    \n",
    "    future_set[\"predict\"]=prediction\n",
    "#     plt.figure(figsize = (12, 7))\n",
    "#     plt.plot(bitcoin[\"datetime\"][2400:], bitcoin[\"close\"][2400:], color='goldenrod', lw=2)\n",
    "#     plt.plot(future_set[\"datetime\"], future_set[\"predict\"], color='deeppink', lw=2)\n",
    "#     plt.title(\"Bitcoin Price over time\", size=25)\n",
    "#     plt.xlabel(\"Time\", size=20)\n",
    "#     plt.ylabel(\"$ Price\", size=20)\n",
    "#     plt.show()\n",
    "\n",
    "#     plt.figure(figsize = (12, 7))\n",
    "#     plt.plot(bitcoi[\"datetime\"].tail(n), bitcoi[\"close\"].tail(n), color='goldenrod', lw=2)\n",
    "#     plt.plot(future_set[\"datetime\"], future_set[\"predict\"], color='deeppink', lw=2)\n",
    "#     plt.title(\"Bitcoin Price over time\", size=25)\n",
    "#     plt.xlabel(\"Time\", size=20)\n",
    "#     plt.ylabel(\"$ Price\", size=20)\n",
    "#     plt.show()\n",
    "    error=mean_squared_error(np.array(bitcoi[\"close\"].tail(n)), np.array(future_set[\"predict\"]))\n",
    "    return error\n",
    "    "
   ]
  },
  {
   "cell_type": "code",
   "execution_count": 32,
   "metadata": {},
   "outputs": [
    {
     "name": "stdout",
     "output_type": "stream",
     "text": [
      "n= 1 error is 338022.7985764462\n",
      "n= 2 error is 2013556.739073249\n",
      "n= 3 error is 939741.9275064707\n",
      "n= 4 error is 2481694.249265888\n",
      "n= 5 error is 3392737.2872615196\n",
      "n= 6 error is 11707593.63757564\n",
      "n= 7 error is 16358042.099025408\n",
      "n= 8 error is 23262580.559196893\n",
      "n= 9 error is 29695992.74006231\n",
      "n= 10 error is 34467510.24113214\n",
      "n= 11 error is 29647401.96160352\n",
      "n= 12 error is 26699601.76018141\n",
      "n= 13 error is 24644153.500941552\n",
      "n= 14 error is 25760417.221480343\n",
      "n= 15 error is 27237834.504180755\n",
      "n= 16 error is 29872060.97620437\n",
      "n= 17 error is 34131784.759049505\n",
      "n= 18 error is 43093110.275835276\n",
      "n= 19 error is 48790813.149866626\n",
      "n= 20 error is 54530012.65201408\n",
      "n= 21 error is 58302468.85201836\n",
      "n= 22 error is 60821403.368539214\n",
      "n= 23 error is 63574972.224137306\n",
      "n= 24 error is 67479270.66188444\n",
      "n= 25 error is 71614829.3823409\n",
      "n= 26 error is 75020031.30182473\n",
      "n= 27 error is 74816135.48026702\n",
      "n= 28 error is 75590809.94648865\n",
      "n= 29 error is 75094475.57771377\n",
      "n= 30 error is 77598681.51892121\n",
      "n= 31 error is 84486267.40506667\n",
      "n= 32 error is 88184890.57868207\n",
      "n= 33 error is 91085906.40009338\n",
      "n= 34 error is 96353358.40638787\n",
      "n= 35 error is 97050684.99760175\n",
      "n= 36 error is 100808266.81859697\n",
      "n= 37 error is 103866441.78849363\n",
      "n= 38 error is 108006470.21443854\n",
      "n= 39 error is 116845726.22520444\n",
      "n= 40 error is 128473613.60074858\n",
      "n= 41 error is 141215290.72829702\n",
      "n= 42 error is 158227393.0435473\n",
      "n= 43 error is 166837090.72505978\n",
      "n= 44 error is 176207319.9615077\n",
      "n= 45 error is 186849894.563905\n",
      "n= 46 error is 192962822.54618028\n",
      "n= 47 error is 198286826.7674423\n",
      "n= 48 error is 205775688.52503255\n",
      "n= 49 error is 215357573.66829744\n",
      "n= 50 error is 220837925.55938956\n"
     ]
    }
   ],
   "source": [
    "for i in range(1,51):\n",
    "    x=predict_bitcoin_price(i)\n",
    "    print(\"n=\",i,\"error is\",x)"
   ]
  },
  {
   "cell_type": "code",
   "execution_count": null,
   "metadata": {},
   "outputs": [],
   "source": []
  }
 ],
 "metadata": {
  "kernelspec": {
   "display_name": "Python 3 (ipykernel)",
   "language": "python",
   "name": "python3"
  },
  "language_info": {
   "codemirror_mode": {
    "name": "ipython",
    "version": 3
   },
   "file_extension": ".py",
   "mimetype": "text/x-python",
   "name": "python",
   "nbconvert_exporter": "python",
   "pygments_lexer": "ipython3",
   "version": "3.8.12"
  }
 },
 "nbformat": 4,
 "nbformat_minor": 2
}
