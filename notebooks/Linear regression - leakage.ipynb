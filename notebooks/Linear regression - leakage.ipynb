{
 "cells": [
  {
   "cell_type": "code",
   "execution_count": 1,
   "metadata": {},
   "outputs": [],
   "source": [
    "import pandas as pd\n",
    "import numpy as np\n",
    "import matplotlib.pyplot as plt\n",
    "from sklearn.model_selection import train_test_split\n",
    "from sklearn.linear_model import LinearRegression\n",
    "from tvDatafeed import TvDatafeed, Interval"
   ]
  },
  {
   "cell_type": "code",
   "execution_count": 2,
   "metadata": {},
   "outputs": [],
   "source": [
    "import requests\n",
    "import json\n",
    "import pandas as pd\n",
    "import datetime"
   ]
  },
  {
   "cell_type": "code",
   "execution_count": 3,
   "metadata": {},
   "outputs": [],
   "source": [
    "n=1"
   ]
  },
  {
   "cell_type": "code",
   "execution_count": 4,
   "metadata": {},
   "outputs": [
    {
     "name": "stderr",
     "output_type": "stream",
     "text": [
      "you are using nologin method, data you access may be limited\n"
     ]
    }
   ],
   "source": [
    "tv = TvDatafeed()\n",
    "def getdata(name):\n",
    "    data=tv.get_hist(symbol=name,exchange='BINANCE',interval=Interval.in_daily,n_bars=5000)\n",
    "    data=data.reset_index()\n",
    "#     data[\"datetime\"]=data[\"datetime\"]+datetime.timedelta(days=1)\n",
    "    data[\"datetime\"]=data[\"datetime\"].dt.strftime('%Y-%m-%d')\n",
    "    data2=data[data[\"datetime\"]>=\"2020-01-01\"].copy()\n",
    "    data2[\"datetime\"] = pd.to_datetime(data2[\"datetime\"])\n",
    "    return data2"
   ]
  },
  {
   "cell_type": "code",
   "execution_count": 5,
   "metadata": {},
   "outputs": [],
   "source": [
    "def getapi(api):\n",
    "    response_API=requests.get(api)\n",
    "    data=response_API.text\n",
    "    parse_json=json.loads(data)\n",
    "    df = pd.json_normalize(parse_json['values'])\n",
    "    listtime=list(df['x'])\n",
    "    listtime2=[]\n",
    "    for i in listtime:\n",
    "        listtime2.append(datetime.datetime.fromtimestamp(i).strftime('%Y-%m-%d'))\n",
    "    df['datetime']=pd.Series(listtime2)\n",
    "    df[\"datetime\"] = pd.to_datetime(df[\"datetime\"])\n",
    "#     df[\"datetime\"]=df[\"datetime\"]+datetime.timedelta(days=1)\n",
    "    df=df[df[\"datetime\"]>=\"2020-01-01\"].copy()\n",
    "    df=df.drop(columns=['x'])\n",
    "    df.rename(columns={'y':'value'},inplace=True)\n",
    "    df=df.drop_duplicates(subset=['datetime'])\n",
    "    return df"
   ]
  },
  {
   "cell_type": "code",
   "execution_count": 6,
   "metadata": {},
   "outputs": [
    {
     "data": {
      "text/html": [
       "<div>\n",
       "<style scoped>\n",
       "    .dataframe tbody tr th:only-of-type {\n",
       "        vertical-align: middle;\n",
       "    }\n",
       "\n",
       "    .dataframe tbody tr th {\n",
       "        vertical-align: top;\n",
       "    }\n",
       "\n",
       "    .dataframe thead th {\n",
       "        text-align: right;\n",
       "    }\n",
       "</style>\n",
       "<table border=\"1\" class=\"dataframe\">\n",
       "  <thead>\n",
       "    <tr style=\"text-align: right;\">\n",
       "      <th></th>\n",
       "      <th>datetime</th>\n",
       "      <th>volume</th>\n",
       "      <th>open</th>\n",
       "      <th>high</th>\n",
       "      <th>low</th>\n",
       "      <th>close</th>\n",
       "    </tr>\n",
       "  </thead>\n",
       "  <tbody>\n",
       "    <tr>\n",
       "      <th>1640</th>\n",
       "      <td>2022-02-11</td>\n",
       "      <td>26556.85681</td>\n",
       "      <td>42373.73</td>\n",
       "      <td>43079.49</td>\n",
       "      <td>41688.88</td>\n",
       "      <td>42217.87</td>\n",
       "    </tr>\n",
       "    <tr>\n",
       "      <th>1641</th>\n",
       "      <td>2022-02-12</td>\n",
       "      <td>17731.83401</td>\n",
       "      <td>42217.87</td>\n",
       "      <td>42760.00</td>\n",
       "      <td>41870.00</td>\n",
       "      <td>42053.66</td>\n",
       "    </tr>\n",
       "    <tr>\n",
       "      <th>1642</th>\n",
       "      <td>2022-02-13</td>\n",
       "      <td>34010.13060</td>\n",
       "      <td>42053.65</td>\n",
       "      <td>42842.40</td>\n",
       "      <td>41550.56</td>\n",
       "      <td>42535.94</td>\n",
       "    </tr>\n",
       "    <tr>\n",
       "      <th>1643</th>\n",
       "      <td>2022-02-14</td>\n",
       "      <td>38093.46331</td>\n",
       "      <td>42535.94</td>\n",
       "      <td>44751.40</td>\n",
       "      <td>42427.03</td>\n",
       "      <td>44544.86</td>\n",
       "    </tr>\n",
       "    <tr>\n",
       "      <th>1644</th>\n",
       "      <td>2022-02-15</td>\n",
       "      <td>3312.51870</td>\n",
       "      <td>44544.85</td>\n",
       "      <td>44549.97</td>\n",
       "      <td>43877.18</td>\n",
       "      <td>43995.08</td>\n",
       "    </tr>\n",
       "  </tbody>\n",
       "</table>\n",
       "</div>"
      ],
      "text/plain": [
       "       datetime       volume      open      high       low     close\n",
       "1640 2022-02-11  26556.85681  42373.73  43079.49  41688.88  42217.87\n",
       "1641 2022-02-12  17731.83401  42217.87  42760.00  41870.00  42053.66\n",
       "1642 2022-02-13  34010.13060  42053.65  42842.40  41550.56  42535.94\n",
       "1643 2022-02-14  38093.46331  42535.94  44751.40  42427.03  44544.86\n",
       "1644 2022-02-15   3312.51870  44544.85  44549.97  43877.18  43995.08"
      ]
     },
     "execution_count": 6,
     "metadata": {},
     "output_type": "execute_result"
    }
   ],
   "source": [
    "bitcoi=getdata('BTCUSDT')\n",
    "eth=getdata('ETHUSDT')\n",
    "bnb=getdata('BNBUSDT')\n",
    "ada=getdata('ADAUSDT')\n",
    "bitcoi=bitcoi[[\"datetime\",\"volume\",\"open\",\"high\",\"low\",\"close\"]]\n",
    "bitcoi.tail(5)"
   ]
  },
  {
   "cell_type": "code",
   "execution_count": 7,
   "metadata": {},
   "outputs": [],
   "source": [
    "number_transactions=getapi('https://api.blockchain.info/charts/n-transactions?timespan=4years&rollingAverage=24hours&format=json&sampled=false')\n",
    "number_address=getapi('https://api.blockchain.info/charts/n-unique-addresses?timespan=4years&rollingAverage=24hours&format=json&sampled=false')\n",
    "transaction_second=getapi('https://api.blockchain.info/charts/transactions-per-second?timespan=4years&rollingAverage=24hours&format=json&sampled=false')\n",
    "transaction_second=transaction_second.groupby(['datetime']).mean().reset_index()\n",
    "total_bitcoin=getapi('https://api.blockchain.info/charts/total-bitcoins?timespan=4years&rollingAverage=24hours&format=json&sampled=true')\n",
    "volume_trade=getapi('https://api.blockchain.info/charts/trade-volume?timespan=4years&rollingAverage=24hours&format=json&sampled=false')\n",
    "hash_rate=getapi('https://api.blockchain.info/charts/hash-rate?timespan=4years&rollingAverage=24hours&format=json&sampled=false')"
   ]
  },
  {
   "cell_type": "code",
   "execution_count": 8,
   "metadata": {},
   "outputs": [],
   "source": [
    "bitcoin=bitcoi.merge(eth[[\"datetime\",\"close\"]],on='datetime',how='left',suffixes=('_bitcoin', '_eth'))\n",
    "bitcoin=bitcoin.merge(bnb[[\"datetime\",\"close\"]],on='datetime',how='left')\n",
    "bitcoin=bitcoin.merge(ada[[\"datetime\",\"close\"]],on='datetime',how='left',suffixes=('_bnb', '_ada'))"
   ]
  },
  {
   "cell_type": "code",
   "execution_count": 9,
   "metadata": {},
   "outputs": [],
   "source": [
    "data_api=number_transactions.merge(number_address,on='datetime',how='left',suffixes=('_number_transaction', '_number_address'))\n",
    "data_api=data_api.merge(transaction_second,on='datetime',how='left')\n",
    "data_api=data_api.merge(total_bitcoin,on='datetime',how='left',suffixes=('_transaction_second', '_total_bitcoin'))\n",
    "data_api=data_api.merge(volume_trade,on='datetime',how='left')\n",
    "data_api=data_api.merge(hash_rate,on='datetime',how='left',suffixes=('_volume_trade', '_hash_rate'))\n"
   ]
  },
  {
   "cell_type": "code",
   "execution_count": 10,
   "metadata": {},
   "outputs": [
    {
     "data": {
      "text/html": [
       "<div>\n",
       "<style scoped>\n",
       "    .dataframe tbody tr th:only-of-type {\n",
       "        vertical-align: middle;\n",
       "    }\n",
       "\n",
       "    .dataframe tbody tr th {\n",
       "        vertical-align: top;\n",
       "    }\n",
       "\n",
       "    .dataframe thead th {\n",
       "        text-align: right;\n",
       "    }\n",
       "</style>\n",
       "<table border=\"1\" class=\"dataframe\">\n",
       "  <thead>\n",
       "    <tr style=\"text-align: right;\">\n",
       "      <th></th>\n",
       "      <th>datetime</th>\n",
       "      <th>volume</th>\n",
       "      <th>open</th>\n",
       "      <th>high</th>\n",
       "      <th>low</th>\n",
       "      <th>close_bitcoin</th>\n",
       "      <th>close_eth</th>\n",
       "      <th>close_bnb</th>\n",
       "      <th>close_ada</th>\n",
       "      <th>value_number_transaction</th>\n",
       "      <th>value_number_address</th>\n",
       "      <th>value_transaction_second</th>\n",
       "      <th>value_total_bitcoin</th>\n",
       "      <th>value_volume_trade</th>\n",
       "      <th>value_hash_rate</th>\n",
       "    </tr>\n",
       "  </thead>\n",
       "  <tbody>\n",
       "    <tr>\n",
       "      <th>772</th>\n",
       "      <td>2022-02-11</td>\n",
       "      <td>26556.85681</td>\n",
       "      <td>42373.73</td>\n",
       "      <td>43079.49</td>\n",
       "      <td>41688.88</td>\n",
       "      <td>42217.87</td>\n",
       "      <td>2918.88</td>\n",
       "      <td>403.6</td>\n",
       "      <td>1.059</td>\n",
       "      <td>228189.0</td>\n",
       "      <td>604018.0</td>\n",
       "      <td>3.068403</td>\n",
       "      <td>1.895464e+07</td>\n",
       "      <td>3.225592e+08</td>\n",
       "      <td>2.481103e+08</td>\n",
       "    </tr>\n",
       "    <tr>\n",
       "      <th>773</th>\n",
       "      <td>2022-02-12</td>\n",
       "      <td>17731.83401</td>\n",
       "      <td>42217.87</td>\n",
       "      <td>42760.00</td>\n",
       "      <td>41870.00</td>\n",
       "      <td>42053.66</td>\n",
       "      <td>2871.13</td>\n",
       "      <td>397.9</td>\n",
       "      <td>1.042</td>\n",
       "      <td>208977.0</td>\n",
       "      <td>590527.0</td>\n",
       "      <td>2.986458</td>\n",
       "      <td>1.895553e+07</td>\n",
       "      <td>1.404551e+08</td>\n",
       "      <td>2.096333e+08</td>\n",
       "    </tr>\n",
       "    <tr>\n",
       "      <th>774</th>\n",
       "      <td>2022-02-13</td>\n",
       "      <td>34010.13060</td>\n",
       "      <td>42053.65</td>\n",
       "      <td>42842.40</td>\n",
       "      <td>41550.56</td>\n",
       "      <td>42535.94</td>\n",
       "      <td>2929.75</td>\n",
       "      <td>403.4</td>\n",
       "      <td>1.049</td>\n",
       "      <td>247592.0</td>\n",
       "      <td>630477.0</td>\n",
       "      <td>2.536632</td>\n",
       "      <td>1.895642e+07</td>\n",
       "      <td>9.067330e+07</td>\n",
       "      <td>2.029994e+08</td>\n",
       "    </tr>\n",
       "    <tr>\n",
       "      <th>775</th>\n",
       "      <td>2022-02-14</td>\n",
       "      <td>38093.46331</td>\n",
       "      <td>42535.94</td>\n",
       "      <td>44751.40</td>\n",
       "      <td>42427.03</td>\n",
       "      <td>44544.86</td>\n",
       "      <td>3183.52</td>\n",
       "      <td>432.4</td>\n",
       "      <td>1.107</td>\n",
       "      <td>273623.0</td>\n",
       "      <td>680501.0</td>\n",
       "      <td>2.481250</td>\n",
       "      <td>1.895731e+07</td>\n",
       "      <td>1.878267e+08</td>\n",
       "      <td>2.321888e+08</td>\n",
       "    </tr>\n",
       "    <tr>\n",
       "      <th>776</th>\n",
       "      <td>2022-02-15</td>\n",
       "      <td>3312.51870</td>\n",
       "      <td>44544.85</td>\n",
       "      <td>44549.97</td>\n",
       "      <td>43877.18</td>\n",
       "      <td>43995.08</td>\n",
       "      <td>3142.97</td>\n",
       "      <td>431.1</td>\n",
       "      <td>1.095</td>\n",
       "      <td>NaN</td>\n",
       "      <td>NaN</td>\n",
       "      <td>NaN</td>\n",
       "      <td>NaN</td>\n",
       "      <td>NaN</td>\n",
       "      <td>NaN</td>\n",
       "    </tr>\n",
       "  </tbody>\n",
       "</table>\n",
       "</div>"
      ],
      "text/plain": [
       "      datetime       volume      open      high       low  close_bitcoin  \\\n",
       "772 2022-02-11  26556.85681  42373.73  43079.49  41688.88       42217.87   \n",
       "773 2022-02-12  17731.83401  42217.87  42760.00  41870.00       42053.66   \n",
       "774 2022-02-13  34010.13060  42053.65  42842.40  41550.56       42535.94   \n",
       "775 2022-02-14  38093.46331  42535.94  44751.40  42427.03       44544.86   \n",
       "776 2022-02-15   3312.51870  44544.85  44549.97  43877.18       43995.08   \n",
       "\n",
       "     close_eth  close_bnb  close_ada  value_number_transaction  \\\n",
       "772    2918.88      403.6      1.059                  228189.0   \n",
       "773    2871.13      397.9      1.042                  208977.0   \n",
       "774    2929.75      403.4      1.049                  247592.0   \n",
       "775    3183.52      432.4      1.107                  273623.0   \n",
       "776    3142.97      431.1      1.095                       NaN   \n",
       "\n",
       "     value_number_address  value_transaction_second  value_total_bitcoin  \\\n",
       "772              604018.0                  3.068403         1.895464e+07   \n",
       "773              590527.0                  2.986458         1.895553e+07   \n",
       "774              630477.0                  2.536632         1.895642e+07   \n",
       "775              680501.0                  2.481250         1.895731e+07   \n",
       "776                   NaN                       NaN                  NaN   \n",
       "\n",
       "     value_volume_trade  value_hash_rate  \n",
       "772        3.225592e+08     2.481103e+08  \n",
       "773        1.404551e+08     2.096333e+08  \n",
       "774        9.067330e+07     2.029994e+08  \n",
       "775        1.878267e+08     2.321888e+08  \n",
       "776                 NaN              NaN  "
      ]
     },
     "execution_count": 10,
     "metadata": {},
     "output_type": "execute_result"
    }
   ],
   "source": [
    "bitcoin=bitcoin.merge(data_api,on='datetime',how='left')\n",
    "bitcoin.tail(5)"
   ]
  },
  {
   "cell_type": "code",
   "execution_count": 11,
   "metadata": {},
   "outputs": [
    {
     "data": {
      "image/png": "[encoded data removed]",
      "text/plain": [
       "<Figure size 864x504 with 1 Axes>"
      ]
     },
     "metadata": {
      "needs_background": "light"
     },
     "output_type": "display_data"
    }
   ],
   "source": [
    "plt.figure(figsize = (12, 7))\n",
    "plt.plot(bitcoin[\"datetime\"], bitcoin[\"close_bitcoin\"], color='goldenrod', lw=2)\n",
    "plt.title(\"Bitcoin Price over time\", size=25)\n",
    "plt.xlabel(\"Time\", size=20)\n",
    "plt.ylabel(\"$ Price\", size=20)\n",
    "plt.show()"
   ]
  },
  {
   "cell_type": "code",
   "execution_count": 12,
   "metadata": {},
   "outputs": [
    {
     "data": {
      "image/png": "[encoded data removed]",
      "text/plain": [
       "<Figure size 864x504 with 1 Axes>"
      ]
     },
     "metadata": {
      "needs_background": "light"
     },
     "output_type": "display_data"
    }
   ],
   "source": [
    "plt.figure(figsize = (12, 7))\n",
    "plt.plot(bitcoin[\"datetime\"], bitcoin[\"volume\"], color='royalblue', lw=2)\n",
    "plt.title(\"Bitcoin Volume over time\", size=25)\n",
    "plt.xlabel(\"Time\", size=20)\n",
    "plt.ylabel(\"Volume\", size=20);"
   ]
  },
  {
   "cell_type": "code",
   "execution_count": 13,
   "metadata": {},
   "outputs": [
    {
     "data": {
      "text/plain": [
       "datetime                     0\n",
       "volume                       0\n",
       "open                         0\n",
       "high                         0\n",
       "low                          0\n",
       "close_bitcoin                0\n",
       "close_eth                    0\n",
       "close_bnb                    0\n",
       "close_ada                    0\n",
       "value_number_transaction     1\n",
       "value_number_address         3\n",
       "value_transaction_second     1\n",
       "value_total_bitcoin         32\n",
       "value_volume_trade           1\n",
       "value_hash_rate              1\n",
       "dtype: int64"
      ]
     },
     "execution_count": 13,
     "metadata": {},
     "output_type": "execute_result"
    }
   ],
   "source": [
    "bitcoin.isnull().sum()"
   ]
  },
  {
   "cell_type": "code",
   "execution_count": 14,
   "metadata": {},
   "outputs": [
    {
     "data": {
      "text/plain": [
       "volume                      0\n",
       "open                        0\n",
       "high                        0\n",
       "low                         0\n",
       "close_bitcoin               0\n",
       "close_eth                   0\n",
       "close_bnb                   0\n",
       "close_ada                   0\n",
       "value_number_transaction    0\n",
       "value_number_address        0\n",
       "value_transaction_second    0\n",
       "value_total_bitcoin         0\n",
       "value_volume_trade          0\n",
       "value_hash_rate             0\n",
       "datetime                    0\n",
       "dtype: int64"
      ]
     },
     "execution_count": 14,
     "metadata": {},
     "output_type": "execute_result"
    }
   ],
   "source": [
    "# bitcoin=bitcoin.interpolate(method='linear')\n",
    "temp=bitcoin[\"datetime\"]\n",
    "bitcoin=bitcoin.drop(columns=['datetime'])\n",
    "bitcoin=bitcoin.interpolate()\n",
    "bitcoin['datetime']=temp\n",
    "bitcoin.isnull().sum()"
   ]
  },
  {
   "cell_type": "code",
   "execution_count": 15,
   "metadata": {},
   "outputs": [],
   "source": [
    "required_features = ['volume','open', 'high', 'low','close_eth','close_bnb','close_ada','value_number_transaction','value_number_address','value_transaction_second','value_total_bitcoin','value_volume_trade', 'value_hash_rate']\n",
    "output_label = 'close_bitcoin'"
   ]
  },
  {
   "cell_type": "code",
   "execution_count": 16,
   "metadata": {},
   "outputs": [],
   "source": [
    "x_train, x_test, y_train, y_test = train_test_split(bitcoin[required_features],bitcoin[output_label],test_size = 0.2)"
   ]
  },
  {
   "cell_type": "code",
   "execution_count": 17,
   "metadata": {},
   "outputs": [
    {
     "data": {
      "text/html": [
       "<div>\n",
       "<style scoped>\n",
       "    .dataframe tbody tr th:only-of-type {\n",
       "        vertical-align: middle;\n",
       "    }\n",
       "\n",
       "    .dataframe tbody tr th {\n",
       "        vertical-align: top;\n",
       "    }\n",
       "\n",
       "    .dataframe thead th {\n",
       "        text-align: right;\n",
       "    }\n",
       "</style>\n",
       "<table border=\"1\" class=\"dataframe\">\n",
       "  <thead>\n",
       "    <tr style=\"text-align: right;\">\n",
       "      <th></th>\n",
       "      <th>volume</th>\n",
       "      <th>open</th>\n",
       "      <th>high</th>\n",
       "      <th>low</th>\n",
       "      <th>close_eth</th>\n",
       "      <th>close_bnb</th>\n",
       "      <th>close_ada</th>\n",
       "      <th>value_number_transaction</th>\n",
       "      <th>value_number_address</th>\n",
       "      <th>value_transaction_second</th>\n",
       "      <th>value_total_bitcoin</th>\n",
       "      <th>value_volume_trade</th>\n",
       "      <th>value_hash_rate</th>\n",
       "    </tr>\n",
       "  </thead>\n",
       "  <tbody>\n",
       "    <tr>\n",
       "      <th>93</th>\n",
       "      <td>72990.861139</td>\n",
       "      <td>6732.97</td>\n",
       "      <td>6990.41</td>\n",
       "      <td>6650.01</td>\n",
       "      <td>144.10</td>\n",
       "      <td>13.7606</td>\n",
       "      <td>0.03244</td>\n",
       "      <td>253274.0</td>\n",
       "      <td>479599.0</td>\n",
       "      <td>3.364236</td>\n",
       "      <td>1.830218e+07</td>\n",
       "      <td>1.658815e+08</td>\n",
       "      <td>1.085805e+08</td>\n",
       "    </tr>\n",
       "    <tr>\n",
       "      <th>613</th>\n",
       "      <td>49249.667081</td>\n",
       "      <td>51756.88</td>\n",
       "      <td>52780.00</td>\n",
       "      <td>50969.33</td>\n",
       "      <td>3926.77</td>\n",
       "      <td>496.1000</td>\n",
       "      <td>2.83300</td>\n",
       "      <td>268877.0</td>\n",
       "      <td>627019.0</td>\n",
       "      <td>2.566493</td>\n",
       "      <td>1.880705e+07</td>\n",
       "      <td>2.057639e+08</td>\n",
       "      <td>1.506115e+08</td>\n",
       "    </tr>\n",
       "    <tr>\n",
       "      <th>134</th>\n",
       "      <td>115890.761516</td>\n",
       "      <td>9791.97</td>\n",
       "      <td>9845.62</td>\n",
       "      <td>9150.00</td>\n",
       "      <td>194.86</td>\n",
       "      <td>15.7222</td>\n",
       "      <td>0.05026</td>\n",
       "      <td>310642.0</td>\n",
       "      <td>644507.0</td>\n",
       "      <td>3.588194</td>\n",
       "      <td>1.837693e+07</td>\n",
       "      <td>3.325191e+08</td>\n",
       "      <td>1.000718e+08</td>\n",
       "    </tr>\n",
       "    <tr>\n",
       "      <th>85</th>\n",
       "      <td>82914.968354</td>\n",
       "      <td>6737.27</td>\n",
       "      <td>6842.59</td>\n",
       "      <td>6261.00</td>\n",
       "      <td>131.33</td>\n",
       "      <td>12.3354</td>\n",
       "      <td>0.02882</td>\n",
       "      <td>276546.0</td>\n",
       "      <td>529197.0</td>\n",
       "      <td>2.484722</td>\n",
       "      <td>1.828790e+07</td>\n",
       "      <td>9.740118e+07</td>\n",
       "      <td>1.071973e+08</td>\n",
       "    </tr>\n",
       "    <tr>\n",
       "      <th>242</th>\n",
       "      <td>55353.617744</td>\n",
       "      <td>11711.17</td>\n",
       "      <td>11800.77</td>\n",
       "      <td>11570.00</td>\n",
       "      <td>433.79</td>\n",
       "      <td>23.1477</td>\n",
       "      <td>0.12253</td>\n",
       "      <td>302920.0</td>\n",
       "      <td>662241.0</td>\n",
       "      <td>3.228299</td>\n",
       "      <td>1.847488e+07</td>\n",
       "      <td>5.412191e+07</td>\n",
       "      <td>1.309219e+08</td>\n",
       "    </tr>\n",
       "    <tr>\n",
       "      <th>...</th>\n",
       "      <td>...</td>\n",
       "      <td>...</td>\n",
       "      <td>...</td>\n",
       "      <td>...</td>\n",
       "      <td>...</td>\n",
       "      <td>...</td>\n",
       "      <td>...</td>\n",
       "      <td>...</td>\n",
       "      <td>...</td>\n",
       "      <td>...</td>\n",
       "      <td>...</td>\n",
       "      <td>...</td>\n",
       "      <td>...</td>\n",
       "    </tr>\n",
       "    <tr>\n",
       "      <th>539</th>\n",
       "      <td>86625.804260</td>\n",
       "      <td>33675.07</td>\n",
       "      <td>35298.00</td>\n",
       "      <td>32286.57</td>\n",
       "      <td>1989.52</td>\n",
       "      <td>308.6200</td>\n",
       "      <td>1.36040</td>\n",
       "      <td>233278.0</td>\n",
       "      <td>594998.0</td>\n",
       "      <td>2.615451</td>\n",
       "      <td>1.874082e+07</td>\n",
       "      <td>5.678945e+08</td>\n",
       "      <td>1.040408e+08</td>\n",
       "    </tr>\n",
       "    <tr>\n",
       "      <th>544</th>\n",
       "      <td>90788.796220</td>\n",
       "      <td>34494.89</td>\n",
       "      <td>36600.00</td>\n",
       "      <td>34225.43</td>\n",
       "      <td>2165.33</td>\n",
       "      <td>300.7900</td>\n",
       "      <td>1.37300</td>\n",
       "      <td>205616.0</td>\n",
       "      <td>566351.0</td>\n",
       "      <td>1.977257</td>\n",
       "      <td>1.874392e+07</td>\n",
       "      <td>3.559005e+08</td>\n",
       "      <td>8.917780e+07</td>\n",
       "    </tr>\n",
       "    <tr>\n",
       "      <th>413</th>\n",
       "      <td>60758.046954</td>\n",
       "      <td>52117.67</td>\n",
       "      <td>52530.00</td>\n",
       "      <td>50901.90</td>\n",
       "      <td>1939.61</td>\n",
       "      <td>195.6000</td>\n",
       "      <td>0.91442</td>\n",
       "      <td>316952.0</td>\n",
       "      <td>820203.0</td>\n",
       "      <td>3.618403</td>\n",
       "      <td>1.863086e+07</td>\n",
       "      <td>1.071501e+09</td>\n",
       "      <td>1.459748e+08</td>\n",
       "    </tr>\n",
       "    <tr>\n",
       "      <th>79</th>\n",
       "      <td>128913.668363</td>\n",
       "      <td>6204.57</td>\n",
       "      <td>6456.98</td>\n",
       "      <td>5860.02</td>\n",
       "      <td>132.66</td>\n",
       "      <td>12.1000</td>\n",
       "      <td>0.02948</td>\n",
       "      <td>245896.0</td>\n",
       "      <td>469859.0</td>\n",
       "      <td>2.979687</td>\n",
       "      <td>1.827901e+07</td>\n",
       "      <td>3.827088e+08</td>\n",
       "      <td>1.020334e+08</td>\n",
       "    </tr>\n",
       "    <tr>\n",
       "      <th>495</th>\n",
       "      <td>64329.540550</td>\n",
       "      <td>55816.14</td>\n",
       "      <td>56862.43</td>\n",
       "      <td>54370.00</td>\n",
       "      <td>4173.45</td>\n",
       "      <td>671.9100</td>\n",
       "      <td>1.76320</td>\n",
       "      <td>312115.0</td>\n",
       "      <td>854634.0</td>\n",
       "      <td>2.821181</td>\n",
       "      <td>1.870567e+07</td>\n",
       "      <td>9.034568e+08</td>\n",
       "      <td>1.762091e+08</td>\n",
       "    </tr>\n",
       "  </tbody>\n",
       "</table>\n",
       "<p>156 rows × 13 columns</p>\n",
       "</div>"
      ],
      "text/plain": [
       "            volume      open      high       low  close_eth  close_bnb  \\\n",
       "93    72990.861139   6732.97   6990.41   6650.01     144.10    13.7606   \n",
       "613   49249.667081  51756.88  52780.00  50969.33    3926.77   496.1000   \n",
       "134  115890.761516   9791.97   9845.62   9150.00     194.86    15.7222   \n",
       "85    82914.968354   6737.27   6842.59   6261.00     131.33    12.3354   \n",
       "242   55353.617744  11711.17  11800.77  11570.00     433.79    23.1477   \n",
       "..             ...       ...       ...       ...        ...        ...   \n",
       "539   86625.804260  33675.07  35298.00  32286.57    1989.52   308.6200   \n",
       "544   90788.796220  34494.89  36600.00  34225.43    2165.33   300.7900   \n",
       "413   60758.046954  52117.67  52530.00  50901.90    1939.61   195.6000   \n",
       "79   128913.668363   6204.57   6456.98   5860.02     132.66    12.1000   \n",
       "495   64329.540550  55816.14  56862.43  54370.00    4173.45   671.9100   \n",
       "\n",
       "     close_ada  value_number_transaction  value_number_address  \\\n",
       "93     0.03244                  253274.0              479599.0   \n",
       "613    2.83300                  268877.0              627019.0   \n",
       "134    0.05026                  310642.0              644507.0   \n",
       "85     0.02882                  276546.0              529197.0   \n",
       "242    0.12253                  302920.0              662241.0   \n",
       "..         ...                       ...                   ...   \n",
       "539    1.36040                  233278.0              594998.0   \n",
       "544    1.37300                  205616.0              566351.0   \n",
       "413    0.91442                  316952.0              820203.0   \n",
       "79     0.02948                  245896.0              469859.0   \n",
       "495    1.76320                  312115.0              854634.0   \n",
       "\n",
       "     value_transaction_second  value_total_bitcoin  value_volume_trade  \\\n",
       "93                   3.364236         1.830218e+07        1.658815e+08   \n",
       "613                  2.566493         1.880705e+07        2.057639e+08   \n",
       "134                  3.588194         1.837693e+07        3.325191e+08   \n",
       "85                   2.484722         1.828790e+07        9.740118e+07   \n",
       "242                  3.228299         1.847488e+07        5.412191e+07   \n",
       "..                        ...                  ...                 ...   \n",
       "539                  2.615451         1.874082e+07        5.678945e+08   \n",
       "544                  1.977257         1.874392e+07        3.559005e+08   \n",
       "413                  3.618403         1.863086e+07        1.071501e+09   \n",
       "79                   2.979687         1.827901e+07        3.827088e+08   \n",
       "495                  2.821181         1.870567e+07        9.034568e+08   \n",
       "\n",
       "     value_hash_rate  \n",
       "93      1.085805e+08  \n",
       "613     1.506115e+08  \n",
       "134     1.000718e+08  \n",
       "85      1.071973e+08  \n",
       "242     1.309219e+08  \n",
       "..               ...  \n",
       "539     1.040408e+08  \n",
       "544     8.917780e+07  \n",
       "413     1.459748e+08  \n",
       "79      1.020334e+08  \n",
       "495     1.762091e+08  \n",
       "\n",
       "[156 rows x 13 columns]"
      ]
     },
     "execution_count": 17,
     "metadata": {},
     "output_type": "execute_result"
    }
   ],
   "source": [
    "x_test"
   ]
  },
  {
   "cell_type": "code",
   "execution_count": 18,
   "metadata": {},
   "outputs": [
    {
     "data": {
      "text/plain": [
       "LinearRegression()"
      ]
     },
     "execution_count": 18,
     "metadata": {},
     "output_type": "execute_result"
    }
   ],
   "source": [
    "model = LinearRegression()\n",
    "model.fit(x_train, y_train)"
   ]
  },
  {
   "cell_type": "code",
   "execution_count": 23,
   "metadata": {},
   "outputs": [
    {
     "name": "stdout",
     "output_type": "stream",
     "text": [
      "Model Coefficients: [-4.79882019e-04 -5.06113831e-01  8.88646431e-01  6.07930859e-01\n",
      " -9.55060195e-02  2.86628731e-01  5.35940725e+01  1.55008633e-03\n",
      " -1.43055684e-03  6.21187807e+01  6.39818824e-04  2.46416900e-07\n",
      "  1.17610478e-06]\n",
      "Mean Absolute Error: 375.8616121076862\n",
      "Coefficient of Determination: 0.9990395707663269\n"
     ]
    }
   ],
   "source": [
    "from sklearn.metrics import mean_squared_error, r2_score, mean_absolute_error\n",
    "\n",
    "y_pred = model.predict(x_test)\n",
    "# Printout relevant metrics\n",
    "print(\"Model Coefficients:\", model.coef_)\n",
    "print(\"Mean Absolute Error:\", mean_absolute_error(y_test, y_pred))\n",
    "print(\"Coefficient of Determination:\", r2_score(y_test, y_pred))\n"
   ]
  },
  {
   "cell_type": "code",
   "execution_count": 20,
   "metadata": {},
   "outputs": [
    {
     "data": {
      "text/html": [
       "<div>\n",
       "<style scoped>\n",
       "    .dataframe tbody tr th:only-of-type {\n",
       "        vertical-align: middle;\n",
       "    }\n",
       "\n",
       "    .dataframe tbody tr th {\n",
       "        vertical-align: top;\n",
       "    }\n",
       "\n",
       "    .dataframe thead th {\n",
       "        text-align: right;\n",
       "    }\n",
       "</style>\n",
       "<table border=\"1\" class=\"dataframe\">\n",
       "  <thead>\n",
       "    <tr style=\"text-align: right;\">\n",
       "      <th></th>\n",
       "      <th>volume</th>\n",
       "      <th>open</th>\n",
       "      <th>high</th>\n",
       "      <th>low</th>\n",
       "      <th>close_bitcoin</th>\n",
       "      <th>close_eth</th>\n",
       "      <th>close_bnb</th>\n",
       "      <th>close_ada</th>\n",
       "      <th>value_number_transaction</th>\n",
       "      <th>value_number_address</th>\n",
       "      <th>value_transaction_second</th>\n",
       "      <th>value_total_bitcoin</th>\n",
       "      <th>value_volume_trade</th>\n",
       "      <th>value_hash_rate</th>\n",
       "      <th>datetime</th>\n",
       "    </tr>\n",
       "  </thead>\n",
       "  <tbody>\n",
       "    <tr>\n",
       "      <th>776</th>\n",
       "      <td>3312.5187</td>\n",
       "      <td>44544.85</td>\n",
       "      <td>44549.97</td>\n",
       "      <td>43877.18</td>\n",
       "      <td>43995.08</td>\n",
       "      <td>3142.97</td>\n",
       "      <td>431.1</td>\n",
       "      <td>1.095</td>\n",
       "      <td>273623.0</td>\n",
       "      <td>680501.0</td>\n",
       "      <td>2.48125</td>\n",
       "      <td>18957306.25</td>\n",
       "      <td>1.878267e+08</td>\n",
       "      <td>2.321888e+08</td>\n",
       "      <td>2022-02-15</td>\n",
       "    </tr>\n",
       "  </tbody>\n",
       "</table>\n",
       "</div>"
      ],
      "text/plain": [
       "        volume      open      high       low  close_bitcoin  close_eth  \\\n",
       "776  3312.5187  44544.85  44549.97  43877.18       43995.08    3142.97   \n",
       "\n",
       "     close_bnb  close_ada  value_number_transaction  value_number_address  \\\n",
       "776      431.1      1.095                  273623.0              680501.0   \n",
       "\n",
       "     value_transaction_second  value_total_bitcoin  value_volume_trade  \\\n",
       "776                   2.48125          18957306.25        1.878267e+08   \n",
       "\n",
       "     value_hash_rate   datetime  \n",
       "776     2.321888e+08 2022-02-15  "
      ]
     },
     "execution_count": 20,
     "metadata": {},
     "output_type": "execute_result"
    }
   ],
   "source": [
    "future_set = bitcoin.tail(n).copy()\n",
    "future_set"
   ]
  },
  {
   "cell_type": "code",
   "execution_count": 21,
   "metadata": {},
   "outputs": [
    {
     "data": {
      "text/plain": [
       "array([44015.17138151])"
      ]
     },
     "execution_count": 21,
     "metadata": {},
     "output_type": "execute_result"
    }
   ],
   "source": [
    "prediction = model.predict(future_set[required_features])\n",
    "prediction"
   ]
  },
  {
   "cell_type": "code",
   "execution_count": 22,
   "metadata": {},
   "outputs": [
    {
     "name": "stdout",
     "output_type": "stream",
     "text": [
      "The prediction of bitcoin price on February 16, 2022 at 7 P.M. is 44015.17138150861\n"
     ]
    }
   ],
   "source": [
    "today = datetime.date.today()\n",
    "tomorrow = future_set[\"datetime\"].iloc[0] + datetime.timedelta(days=1)\n",
    "tmr = tomorrow.strftime(\"%B %d, %Y\")\n",
    "print(\"The prediction of bitcoin price on\",tmr,\"at 7 P.M. is\",prediction[0])"
   ]
  }
 ],
 "metadata": {
  "kernelspec": {
   "display_name": "Python 3 (ipykernel)",
   "language": "python",
   "name": "python3"
  },
  "language_info": {
   "codemirror_mode": {
    "name": "ipython",
    "version": 3
   },
   "file_extension": ".py",
   "mimetype": "text/x-python",
   "name": "python",
   "nbconvert_exporter": "python",
   "pygments_lexer": "ipython3",
   "version": "3.8.12"
  }
 },
 "nbformat": 4,
 "nbformat_minor": 2
}
