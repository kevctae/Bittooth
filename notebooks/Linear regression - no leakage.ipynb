{
 "cells": [
  {
   "cell_type": "code",
   "execution_count": 1,
   "metadata": {},
   "outputs": [],
   "source": [
    "import pandas as pd\n",
    "import numpy as np\n",
    "import matplotlib.pyplot as plt\n",
    "from sklearn.model_selection import train_test_split\n",
    "from sklearn.linear_model import LinearRegression\n",
    "from tvDatafeed import TvDatafeed, Interval"
   ]
  },
  {
   "cell_type": "code",
   "execution_count": 2,
   "metadata": {},
   "outputs": [],
   "source": [
    "import requests\n",
    "import json\n",
    "import datetime"
   ]
  },
  {
   "cell_type": "code",
   "execution_count": 3,
   "metadata": {},
   "outputs": [],
   "source": [
    "n=1"
   ]
  },
  {
   "cell_type": "code",
   "execution_count": 4,
   "metadata": {},
   "outputs": [
    {
     "name": "stderr",
     "output_type": "stream",
     "text": [
      "you are using nologin method, data you access may be limited\n"
     ]
    }
   ],
   "source": [
    "tv = TvDatafeed()\n",
    "def getdata(name):\n",
    "    data=tv.get_hist(symbol=name,exchange='BINANCE',interval=Interval.in_daily,n_bars=5000)\n",
    "    data=data.reset_index()\n",
    "#     data[\"datetime\"]=data[\"datetime\"]+datetime.timedelta(days=1)\n",
    "    data[\"datetime\"]=data[\"datetime\"].dt.strftime('%Y-%m-%d')\n",
    "    data2=data[data[\"datetime\"]>=\"2020-01-01\"].copy()\n",
    "    data2[\"datetime\"] = pd.to_datetime(data2[\"datetime\"])\n",
    "    return data2"
   ]
  },
  {
   "cell_type": "code",
   "execution_count": 5,
   "metadata": {},
   "outputs": [],
   "source": [
    "def getapi(api):\n",
    "    response_API=requests.get(api)\n",
    "    data=response_API.text\n",
    "    parse_json=json.loads(data)\n",
    "    df = pd.json_normalize(parse_json['values'])\n",
    "    listtime=list(df['x'])\n",
    "    listtime2=[]\n",
    "    for i in listtime:\n",
    "        listtime2.append(datetime.datetime.fromtimestamp(i).strftime('%Y-%m-%d'))\n",
    "    df['datetime']=pd.Series(listtime2)\n",
    "    df[\"datetime\"] = pd.to_datetime(df[\"datetime\"])\n",
    "#     df[\"datetime\"]=df[\"datetime\"]+datetime.timedelta(days=1)\n",
    "    df=df[df[\"datetime\"]>=\"2020-01-01\"].copy()\n",
    "    df=df.drop(columns=['x'])\n",
    "    df.rename(columns={'y':'value'},inplace=True)\n",
    "    df=df.drop_duplicates(subset=['datetime'])\n",
    "    return df"
   ]
  },
  {
   "cell_type": "code",
   "execution_count": 6,
   "metadata": {},
   "outputs": [
    {
     "data": {
      "text/html": [
       "<div>\n",
       "<style scoped>\n",
       "    .dataframe tbody tr th:only-of-type {\n",
       "        vertical-align: middle;\n",
       "    }\n",
       "\n",
       "    .dataframe tbody tr th {\n",
       "        vertical-align: top;\n",
       "    }\n",
       "\n",
       "    .dataframe thead th {\n",
       "        text-align: right;\n",
       "    }\n",
       "</style>\n",
       "<table border=\"1\" class=\"dataframe\">\n",
       "  <thead>\n",
       "    <tr style=\"text-align: right;\">\n",
       "      <th></th>\n",
       "      <th>datetime</th>\n",
       "      <th>volume</th>\n",
       "      <th>open</th>\n",
       "      <th>high</th>\n",
       "      <th>low</th>\n",
       "      <th>close</th>\n",
       "    </tr>\n",
       "  </thead>\n",
       "  <tbody>\n",
       "    <tr>\n",
       "      <th>1640</th>\n",
       "      <td>2022-02-11</td>\n",
       "      <td>26556.85681</td>\n",
       "      <td>42373.73</td>\n",
       "      <td>43079.49</td>\n",
       "      <td>41688.88</td>\n",
       "      <td>42217.87</td>\n",
       "    </tr>\n",
       "    <tr>\n",
       "      <th>1641</th>\n",
       "      <td>2022-02-12</td>\n",
       "      <td>17731.83401</td>\n",
       "      <td>42217.87</td>\n",
       "      <td>42760.00</td>\n",
       "      <td>41870.00</td>\n",
       "      <td>42053.66</td>\n",
       "    </tr>\n",
       "    <tr>\n",
       "      <th>1642</th>\n",
       "      <td>2022-02-13</td>\n",
       "      <td>34010.13060</td>\n",
       "      <td>42053.65</td>\n",
       "      <td>42842.40</td>\n",
       "      <td>41550.56</td>\n",
       "      <td>42535.94</td>\n",
       "    </tr>\n",
       "    <tr>\n",
       "      <th>1643</th>\n",
       "      <td>2022-02-14</td>\n",
       "      <td>38093.46331</td>\n",
       "      <td>42535.94</td>\n",
       "      <td>44751.40</td>\n",
       "      <td>42427.03</td>\n",
       "      <td>44544.86</td>\n",
       "    </tr>\n",
       "    <tr>\n",
       "      <th>1644</th>\n",
       "      <td>2022-02-15</td>\n",
       "      <td>3313.08790</td>\n",
       "      <td>44544.85</td>\n",
       "      <td>44549.97</td>\n",
       "      <td>43877.18</td>\n",
       "      <td>43995.96</td>\n",
       "    </tr>\n",
       "  </tbody>\n",
       "</table>\n",
       "</div>"
      ],
      "text/plain": [
       "       datetime       volume      open      high       low     close\n",
       "1640 2022-02-11  26556.85681  42373.73  43079.49  41688.88  42217.87\n",
       "1641 2022-02-12  17731.83401  42217.87  42760.00  41870.00  42053.66\n",
       "1642 2022-02-13  34010.13060  42053.65  42842.40  41550.56  42535.94\n",
       "1643 2022-02-14  38093.46331  42535.94  44751.40  42427.03  44544.86\n",
       "1644 2022-02-15   3313.08790  44544.85  44549.97  43877.18  43995.96"
      ]
     },
     "execution_count": 6,
     "metadata": {},
     "output_type": "execute_result"
    }
   ],
   "source": [
    "bitcoi=getdata('BTCUSDT')\n",
    "eth=getdata('ETHUSDT')\n",
    "bnb=getdata('BNBUSDT')\n",
    "ada=getdata('ADAUSDT')\n",
    "bitcoi=bitcoi[[\"datetime\",\"volume\",\"open\",\"high\",\"low\",\"close\"]]\n",
    "bitcoi.tail(5)"
   ]
  },
  {
   "cell_type": "code",
   "execution_count": 7,
   "metadata": {},
   "outputs": [],
   "source": [
    "number_transactions=getapi('https://api.blockchain.info/charts/n-transactions?timespan=4years&rollingAverage=24hours&format=json&sampled=false')\n",
    "number_address=getapi('https://api.blockchain.info/charts/n-unique-addresses?timespan=4years&rollingAverage=24hours&format=json&sampled=false')\n",
    "transaction_second=getapi('https://api.blockchain.info/charts/transactions-per-second?timespan=4years&rollingAverage=24hours&format=json&sampled=false')\n",
    "transaction_second=transaction_second.groupby(['datetime']).mean().reset_index()\n",
    "total_bitcoin=getapi('https://api.blockchain.info/charts/total-bitcoins?timespan=4years&rollingAverage=24hours&format=json&sampled=true')\n",
    "volume_trade=getapi('https://api.blockchain.info/charts/trade-volume?timespan=4years&rollingAverage=24hours&format=json&sampled=false')\n",
    "hash_rate=getapi('https://api.blockchain.info/charts/hash-rate?timespan=4years&rollingAverage=24hours&format=json&sampled=false')"
   ]
  },
  {
   "cell_type": "code",
   "execution_count": 8,
   "metadata": {},
   "outputs": [],
   "source": [
    "bitcoin=bitcoi.merge(eth[[\"datetime\",\"close\"]],on='datetime',how='left',suffixes=('_bitcoin', '_eth'))\n",
    "bitcoin=bitcoin.merge(bnb[[\"datetime\",\"close\"]],on='datetime',how='left')\n",
    "bitcoin=bitcoin.merge(ada[[\"datetime\",\"close\"]],on='datetime',how='left',suffixes=('_bnb', '_ada'))"
   ]
  },
  {
   "cell_type": "code",
   "execution_count": 9,
   "metadata": {},
   "outputs": [],
   "source": [
    "data_api=number_transactions.merge(number_address,on='datetime',how='left',suffixes=('_number_transaction', '_number_address'))\n",
    "data_api=data_api.merge(transaction_second,on='datetime',how='left')\n",
    "data_api=data_api.merge(total_bitcoin,on='datetime',how='left',suffixes=('_transaction_second', '_total_bitcoin'))\n",
    "data_api=data_api.merge(volume_trade,on='datetime',how='left')\n",
    "data_api=data_api.merge(hash_rate,on='datetime',how='left',suffixes=('_volume_trade', '_hash_rate'))\n"
   ]
  },
  {
   "cell_type": "code",
   "execution_count": 10,
   "metadata": {},
   "outputs": [
    {
     "data": {
      "text/html": [
       "<div>\n",
       "<style scoped>\n",
       "    .dataframe tbody tr th:only-of-type {\n",
       "        vertical-align: middle;\n",
       "    }\n",
       "\n",
       "    .dataframe tbody tr th {\n",
       "        vertical-align: top;\n",
       "    }\n",
       "\n",
       "    .dataframe thead th {\n",
       "        text-align: right;\n",
       "    }\n",
       "</style>\n",
       "<table border=\"1\" class=\"dataframe\">\n",
       "  <thead>\n",
       "    <tr style=\"text-align: right;\">\n",
       "      <th></th>\n",
       "      <th>datetime</th>\n",
       "      <th>volume</th>\n",
       "      <th>open</th>\n",
       "      <th>high</th>\n",
       "      <th>low</th>\n",
       "      <th>close_bitcoin</th>\n",
       "      <th>close_eth</th>\n",
       "      <th>close_bnb</th>\n",
       "      <th>close_ada</th>\n",
       "      <th>value_number_transaction</th>\n",
       "      <th>value_number_address</th>\n",
       "      <th>value_transaction_second</th>\n",
       "      <th>value_total_bitcoin</th>\n",
       "      <th>value_volume_trade</th>\n",
       "      <th>value_hash_rate</th>\n",
       "    </tr>\n",
       "  </thead>\n",
       "  <tbody>\n",
       "    <tr>\n",
       "      <th>772</th>\n",
       "      <td>2022-02-11</td>\n",
       "      <td>26556.85681</td>\n",
       "      <td>42373.73</td>\n",
       "      <td>43079.49</td>\n",
       "      <td>41688.88</td>\n",
       "      <td>42217.87</td>\n",
       "      <td>2918.88</td>\n",
       "      <td>403.6</td>\n",
       "      <td>1.059</td>\n",
       "      <td>228189.0</td>\n",
       "      <td>604018.0</td>\n",
       "      <td>3.068403</td>\n",
       "      <td>1.895464e+07</td>\n",
       "      <td>3.225592e+08</td>\n",
       "      <td>2.481103e+08</td>\n",
       "    </tr>\n",
       "    <tr>\n",
       "      <th>773</th>\n",
       "      <td>2022-02-12</td>\n",
       "      <td>17731.83401</td>\n",
       "      <td>42217.87</td>\n",
       "      <td>42760.00</td>\n",
       "      <td>41870.00</td>\n",
       "      <td>42053.66</td>\n",
       "      <td>2871.13</td>\n",
       "      <td>397.9</td>\n",
       "      <td>1.042</td>\n",
       "      <td>208977.0</td>\n",
       "      <td>590527.0</td>\n",
       "      <td>2.986458</td>\n",
       "      <td>1.895553e+07</td>\n",
       "      <td>1.404551e+08</td>\n",
       "      <td>2.096333e+08</td>\n",
       "    </tr>\n",
       "    <tr>\n",
       "      <th>774</th>\n",
       "      <td>2022-02-13</td>\n",
       "      <td>34010.13060</td>\n",
       "      <td>42053.65</td>\n",
       "      <td>42842.40</td>\n",
       "      <td>41550.56</td>\n",
       "      <td>42535.94</td>\n",
       "      <td>2929.75</td>\n",
       "      <td>403.4</td>\n",
       "      <td>1.049</td>\n",
       "      <td>247592.0</td>\n",
       "      <td>630477.0</td>\n",
       "      <td>2.536632</td>\n",
       "      <td>1.895642e+07</td>\n",
       "      <td>9.067330e+07</td>\n",
       "      <td>2.029994e+08</td>\n",
       "    </tr>\n",
       "    <tr>\n",
       "      <th>775</th>\n",
       "      <td>2022-02-14</td>\n",
       "      <td>38093.46331</td>\n",
       "      <td>42535.94</td>\n",
       "      <td>44751.40</td>\n",
       "      <td>42427.03</td>\n",
       "      <td>44544.86</td>\n",
       "      <td>3183.52</td>\n",
       "      <td>432.4</td>\n",
       "      <td>1.107</td>\n",
       "      <td>273623.0</td>\n",
       "      <td>680501.0</td>\n",
       "      <td>2.481250</td>\n",
       "      <td>1.895731e+07</td>\n",
       "      <td>1.878267e+08</td>\n",
       "      <td>2.321888e+08</td>\n",
       "    </tr>\n",
       "    <tr>\n",
       "      <th>776</th>\n",
       "      <td>2022-02-15</td>\n",
       "      <td>3313.08790</td>\n",
       "      <td>44544.85</td>\n",
       "      <td>44549.97</td>\n",
       "      <td>43877.18</td>\n",
       "      <td>43995.96</td>\n",
       "      <td>3142.97</td>\n",
       "      <td>431.1</td>\n",
       "      <td>1.094</td>\n",
       "      <td>NaN</td>\n",
       "      <td>NaN</td>\n",
       "      <td>NaN</td>\n",
       "      <td>NaN</td>\n",
       "      <td>NaN</td>\n",
       "      <td>NaN</td>\n",
       "    </tr>\n",
       "  </tbody>\n",
       "</table>\n",
       "</div>"
      ],
      "text/plain": [
       "      datetime       volume      open      high       low  close_bitcoin  \\\n",
       "772 2022-02-11  26556.85681  42373.73  43079.49  41688.88       42217.87   \n",
       "773 2022-02-12  17731.83401  42217.87  42760.00  41870.00       42053.66   \n",
       "774 2022-02-13  34010.13060  42053.65  42842.40  41550.56       42535.94   \n",
       "775 2022-02-14  38093.46331  42535.94  44751.40  42427.03       44544.86   \n",
       "776 2022-02-15   3313.08790  44544.85  44549.97  43877.18       43995.96   \n",
       "\n",
       "     close_eth  close_bnb  close_ada  value_number_transaction  \\\n",
       "772    2918.88      403.6      1.059                  228189.0   \n",
       "773    2871.13      397.9      1.042                  208977.0   \n",
       "774    2929.75      403.4      1.049                  247592.0   \n",
       "775    3183.52      432.4      1.107                  273623.0   \n",
       "776    3142.97      431.1      1.094                       NaN   \n",
       "\n",
       "     value_number_address  value_transaction_second  value_total_bitcoin  \\\n",
       "772              604018.0                  3.068403         1.895464e+07   \n",
       "773              590527.0                  2.986458         1.895553e+07   \n",
       "774              630477.0                  2.536632         1.895642e+07   \n",
       "775              680501.0                  2.481250         1.895731e+07   \n",
       "776                   NaN                       NaN                  NaN   \n",
       "\n",
       "     value_volume_trade  value_hash_rate  \n",
       "772        3.225592e+08     2.481103e+08  \n",
       "773        1.404551e+08     2.096333e+08  \n",
       "774        9.067330e+07     2.029994e+08  \n",
       "775        1.878267e+08     2.321888e+08  \n",
       "776                 NaN              NaN  "
      ]
     },
     "execution_count": 10,
     "metadata": {},
     "output_type": "execute_result"
    }
   ],
   "source": [
    "bitcoin=bitcoin.merge(data_api,on='datetime',how='left')\n",
    "bitcoin.tail(5)"
   ]
  },
  {
   "cell_type": "code",
   "execution_count": 11,
   "metadata": {},
   "outputs": [
    {
     "data": {
      "image/png": "[encoded data removed]",
      "text/plain": [
       "<Figure size 864x504 with 1 Axes>"
      ]
     },
     "metadata": {
      "needs_background": "light"
     },
     "output_type": "display_data"
    }
   ],
   "source": [
    "plt.figure(figsize = (12, 7))\n",
    "plt.plot(bitcoin[\"datetime\"], bitcoin[\"close_bitcoin\"], color='goldenrod', lw=2)\n",
    "plt.title(\"Bitcoin Price over time\", size=25)\n",
    "plt.xlabel(\"Time\", size=20)\n",
    "plt.ylabel(\"$ Price\", size=20)\n",
    "plt.show()"
   ]
  },
  {
   "cell_type": "code",
   "execution_count": 12,
   "metadata": {},
   "outputs": [
    {
     "data": {
      "image/png": "[encoded data removed]",
      "text/plain": [
       "<Figure size 864x504 with 1 Axes>"
      ]
     },
     "metadata": {
      "needs_background": "light"
     },
     "output_type": "display_data"
    }
   ],
   "source": [
    "plt.figure(figsize = (12, 7))\n",
    "plt.plot(bitcoin[\"datetime\"], bitcoin[\"volume\"], color='royalblue', lw=2)\n",
    "plt.title(\"Bitcoin Volume over time\", size=25)\n",
    "plt.xlabel(\"Time\", size=20)\n",
    "plt.ylabel(\"Volume\", size=20);"
   ]
  },
  {
   "cell_type": "code",
   "execution_count": 13,
   "metadata": {},
   "outputs": [
    {
     "data": {
      "text/plain": [
       "datetime                     0\n",
       "volume                       0\n",
       "open                         0\n",
       "high                         0\n",
       "low                          0\n",
       "close_bitcoin                0\n",
       "close_eth                    0\n",
       "close_bnb                    0\n",
       "close_ada                    0\n",
       "value_number_transaction     1\n",
       "value_number_address         3\n",
       "value_transaction_second     1\n",
       "value_total_bitcoin         32\n",
       "value_volume_trade           1\n",
       "value_hash_rate              1\n",
       "dtype: int64"
      ]
     },
     "execution_count": 13,
     "metadata": {},
     "output_type": "execute_result"
    }
   ],
   "source": [
    "bitcoin.isnull().sum()"
   ]
  },
  {
   "cell_type": "code",
   "execution_count": 14,
   "metadata": {},
   "outputs": [
    {
     "data": {
      "text/plain": [
       "volume                      0\n",
       "open                        0\n",
       "high                        0\n",
       "low                         0\n",
       "close_bitcoin               0\n",
       "close_eth                   0\n",
       "close_bnb                   0\n",
       "close_ada                   0\n",
       "value_number_transaction    0\n",
       "value_number_address        0\n",
       "value_transaction_second    0\n",
       "value_total_bitcoin         0\n",
       "value_volume_trade          0\n",
       "value_hash_rate             0\n",
       "datetime                    0\n",
       "dtype: int64"
      ]
     },
     "execution_count": 14,
     "metadata": {},
     "output_type": "execute_result"
    }
   ],
   "source": [
    "# bitcoin=bitcoin.interpolate(method='linear')\n",
    "temp=bitcoin[\"datetime\"]\n",
    "bitcoin=bitcoin.drop(columns=['datetime'])\n",
    "bitcoin=bitcoin.interpolate()\n",
    "bitcoin['datetime']=temp\n",
    "bitcoin.isnull().sum()"
   ]
  },
  {
   "cell_type": "code",
   "execution_count": 15,
   "metadata": {},
   "outputs": [],
   "source": [
    "required_features = ['volume','open', 'high', 'low','close_eth','close_bnb','close_ada','value_number_transaction','value_number_address','value_transaction_second','value_total_bitcoin','value_volume_trade', 'value_hash_rate']\n",
    "output_label = ['close_bitcoin']"
   ]
  },
  {
   "cell_type": "code",
   "execution_count": 16,
   "metadata": {},
   "outputs": [],
   "source": [
    "x_set=bitcoin[required_features]\n",
    "y_set=bitcoin[output_label]\n",
    "num_train=int(0.8*len(x_set))\n",
    "x_train = x_set[0:num_train]\n",
    "x_test = x_set[num_train:len(x_set)]\n",
    "y_train = y_set[0:num_train]\n",
    "y_test = y_set[num_train:len(y_set)]\n",
    "# print(x_train.shape)\n",
    "# print(x_test.shape)\n",
    "# print(y_train.shape)\n",
    "# print(y_test.shape)"
   ]
  },
  {
   "cell_type": "code",
   "execution_count": 17,
   "metadata": {},
   "outputs": [
    {
     "data": {
      "text/plain": [
       "LinearRegression()"
      ]
     },
     "execution_count": 17,
     "metadata": {},
     "output_type": "execute_result"
    }
   ],
   "source": [
    "model = LinearRegression()\n",
    "model.fit(x_train, y_train)"
   ]
  },
  {
   "cell_type": "code",
   "execution_count": 22,
   "metadata": {},
   "outputs": [
    {
     "name": "stdout",
     "output_type": "stream",
     "text": [
      "Model Coefficients: [[-1.12629968e-03 -4.74735877e-01  9.19079299e-01  5.47587029e-01\n",
      "  -1.24534558e-01  3.36586408e-01  1.94244745e+01  1.85906803e-03\n",
      "  -1.02115009e-03  6.06007417e+01  6.66867522e-04  1.32975499e-07\n",
      "  -3.53488000e-07]]\n",
      "Mean Absolute Error: 595.0765117356361\n",
      "Coefficient of Determination: 0.9921895206342791\n"
     ]
    }
   ],
   "source": [
    "from sklearn.metrics import mean_squared_error, r2_score, mean_absolute_error\n",
    "\n",
    "y_pred = model.predict(x_test)\n",
    "# Printout relevant metrics\n",
    "print(\"Model Coefficients:\", model.coef_)\n",
    "print(\"Mean Absolute Error:\", mean_absolute_error(y_test, y_pred))\n",
    "print(\"Coefficient of Determination:\", r2_score(y_test, y_pred))\n"
   ]
  },
  {
   "cell_type": "code",
   "execution_count": 19,
   "metadata": {},
   "outputs": [
    {
     "data": {
      "text/html": [
       "<div>\n",
       "<style scoped>\n",
       "    .dataframe tbody tr th:only-of-type {\n",
       "        vertical-align: middle;\n",
       "    }\n",
       "\n",
       "    .dataframe tbody tr th {\n",
       "        vertical-align: top;\n",
       "    }\n",
       "\n",
       "    .dataframe thead th {\n",
       "        text-align: right;\n",
       "    }\n",
       "</style>\n",
       "<table border=\"1\" class=\"dataframe\">\n",
       "  <thead>\n",
       "    <tr style=\"text-align: right;\">\n",
       "      <th></th>\n",
       "      <th>volume</th>\n",
       "      <th>open</th>\n",
       "      <th>high</th>\n",
       "      <th>low</th>\n",
       "      <th>close_bitcoin</th>\n",
       "      <th>close_eth</th>\n",
       "      <th>close_bnb</th>\n",
       "      <th>close_ada</th>\n",
       "      <th>value_number_transaction</th>\n",
       "      <th>value_number_address</th>\n",
       "      <th>value_transaction_second</th>\n",
       "      <th>value_total_bitcoin</th>\n",
       "      <th>value_volume_trade</th>\n",
       "      <th>value_hash_rate</th>\n",
       "      <th>datetime</th>\n",
       "    </tr>\n",
       "  </thead>\n",
       "  <tbody>\n",
       "    <tr>\n",
       "      <th>776</th>\n",
       "      <td>3313.0879</td>\n",
       "      <td>44544.85</td>\n",
       "      <td>44549.97</td>\n",
       "      <td>43877.18</td>\n",
       "      <td>43995.96</td>\n",
       "      <td>3142.97</td>\n",
       "      <td>431.1</td>\n",
       "      <td>1.094</td>\n",
       "      <td>273623.0</td>\n",
       "      <td>680501.0</td>\n",
       "      <td>2.48125</td>\n",
       "      <td>18957306.25</td>\n",
       "      <td>1.878267e+08</td>\n",
       "      <td>2.321888e+08</td>\n",
       "      <td>2022-02-15</td>\n",
       "    </tr>\n",
       "  </tbody>\n",
       "</table>\n",
       "</div>"
      ],
      "text/plain": [
       "        volume      open      high       low  close_bitcoin  close_eth  \\\n",
       "776  3313.0879  44544.85  44549.97  43877.18       43995.96    3142.97   \n",
       "\n",
       "     close_bnb  close_ada  value_number_transaction  value_number_address  \\\n",
       "776      431.1      1.094                  273623.0              680501.0   \n",
       "\n",
       "     value_transaction_second  value_total_bitcoin  value_volume_trade  \\\n",
       "776                   2.48125          18957306.25        1.878267e+08   \n",
       "\n",
       "     value_hash_rate   datetime  \n",
       "776     2.321888e+08 2022-02-15  "
      ]
     },
     "execution_count": 19,
     "metadata": {},
     "output_type": "execute_result"
    }
   ],
   "source": [
    "future_set = bitcoin.tail(n).copy()\n",
    "future_set"
   ]
  },
  {
   "cell_type": "code",
   "execution_count": 20,
   "metadata": {},
   "outputs": [
    {
     "data": {
      "text/plain": [
       "array([[43891.34704545]])"
      ]
     },
     "execution_count": 20,
     "metadata": {},
     "output_type": "execute_result"
    }
   ],
   "source": [
    "prediction = model.predict(future_set[required_features])\n",
    "prediction"
   ]
  },
  {
   "cell_type": "code",
   "execution_count": 21,
   "metadata": {},
   "outputs": [
    {
     "name": "stdout",
     "output_type": "stream",
     "text": [
      "The prediction of bitcoin price on February 16, 2022 at 7 P.M. is [43891.34704545]\n"
     ]
    }
   ],
   "source": [
    "today = datetime.date.today()\n",
    "tomorrow = future_set[\"datetime\"].iloc[0] + datetime.timedelta(days=1)\n",
    "tmr = tomorrow.strftime(\"%B %d, %Y\")\n",
    "print(\"The prediction of bitcoin price on\",tmr,\"at 7 P.M. is\",prediction[0])"
   ]
  }
 ],
 "metadata": {
  "kernelspec": {
   "display_name": "Python 3 (ipykernel)",
   "language": "python",
   "name": "python3"
  },
  "language_info": {
   "codemirror_mode": {
    "name": "ipython",
    "version": 3
   },
   "file_extension": ".py",
   "mimetype": "text/x-python",
   "name": "python",
   "nbconvert_exporter": "python",
   "pygments_lexer": "ipython3",
   "version": "3.8.12"
  }
 },
 "nbformat": 4,
 "nbformat_minor": 2
}
