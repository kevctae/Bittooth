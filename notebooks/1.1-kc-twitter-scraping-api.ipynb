{
 "cells": [
  {
   "cell_type": "markdown",
   "id": "259ca2e9",
   "metadata": {},
   "source": [
    "# Twitter Scrapping API"
   ]
  },
  {
   "cell_type": "markdown",
   "id": "0c39bee8",
   "metadata": {},
   "source": [
    "## Resources\n",
    "\n",
    "- [Analyzing Tweets with NLP in minutes with Spark, Optimus and Twint](https://towardsdatascience.com/analyzing-tweets-with-nlp-in-minutes-with-spark-optimus-and-twint-a0c96084995f)"
   ]
  },
  {
   "cell_type": "markdown",
   "id": "2c803390",
   "metadata": {},
   "source": [
    "## bittwint API Documentation"
   ]
  },
  {
   "cell_type": "markdown",
   "id": "28ae19e6",
   "metadata": {},
   "source": [
    "### bittwint.scrape_twitter\n",
    "\n",
    "#### bittwint.scrape_twitter(*search, limit, since, until=None, verified=\"\", output=\"\"):\n",
    "\n",
    "    Scrapes twitter from a certain period of time with according to the keyword.\n",
    "    \n",
    "##### Parameters\n",
    "\n",
    "* **search** (string) : Search terms.\n",
    "* **limit** (int) : Number of tweets to pull per day.\n",
    "* **since** (string) : Filter Tweets sent since date (Example: 2017-12-27).\n",
    "* **until** (string) : Filter Tweets sent until date (Example: 2017-12-27).\n",
    "* **verified** (bool) : Set to True to only show Tweets by verified users\n",
    "* **output** (string) : Name of the output file.\n",
    "\n",
    "#### Returns\n",
    "\n",
    "* **DataFrame** : A new DataFrame consisting of scraped twits"
   ]
  },
  {
   "cell_type": "markdown",
   "id": "62bda8f6",
   "metadata": {},
   "source": [
    "## Example Search"
   ]
  },
  {
   "cell_type": "code",
   "execution_count": null,
   "id": "17a2d1b1",
   "metadata": {},
   "outputs": [],
   "source": [
    "from lib import bittwint"
   ]
  },
  {
   "cell_type": "code",
   "execution_count": null,
   "id": "91dd72e1",
   "metadata": {},
   "outputs": [],
   "source": [
    "df = bittwint.scrape_twitter(\n",
    "    search=\"bitcoin\",\n",
    "    limit=500,\n",
    "    since=\"2021-10-29\",\n",
    "    until=\"2021-10-30\",\n",
    "    verified=False,\n",
    "    output=\"../data/output.csv\"\n",
    ")\n",
    "\n",
    "df.head()"
   ]
  },
  {
   "cell_type": "code",
   "execution_count": null,
   "id": "f7cc78be",
   "metadata": {},
   "outputs": [],
   "source": []
  }
 ],
 "metadata": {
  "kernelspec": {
   "display_name": "Python 3 (ipykernel)",
   "language": "python",
   "name": "python3"
  },
  "language_info": {
   "codemirror_mode": {
    "name": "ipython",
    "version": 3
   },
   "file_extension": ".py",
   "mimetype": "text/x-python",
   "name": "python",
   "nbconvert_exporter": "python",
   "pygments_lexer": "ipython3",
   "version": "3.8.12"
  }
 },
 "nbformat": 4,
 "nbformat_minor": 5
}
