{
 "cells": [
  {
   "cell_type": "markdown",
   "metadata": {},
   "source": [
    "# This noteboook is aimed at modelling returns of Bitcoin using traditional econometrics approach"
   ]
  },
  {
   "cell_type": "markdown",
   "metadata": {},
   "source": [
    "## Importing libraries"
   ]
  },
  {
   "cell_type": "code",
   "execution_count": 1,
   "metadata": {},
   "outputs": [],
   "source": [
    "# basic data-handling libraries\n",
    "import pandas as pd\n",
    "import numpy as np\n",
    "import matplotlib.pyplot as plt"
   ]
  },
  {
   "cell_type": "code",
   "execution_count": 2,
   "metadata": {},
   "outputs": [],
   "source": [
    "# libraries used in dataimports and modifications\n",
    "from tvDatafeed import TvDatafeed, Interval\n",
    "import pandas_ta as ta\n",
    "import requests\n",
    "import json\n",
    "import datetime"
   ]
  },
  {
   "cell_type": "code",
   "execution_count": 3,
   "metadata": {},
   "outputs": [],
   "source": [
    "# library for statistical analysis\n",
    "from statsmodels.formula.api import ols\n",
    "from statsmodels.stats.outliers_influence import variance_inflation_factor as vif"
   ]
  },
  {
   "cell_type": "code",
   "execution_count": 4,
   "metadata": {},
   "outputs": [
    {
     "name": "stderr",
     "output_type": "stream",
     "text": [
      "[nltk_data] Downloading package stopwords to\n",
      "[nltk_data]     /Users/kotakikuchi/nltk_data...\n",
      "[nltk_data]   Package stopwords is already up-to-date!\n"
     ]
    }
   ],
   "source": [
    "# utilities\n",
    "import sys\n",
    "import nltk\n",
    "sys.path.append('modules')\n",
    "import utils"
   ]
  },
  {
   "cell_type": "markdown",
   "metadata": {},
   "source": [
    "## Importing data"
   ]
  },
  {
   "cell_type": "code",
   "execution_count": 5,
   "metadata": {},
   "outputs": [
    {
     "name": "stderr",
     "output_type": "stream",
     "text": [
      "you are using nologin method, data you access may be limited\n"
     ]
    }
   ],
   "source": [
    "bitcoin = utils.get_data('BTCUSDT', exchange = 'BINANCE',start_date = \"2020-01-01\")"
   ]
  },
  {
   "cell_type": "code",
   "execution_count": 6,
   "metadata": {},
   "outputs": [],
   "source": [
    "#twitter = utils.processed_twitter_data()\n",
    "# twitter_daily = twitter[['sentiment','created_at']].resample('D', on='created_at').mean()\n",
    "# twitter_daily.index = twitter_daily.index.tz_localize(None)\n"
   ]
  },
  {
   "cell_type": "code",
   "execution_count": 7,
   "metadata": {},
   "outputs": [],
   "source": [
    "twitter_daily = pd.read_pickle('../data/cleaned/by_date_verified_sentiments_2020-2021.pkl')"
   ]
  },
  {
   "cell_type": "code",
   "execution_count": 8,
   "metadata": {},
   "outputs": [],
   "source": [
    "merged_df = bitcoin.merge(twitter_daily, how = 'outer', left_on = 'datetime', right_on = 'created_at')"
   ]
  },
  {
   "cell_type": "code",
   "execution_count": 9,
   "metadata": {},
   "outputs": [
    {
     "data": {
      "text/html": [
       "<div>\n",
       "<style scoped>\n",
       "    .dataframe tbody tr th:only-of-type {\n",
       "        vertical-align: middle;\n",
       "    }\n",
       "\n",
       "    .dataframe tbody tr th {\n",
       "        vertical-align: top;\n",
       "    }\n",
       "\n",
       "    .dataframe thead th {\n",
       "        text-align: right;\n",
       "    }\n",
       "</style>\n",
       "<table border=\"1\" class=\"dataframe\">\n",
       "  <thead>\n",
       "    <tr style=\"text-align: right;\">\n",
       "      <th></th>\n",
       "      <th>datetime</th>\n",
       "      <th>symbol</th>\n",
       "      <th>open</th>\n",
       "      <th>high</th>\n",
       "      <th>low</th>\n",
       "      <th>close</th>\n",
       "      <th>volume</th>\n",
       "      <th>created_at</th>\n",
       "      <th>weighted_sentiment</th>\n",
       "    </tr>\n",
       "  </thead>\n",
       "  <tbody>\n",
       "    <tr>\n",
       "      <th>0</th>\n",
       "      <td>2020-01-01</td>\n",
       "      <td>BINANCE:BTCUSDT</td>\n",
       "      <td>7200.77</td>\n",
       "      <td>7212.50</td>\n",
       "      <td>6924.74</td>\n",
       "      <td>6965.71</td>\n",
       "      <td>31951.483932</td>\n",
       "      <td>2020-01-01</td>\n",
       "      <td>0.137061</td>\n",
       "    </tr>\n",
       "    <tr>\n",
       "      <th>1</th>\n",
       "      <td>2020-01-02</td>\n",
       "      <td>BINANCE:BTCUSDT</td>\n",
       "      <td>6965.49</td>\n",
       "      <td>7405.00</td>\n",
       "      <td>6871.04</td>\n",
       "      <td>7344.96</td>\n",
       "      <td>68428.500451</td>\n",
       "      <td>2020-01-02</td>\n",
       "      <td>0.080472</td>\n",
       "    </tr>\n",
       "    <tr>\n",
       "      <th>2</th>\n",
       "      <td>2020-01-03</td>\n",
       "      <td>BINANCE:BTCUSDT</td>\n",
       "      <td>7345.00</td>\n",
       "      <td>7404.00</td>\n",
       "      <td>7272.21</td>\n",
       "      <td>7354.11</td>\n",
       "      <td>29987.974977</td>\n",
       "      <td>2020-01-03</td>\n",
       "      <td>0.120766</td>\n",
       "    </tr>\n",
       "    <tr>\n",
       "      <th>3</th>\n",
       "      <td>2020-01-04</td>\n",
       "      <td>BINANCE:BTCUSDT</td>\n",
       "      <td>7354.19</td>\n",
       "      <td>7495.00</td>\n",
       "      <td>7318.00</td>\n",
       "      <td>7358.75</td>\n",
       "      <td>38331.085604</td>\n",
       "      <td>2020-01-04</td>\n",
       "      <td>0.062771</td>\n",
       "    </tr>\n",
       "    <tr>\n",
       "      <th>4</th>\n",
       "      <td>2020-01-05</td>\n",
       "      <td>BINANCE:BTCUSDT</td>\n",
       "      <td>7357.64</td>\n",
       "      <td>7795.34</td>\n",
       "      <td>7346.76</td>\n",
       "      <td>7758.00</td>\n",
       "      <td>54635.695316</td>\n",
       "      <td>2020-01-05</td>\n",
       "      <td>0.062458</td>\n",
       "    </tr>\n",
       "  </tbody>\n",
       "</table>\n",
       "</div>"
      ],
      "text/plain": [
       "    datetime           symbol     open     high      low    close  \\\n",
       "0 2020-01-01  BINANCE:BTCUSDT  7200.77  7212.50  6924.74  6965.71   \n",
       "1 2020-01-02  BINANCE:BTCUSDT  6965.49  7405.00  6871.04  7344.96   \n",
       "2 2020-01-03  BINANCE:BTCUSDT  7345.00  7404.00  7272.21  7354.11   \n",
       "3 2020-01-04  BINANCE:BTCUSDT  7354.19  7495.00  7318.00  7358.75   \n",
       "4 2020-01-05  BINANCE:BTCUSDT  7357.64  7795.34  7346.76  7758.00   \n",
       "\n",
       "         volume created_at  weighted_sentiment  \n",
       "0  31951.483932 2020-01-01            0.137061  \n",
       "1  68428.500451 2020-01-02            0.080472  \n",
       "2  29987.974977 2020-01-03            0.120766  \n",
       "3  38331.085604 2020-01-04            0.062771  \n",
       "4  54635.695316 2020-01-05            0.062458  "
      ]
     },
     "execution_count": 9,
     "metadata": {},
     "output_type": "execute_result"
    }
   ],
   "source": [
    "merged_df.head()"
   ]
  },
  {
   "cell_type": "markdown",
   "metadata": {},
   "source": [
    "### Linear Regression"
   ]
  },
  {
   "cell_type": "markdown",
   "metadata": {},
   "source": [
    "Features - technical indicators.\n",
    "Reference: https://www.alpharithms.com/predicting-stock-prices-with-linear-regression-214618/\n"
   ]
  },
  {
   "cell_type": "code",
   "execution_count": 12,
   "metadata": {},
   "outputs": [],
   "source": [
    "'''\n",
    "function to calculate technical indicators'''\n",
    "def technical_indicator(df, column, technical_indicator, length):\n",
    "    \n",
    "    if technical_indicator == 'EMA':\n",
    "        df.ta.ema(close = column, length = length, append = True, lookahead=False)\n",
    "        \n",
    "    return df\n",
    "       \n",
    "    "
   ]
  },
  {
   "cell_type": "code",
   "execution_count": 13,
   "metadata": {},
   "outputs": [],
   "source": [
    "merged_df = technical_indicator(merged_df, 'close', 'EMA', length = 2)\n",
    "merged_df = utils.lag_columns(merged_df, ['EMA_2'], +1)\n",
    "merged_df = utils.lag_columns(merged_df, ['weighted_sentiment'], +1)\n",
    "\n",
    "merged_df = utils.calculate_return(merged_df, ['close','EMA_2_1_days_lagged', 'weighted_sentiment_1_days_lagged'], 1)\n"
   ]
  },
  {
   "cell_type": "code",
   "execution_count": 14,
   "metadata": {},
   "outputs": [
    {
     "data": {
      "text/plain": [
       "<matplotlib.legend.Legend at 0x16dc97e20>"
      ]
     },
     "execution_count": 14,
     "metadata": {},
     "output_type": "execute_result"
    },
    {
     "data": {
      "image/png": "[encoded data removed]",
      "text/plain": [
       "<Figure size 432x288 with 1 Axes>"
      ]
     },
     "metadata": {
      "needs_background": "light"
     },
     "output_type": "display_data"
    }
   ],
   "source": [
    "fig, ax = plt.subplots()\n",
    "\n",
    "ax.plot(merged_df['datetime'],merged_df['close'], label = 'Bitcoin Price')\n",
    "ax.plot(merged_df['datetime'],merged_df['EMA_2'], label = 'Bitcoin Price Moving Average')\n",
    "\n",
    "plt.title(\"Bitcoin Price and Exponential Moving Average\")\n",
    "plt.legend()"
   ]
  },
  {
   "cell_type": "markdown",
   "metadata": {},
   "source": [
    "# We need to lag the features to avoid leakage (lookahead bias). That is, you cannot use tomorrow's data to predict the price for tomorrow. We need to use what we know today to predict the price tomorrow."
   ]
  },
  {
   "cell_type": "code",
   "execution_count": 15,
   "metadata": {},
   "outputs": [
    {
     "data": {
      "text/html": [
       "<div>\n",
       "<style scoped>\n",
       "    .dataframe tbody tr th:only-of-type {\n",
       "        vertical-align: middle;\n",
       "    }\n",
       "\n",
       "    .dataframe tbody tr th {\n",
       "        vertical-align: top;\n",
       "    }\n",
       "\n",
       "    .dataframe thead th {\n",
       "        text-align: right;\n",
       "    }\n",
       "</style>\n",
       "<table border=\"1\" class=\"dataframe\">\n",
       "  <thead>\n",
       "    <tr style=\"text-align: right;\">\n",
       "      <th></th>\n",
       "      <th>datetime</th>\n",
       "      <th>symbol</th>\n",
       "      <th>open</th>\n",
       "      <th>high</th>\n",
       "      <th>low</th>\n",
       "      <th>close</th>\n",
       "      <th>volume</th>\n",
       "      <th>created_at</th>\n",
       "      <th>weighted_sentiment</th>\n",
       "      <th>EMA_2</th>\n",
       "      <th>EMA_2_1_days_lagged</th>\n",
       "      <th>weighted_sentiment_1_days_lagged</th>\n",
       "      <th>close_return</th>\n",
       "      <th>EMA_2_1_days_lagged_return</th>\n",
       "      <th>weighted_sentiment_1_days_lagged_return</th>\n",
       "    </tr>\n",
       "  </thead>\n",
       "  <tbody>\n",
       "    <tr>\n",
       "      <th>0</th>\n",
       "      <td>2020-01-01</td>\n",
       "      <td>BINANCE:BTCUSDT</td>\n",
       "      <td>7200.77</td>\n",
       "      <td>7212.50</td>\n",
       "      <td>6924.74</td>\n",
       "      <td>6965.71</td>\n",
       "      <td>31951.483932</td>\n",
       "      <td>2020-01-01</td>\n",
       "      <td>0.137061</td>\n",
       "      <td>NaN</td>\n",
       "      <td>NaN</td>\n",
       "      <td>NaN</td>\n",
       "      <td>NaN</td>\n",
       "      <td>NaN</td>\n",
       "      <td>NaN</td>\n",
       "    </tr>\n",
       "    <tr>\n",
       "      <th>1</th>\n",
       "      <td>2020-01-02</td>\n",
       "      <td>BINANCE:BTCUSDT</td>\n",
       "      <td>6965.49</td>\n",
       "      <td>7405.00</td>\n",
       "      <td>6871.04</td>\n",
       "      <td>7344.96</td>\n",
       "      <td>68428.500451</td>\n",
       "      <td>2020-01-02</td>\n",
       "      <td>0.080472</td>\n",
       "      <td>7155.335000</td>\n",
       "      <td>NaN</td>\n",
       "      <td>0.137061</td>\n",
       "      <td>0.054445</td>\n",
       "      <td>NaN</td>\n",
       "      <td>NaN</td>\n",
       "    </tr>\n",
       "    <tr>\n",
       "      <th>2</th>\n",
       "      <td>2020-01-03</td>\n",
       "      <td>BINANCE:BTCUSDT</td>\n",
       "      <td>7345.00</td>\n",
       "      <td>7404.00</td>\n",
       "      <td>7272.21</td>\n",
       "      <td>7354.11</td>\n",
       "      <td>29987.974977</td>\n",
       "      <td>2020-01-03</td>\n",
       "      <td>0.120766</td>\n",
       "      <td>7287.851667</td>\n",
       "      <td>7155.335000</td>\n",
       "      <td>0.080472</td>\n",
       "      <td>0.001246</td>\n",
       "      <td>NaN</td>\n",
       "      <td>-0.412872</td>\n",
       "    </tr>\n",
       "    <tr>\n",
       "      <th>3</th>\n",
       "      <td>2020-01-04</td>\n",
       "      <td>BINANCE:BTCUSDT</td>\n",
       "      <td>7354.19</td>\n",
       "      <td>7495.00</td>\n",
       "      <td>7318.00</td>\n",
       "      <td>7358.75</td>\n",
       "      <td>38331.085604</td>\n",
       "      <td>2020-01-04</td>\n",
       "      <td>0.062771</td>\n",
       "      <td>7335.117222</td>\n",
       "      <td>7287.851667</td>\n",
       "      <td>0.120766</td>\n",
       "      <td>0.000631</td>\n",
       "      <td>0.018520</td>\n",
       "      <td>0.500723</td>\n",
       "    </tr>\n",
       "    <tr>\n",
       "      <th>4</th>\n",
       "      <td>2020-01-05</td>\n",
       "      <td>BINANCE:BTCUSDT</td>\n",
       "      <td>7357.64</td>\n",
       "      <td>7795.34</td>\n",
       "      <td>7346.76</td>\n",
       "      <td>7758.00</td>\n",
       "      <td>54635.695316</td>\n",
       "      <td>2020-01-05</td>\n",
       "      <td>0.062458</td>\n",
       "      <td>7617.039074</td>\n",
       "      <td>7335.117222</td>\n",
       "      <td>0.062771</td>\n",
       "      <td>0.054255</td>\n",
       "      <td>0.006486</td>\n",
       "      <td>-0.480230</td>\n",
       "    </tr>\n",
       "  </tbody>\n",
       "</table>\n",
       "</div>"
      ],
      "text/plain": [
       "    datetime           symbol     open     high      low    close  \\\n",
       "0 2020-01-01  BINANCE:BTCUSDT  7200.77  7212.50  6924.74  6965.71   \n",
       "1 2020-01-02  BINANCE:BTCUSDT  6965.49  7405.00  6871.04  7344.96   \n",
       "2 2020-01-03  BINANCE:BTCUSDT  7345.00  7404.00  7272.21  7354.11   \n",
       "3 2020-01-04  BINANCE:BTCUSDT  7354.19  7495.00  7318.00  7358.75   \n",
       "4 2020-01-05  BINANCE:BTCUSDT  7357.64  7795.34  7346.76  7758.00   \n",
       "\n",
       "         volume created_at  weighted_sentiment        EMA_2  \\\n",
       "0  31951.483932 2020-01-01            0.137061          NaN   \n",
       "1  68428.500451 2020-01-02            0.080472  7155.335000   \n",
       "2  29987.974977 2020-01-03            0.120766  7287.851667   \n",
       "3  38331.085604 2020-01-04            0.062771  7335.117222   \n",
       "4  54635.695316 2020-01-05            0.062458  7617.039074   \n",
       "\n",
       "   EMA_2_1_days_lagged  weighted_sentiment_1_days_lagged  close_return  \\\n",
       "0                  NaN                               NaN           NaN   \n",
       "1                  NaN                          0.137061      0.054445   \n",
       "2          7155.335000                          0.080472      0.001246   \n",
       "3          7287.851667                          0.120766      0.000631   \n",
       "4          7335.117222                          0.062771      0.054255   \n",
       "\n",
       "   EMA_2_1_days_lagged_return  weighted_sentiment_1_days_lagged_return  \n",
       "0                         NaN                                      NaN  \n",
       "1                         NaN                                      NaN  \n",
       "2                         NaN                                -0.412872  \n",
       "3                    0.018520                                 0.500723  \n",
       "4                    0.006486                                -0.480230  "
      ]
     },
     "execution_count": 15,
     "metadata": {},
     "output_type": "execute_result"
    }
   ],
   "source": [
    "merged_df.head()"
   ]
  },
  {
   "cell_type": "code",
   "execution_count": 16,
   "metadata": {},
   "outputs": [
    {
     "data": {
      "text/plain": [
       "<AxesSubplot:ylabel='Frequency'>"
      ]
     },
     "execution_count": 16,
     "metadata": {},
     "output_type": "execute_result"
    },
    {
     "data": {
      "image/png": "[encoded data removed]",
      "text/plain": [
       "<Figure size 432x288 with 1 Axes>"
      ]
     },
     "metadata": {
      "needs_background": "light"
     },
     "output_type": "display_data"
    }
   ],
   "source": [
    "merged_df['weighted_sentiment_1_days_lagged'].plot(kind = 'hist')"
   ]
  },
  {
   "cell_type": "code",
   "execution_count": null,
   "metadata": {},
   "outputs": [],
   "source": []
  },
  {
   "cell_type": "code",
   "execution_count": 20,
   "metadata": {},
   "outputs": [],
   "source": [
    "formula_1 = 'close_return ~ EMA_2_1_days_lagged_return'\n",
    "res_1 = ols(formula_1, data= merged_df).fit()"
   ]
  },
  {
   "cell_type": "code",
   "execution_count": 21,
   "metadata": {},
   "outputs": [
    {
     "name": "stdout",
     "output_type": "stream",
     "text": [
      "                            OLS Regression Results                            \n",
      "==============================================================================\n",
      "Dep. Variable:           close_return   R-squared:                       0.007\n",
      "Model:                            OLS   Adj. R-squared:                  0.006\n",
      "Method:                 Least Squares   F-statistic:                     5.497\n",
      "Date:                Fri, 25 Feb 2022   Prob (F-statistic):             0.0193\n",
      "Time:                        17:33:35   Log-Likelihood:                 1403.5\n",
      "No. Observations:                 783   AIC:                            -2803.\n",
      "Df Residuals:                     781   BIC:                            -2794.\n",
      "Df Model:                           1                                         \n",
      "Covariance Type:            nonrobust                                         \n",
      "==============================================================================================\n",
      "                                 coef    std err          t      P>|t|      [0.025      0.975]\n",
      "----------------------------------------------------------------------------------------------\n",
      "Intercept                      0.0033      0.001      2.271      0.023       0.000       0.006\n",
      "EMA_2_1_days_lagged_return    -0.1219      0.052     -2.345      0.019      -0.224      -0.020\n",
      "==============================================================================\n",
      "Omnibus:                      271.631   Durbin-Watson:                   2.043\n",
      "Prob(Omnibus):                  0.000   Jarque-Bera (JB):             5876.310\n",
      "Skew:                          -1.027   Prob(JB):                         0.00\n",
      "Kurtosis:                      16.263   Cond. No.                         36.1\n",
      "==============================================================================\n",
      "\n",
      "Notes:\n",
      "[1] Standard Errors assume that the covariance matrix of the errors is correctly specified.\n"
     ]
    }
   ],
   "source": [
    "print(res_1.summary())"
   ]
  },
  {
   "cell_type": "code",
   "execution_count": null,
   "metadata": {},
   "outputs": [],
   "source": []
  },
  {
   "cell_type": "markdown",
   "metadata": {},
   "source": [
    "Correlation between change in sentiment and return on bitcoin"
   ]
  },
  {
   "cell_type": "code",
   "execution_count": 17,
   "metadata": {},
   "outputs": [],
   "source": [
    "formula_2 = 'close_return ~ weighted_sentiment_1_days_lagged_return '\n",
    "res_2 = ols(formula_2, data= merged_df).fit()"
   ]
  },
  {
   "cell_type": "code",
   "execution_count": 18,
   "metadata": {},
   "outputs": [
    {
     "name": "stdout",
     "output_type": "stream",
     "text": [
      "                            OLS Regression Results                            \n",
      "==============================================================================\n",
      "Dep. Variable:           close_return   R-squared:                       0.004\n",
      "Model:                            OLS   Adj. R-squared:                  0.003\n",
      "Method:                 Least Squares   F-statistic:                     3.011\n",
      "Date:                Fri, 04 Mar 2022   Prob (F-statistic):             0.0831\n",
      "Time:                        21:04:32   Log-Likelihood:                 1413.5\n",
      "No. Observations:                 792   AIC:                            -2823.\n",
      "Df Residuals:                     790   BIC:                            -2814.\n",
      "Df Model:                           1                                         \n",
      "Covariance Type:            nonrobust                                         \n",
      "===========================================================================================================\n",
      "                                              coef    std err          t      P>|t|      [0.025      0.975]\n",
      "-----------------------------------------------------------------------------------------------------------\n",
      "Intercept                                   0.0030      0.001      2.102      0.036       0.000       0.006\n",
      "weighted_sentiment_1_days_lagged_return     0.0011      0.001      1.735      0.083      -0.000       0.002\n",
      "==============================================================================\n",
      "Omnibus:                      250.169   Durbin-Watson:                   2.203\n",
      "Prob(Omnibus):                  0.000   Jarque-Bera (JB):             5565.954\n",
      "Skew:                          -0.875   Prob(JB):                         0.00\n",
      "Kurtosis:                      15.869   Cond. No.                         2.35\n",
      "==============================================================================\n",
      "\n",
      "Notes:\n",
      "[1] Standard Errors assume that the covariance matrix of the errors is correctly specified.\n"
     ]
    }
   ],
   "source": [
    "print(res_2.summary())"
   ]
  },
  {
   "cell_type": "code",
   "execution_count": 23,
   "metadata": {},
   "outputs": [
    {
     "name": "stdout",
     "output_type": "stream",
     "text": [
      "\\begin{center}\n",
      "\\begin{tabular}{lclc}\n",
      "\\toprule\n",
      "\\textbf{Dep. Variable:}                               &  close\\_return   & \\textbf{  R-squared:         } &     0.004   \\\\\n",
      "\\textbf{Model:}                                       &       OLS        & \\textbf{  Adj. R-squared:    } &     0.003   \\\\\n",
      "\\textbf{Method:}                                      &  Least Squares   & \\textbf{  F-statistic:       } &     3.011   \\\\\n",
      "\\textbf{Date:}                                        & Fri, 04 Mar 2022 & \\textbf{  Prob (F-statistic):} &   0.0831    \\\\\n",
      "\\textbf{Time:}                                        &     21:08:45     & \\textbf{  Log-Likelihood:    } &    1413.5   \\\\\n",
      "\\textbf{No. Observations:}                            &         792      & \\textbf{  AIC:               } &    -2823.   \\\\\n",
      "\\textbf{Df Residuals:}                                &         790      & \\textbf{  BIC:               } &    -2814.   \\\\\n",
      "\\textbf{Df Model:}                                    &           1      & \\textbf{                     } &             \\\\\n",
      "\\textbf{Covariance Type:}                             &    nonrobust     & \\textbf{                     } &             \\\\\n",
      "\\bottomrule\n",
      "\\end{tabular}\n",
      "\\begin{tabular}{lcccccc}\n",
      "                                                      & \\textbf{coef} & \\textbf{std err} & \\textbf{t} & \\textbf{P$> |$t$|$} & \\textbf{[0.025} & \\textbf{0.975]}  \\\\\n",
      "\\midrule\n",
      "\\textbf{Intercept}                                    &       0.0030  &        0.001     &     2.102  &         0.036        &        0.000    &        0.006     \\\\\n",
      "\\textbf{weighted\\_sentiment\\_1\\_days\\_lagged\\_return} &       0.0011  &        0.001     &     1.735  &         0.083        &       -0.000    &        0.002     \\\\\n",
      "\\bottomrule\n",
      "\\end{tabular}\n",
      "\\begin{tabular}{lclc}\n",
      "\\textbf{Omnibus:}       & 250.169 & \\textbf{  Durbin-Watson:     } &    2.203  \\\\\n",
      "\\textbf{Prob(Omnibus):} &   0.000 & \\textbf{  Jarque-Bera (JB):  } & 5565.954  \\\\\n",
      "\\textbf{Skew:}          &  -0.875 & \\textbf{  Prob(JB):          } &     0.00  \\\\\n",
      "\\textbf{Kurtosis:}      &  15.869 & \\textbf{  Cond. No.          } &     2.35  \\\\\n",
      "\\bottomrule\n",
      "\\end{tabular}\n",
      "%\\caption{OLS Regression Results}\n",
      "\\end{center}\n",
      "\n",
      "Notes: \\newline\n",
      " [1] Standard Errors assume that the covariance matrix of the errors is correctly specified.\n"
     ]
    }
   ],
   "source": [
    "print(res_2.summary().as_latex())"
   ]
  },
  {
   "cell_type": "code",
   "execution_count": null,
   "metadata": {},
   "outputs": [],
   "source": []
  },
  {
   "cell_type": "markdown",
   "metadata": {},
   "source": [
    "Correlation between sentiment and bitcoin return"
   ]
  },
  {
   "cell_type": "code",
   "execution_count": 24,
   "metadata": {},
   "outputs": [],
   "source": [
    "formula_3 = 'close_return ~ weighted_sentiment_1_days_lagged'\n",
    "res_3 = ols(formula_3, data= merged_df).fit()"
   ]
  },
  {
   "cell_type": "code",
   "execution_count": 25,
   "metadata": {},
   "outputs": [
    {
     "name": "stdout",
     "output_type": "stream",
     "text": [
      "                            OLS Regression Results                            \n",
      "==============================================================================\n",
      "Dep. Variable:           close_return   R-squared:                       0.004\n",
      "Model:                            OLS   Adj. R-squared:                  0.003\n",
      "Method:                 Least Squares   F-statistic:                     2.974\n",
      "Date:                Fri, 04 Mar 2022   Prob (F-statistic):             0.0850\n",
      "Time:                        21:20:42   Log-Likelihood:                 1299.9\n",
      "No. Observations:                 731   AIC:                            -2596.\n",
      "Df Residuals:                     729   BIC:                            -2587.\n",
      "Df Model:                           1                                         \n",
      "Covariance Type:            nonrobust                                         \n",
      "====================================================================================================\n",
      "                                       coef    std err          t      P>|t|      [0.025      0.975]\n",
      "----------------------------------------------------------------------------------------------------\n",
      "Intercept                           -0.0039      0.005     -0.860      0.390      -0.013       0.005\n",
      "weighted_sentiment_1_days_lagged     0.0684      0.040      1.725      0.085      -0.009       0.146\n",
      "==============================================================================\n",
      "Omnibus:                      242.813   Durbin-Watson:                   2.227\n",
      "Prob(Omnibus):                  0.000   Jarque-Bera (JB):             5340.515\n",
      "Skew:                          -0.945   Prob(JB):                         0.00\n",
      "Kurtosis:                      16.106   Cond. No.                         26.5\n",
      "==============================================================================\n",
      "\n",
      "Notes:\n",
      "[1] Standard Errors assume that the covariance matrix of the errors is correctly specified.\n"
     ]
    }
   ],
   "source": [
    "print(res_3.summary())"
   ]
  },
  {
   "cell_type": "code",
   "execution_count": 26,
   "metadata": {},
   "outputs": [
    {
     "name": "stdout",
     "output_type": "stream",
     "text": [
      "\\begin{center}\n",
      "\\begin{tabular}{lclc}\n",
      "\\toprule\n",
      "\\textbf{Dep. Variable:}                       &  close\\_return   & \\textbf{  R-squared:         } &     0.004   \\\\\n",
      "\\textbf{Model:}                               &       OLS        & \\textbf{  Adj. R-squared:    } &     0.003   \\\\\n",
      "\\textbf{Method:}                              &  Least Squares   & \\textbf{  F-statistic:       } &     2.974   \\\\\n",
      "\\textbf{Date:}                                & Fri, 04 Mar 2022 & \\textbf{  Prob (F-statistic):} &   0.0850    \\\\\n",
      "\\textbf{Time:}                                &     21:52:22     & \\textbf{  Log-Likelihood:    } &    1299.9   \\\\\n",
      "\\textbf{No. Observations:}                    &         731      & \\textbf{  AIC:               } &    -2596.   \\\\\n",
      "\\textbf{Df Residuals:}                        &         729      & \\textbf{  BIC:               } &    -2587.   \\\\\n",
      "\\textbf{Df Model:}                            &           1      & \\textbf{                     } &             \\\\\n",
      "\\textbf{Covariance Type:}                     &    nonrobust     & \\textbf{                     } &             \\\\\n",
      "\\bottomrule\n",
      "\\end{tabular}\n",
      "\\begin{tabular}{lcccccc}\n",
      "                                              & \\textbf{coef} & \\textbf{std err} & \\textbf{t} & \\textbf{P$> |$t$|$} & \\textbf{[0.025} & \\textbf{0.975]}  \\\\\n",
      "\\midrule\n",
      "\\textbf{Intercept}                            &      -0.0039  &        0.005     &    -0.860  &         0.390        &       -0.013    &        0.005     \\\\\n",
      "\\textbf{weighted\\_sentiment\\_1\\_days\\_lagged} &       0.0684  &        0.040     &     1.725  &         0.085        &       -0.009    &        0.146     \\\\\n",
      "\\bottomrule\n",
      "\\end{tabular}\n",
      "\\begin{tabular}{lclc}\n",
      "\\textbf{Omnibus:}       & 242.813 & \\textbf{  Durbin-Watson:     } &    2.227  \\\\\n",
      "\\textbf{Prob(Omnibus):} &   0.000 & \\textbf{  Jarque-Bera (JB):  } & 5340.515  \\\\\n",
      "\\textbf{Skew:}          &  -0.945 & \\textbf{  Prob(JB):          } &     0.00  \\\\\n",
      "\\textbf{Kurtosis:}      &  16.106 & \\textbf{  Cond. No.          } &     26.5  \\\\\n",
      "\\bottomrule\n",
      "\\end{tabular}\n",
      "%\\caption{OLS Regression Results}\n",
      "\\end{center}\n",
      "\n",
      "Notes: \\newline\n",
      " [1] Standard Errors assume that the covariance matrix of the errors is correctly specified.\n"
     ]
    }
   ],
   "source": [
    "print(res_3.summary().as_latex())"
   ]
  },
  {
   "cell_type": "code",
   "execution_count": null,
   "metadata": {},
   "outputs": [],
   "source": []
  }
 ],
 "metadata": {
  "kernelspec": {
   "display_name": "Python 3 (ipykernel)",
   "language": "python",
   "name": "python3"
  },
  "language_info": {
   "codemirror_mode": {
    "name": "ipython",
    "version": 3
   },
   "file_extension": ".py",
   "mimetype": "text/x-python",
   "name": "python",
   "nbconvert_exporter": "python",
   "pygments_lexer": "ipython3",
   "version": "3.8.12"
  }
 },
 "nbformat": 4,
 "nbformat_minor": 2
}
