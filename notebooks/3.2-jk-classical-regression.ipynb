{
 "cells": [
  {
   "cell_type": "markdown",
   "metadata": {},
   "source": [
    "# This noteboook is aimed at modelling returns of Bitcoin using traditional econometrics approach"
   ]
  },
  {
   "cell_type": "markdown",
   "metadata": {},
   "source": [
    "## Importing libraries"
   ]
  },
  {
   "cell_type": "code",
   "execution_count": 1,
   "metadata": {},
   "outputs": [],
   "source": [
    "# basic data-handling libraries\n",
    "import pandas as pd\n",
    "import numpy as np\n",
    "import matplotlib.pyplot as plt"
   ]
  },
  {
   "cell_type": "code",
   "execution_count": 2,
   "metadata": {},
   "outputs": [],
   "source": [
    "# libraries used in dataimports and modifications\n",
    "from tvDatafeed import TvDatafeed, Interval\n",
    "import pandas_ta as ta\n",
    "import requests\n",
    "import json\n",
    "import datetime"
   ]
  },
  {
   "cell_type": "code",
   "execution_count": 3,
   "metadata": {},
   "outputs": [],
   "source": [
    "# library for statistical analysis\n",
    "from statsmodels.formula.api import ols\n",
    "from statsmodels.stats.outliers_influence import variance_inflation_factor as vif"
   ]
  },
  {
   "cell_type": "code",
   "execution_count": 4,
   "metadata": {},
   "outputs": [
    {
     "name": "stderr",
     "output_type": "stream",
     "text": [
      "[nltk_data] Downloading package stopwords to\n",
      "[nltk_data]     /Users/kotakikuchi/nltk_data...\n",
      "[nltk_data]   Package stopwords is already up-to-date!\n"
     ]
    }
   ],
   "source": [
    "# utilities\n",
    "import sys\n",
    "import nltk\n",
    "sys.path.append('modules')\n",
    "import utils"
   ]
  },
  {
   "cell_type": "markdown",
   "metadata": {},
   "source": [
    "## Importing data"
   ]
  },
  {
   "cell_type": "code",
   "execution_count": 10,
   "metadata": {},
   "outputs": [
    {
     "name": "stderr",
     "output_type": "stream",
     "text": [
      "WARNING:tvDatafeed.main:you are using nologin method, data you access may be limited\n"
     ]
    }
   ],
   "source": [
    "bitcoin = utils.get_data('BTCUSDT', exchange = 'BINANCE',start_date = \"2020-01-01\", end_date = '2021-12-31')\n",
    "\n",
    "twitter_sentiment = pd.read_pickle('../data/cleaned/by_date_verified_weighted_sentiment_2020-2021.pkl')\n",
    "twitter_price_opinion = pd.read_pickle('../data/cleaned/by_date_verified_weighted_money_2020-2021.pkl')\n",
    "twitter_price_opinion_normalized =  pd.read_pickle('../data/cleaned/by_date_normalized_money_2020-2021.pkl')\n",
    "twitter_price_opinion_normalized['created_at'] = pd.to_datetime(twitter_price_opinion_normalized['created_at'])\n",
    "\n",
    "# merging the data based on datetime with how = 'outer' as we would like to cover all the dates during 2020-2021 .\n",
    "merged_df = bitcoin.merge(twitter_sentiment, how = 'outer', left_on = 'datetime', right_on = 'created_at').drop(columns = 'created_at')\\\n",
    "            .merge(twitter_price_opinion_normalized, how = 'outer', left_on = 'datetime', right_on = 'created_at')\n",
    "\n"
   ]
  },
  {
   "cell_type": "code",
   "execution_count": 11,
   "metadata": {},
   "outputs": [
    {
     "name": "stdout",
     "output_type": "stream",
     "text": [
      "N rows bitcoin: 731\n",
      "N rows twitter_sentiment: 731\n",
      "N rows twitter_price_opinion: 731\n",
      "N rows twitter_price_opinion_normalized: 724\n",
      "N rows merged_df: 731\n"
     ]
    }
   ],
   "source": [
    "print(f\"N rows bitcoin: {len(bitcoin)}\")\n",
    "print(f\"N rows twitter_sentiment: {len(twitter_sentiment)}\")\n",
    "print(f\"N rows twitter_price_opinion: {len(twitter_price_opinion)}\")\n",
    "print(f\"N rows twitter_price_opinion_normalized: {len(twitter_price_opinion_normalized)}\")\n",
    "print(f\"N rows merged_df: {len(merged_df)}\")"
   ]
  },
  {
   "cell_type": "code",
   "execution_count": 12,
   "metadata": {},
   "outputs": [
    {
     "data": {
      "text/html": [
       "<div>\n",
       "<style scoped>\n",
       "    .dataframe tbody tr th:only-of-type {\n",
       "        vertical-align: middle;\n",
       "    }\n",
       "\n",
       "    .dataframe tbody tr th {\n",
       "        vertical-align: top;\n",
       "    }\n",
       "\n",
       "    .dataframe thead th {\n",
       "        text-align: right;\n",
       "    }\n",
       "</style>\n",
       "<table border=\"1\" class=\"dataframe\">\n",
       "  <thead>\n",
       "    <tr style=\"text-align: right;\">\n",
       "      <th></th>\n",
       "      <th>datetime</th>\n",
       "      <th>symbol</th>\n",
       "      <th>open</th>\n",
       "      <th>high</th>\n",
       "      <th>low</th>\n",
       "      <th>close</th>\n",
       "      <th>volume</th>\n",
       "      <th>weighted_sentiment</th>\n",
       "      <th>created_at</th>\n",
       "      <th>normalized_money</th>\n",
       "    </tr>\n",
       "  </thead>\n",
       "  <tbody>\n",
       "    <tr>\n",
       "      <th>0</th>\n",
       "      <td>2020-01-01</td>\n",
       "      <td>BINANCE:BTCUSDT</td>\n",
       "      <td>7200.77</td>\n",
       "      <td>7212.50</td>\n",
       "      <td>6924.74</td>\n",
       "      <td>6965.71</td>\n",
       "      <td>31951.483932</td>\n",
       "      <td>0.126772</td>\n",
       "      <td>2020-01-01</td>\n",
       "      <td>-1.732184</td>\n",
       "    </tr>\n",
       "    <tr>\n",
       "      <th>1</th>\n",
       "      <td>2020-01-02</td>\n",
       "      <td>BINANCE:BTCUSDT</td>\n",
       "      <td>6965.49</td>\n",
       "      <td>7405.00</td>\n",
       "      <td>6871.04</td>\n",
       "      <td>7344.96</td>\n",
       "      <td>68428.500451</td>\n",
       "      <td>0.073418</td>\n",
       "      <td>2020-01-02</td>\n",
       "      <td>-2.153626</td>\n",
       "    </tr>\n",
       "    <tr>\n",
       "      <th>2</th>\n",
       "      <td>2020-01-03</td>\n",
       "      <td>BINANCE:BTCUSDT</td>\n",
       "      <td>7345.00</td>\n",
       "      <td>7404.00</td>\n",
       "      <td>7272.21</td>\n",
       "      <td>7354.11</td>\n",
       "      <td>29987.974977</td>\n",
       "      <td>0.145800</td>\n",
       "      <td>2020-01-03</td>\n",
       "      <td>-1.508160</td>\n",
       "    </tr>\n",
       "    <tr>\n",
       "      <th>3</th>\n",
       "      <td>2020-01-04</td>\n",
       "      <td>BINANCE:BTCUSDT</td>\n",
       "      <td>7354.19</td>\n",
       "      <td>7495.00</td>\n",
       "      <td>7318.00</td>\n",
       "      <td>7358.75</td>\n",
       "      <td>38331.085604</td>\n",
       "      <td>0.087736</td>\n",
       "      <td>2020-01-04</td>\n",
       "      <td>-2.642491</td>\n",
       "    </tr>\n",
       "    <tr>\n",
       "      <th>4</th>\n",
       "      <td>2020-01-05</td>\n",
       "      <td>BINANCE:BTCUSDT</td>\n",
       "      <td>7357.64</td>\n",
       "      <td>7795.34</td>\n",
       "      <td>7346.76</td>\n",
       "      <td>7758.00</td>\n",
       "      <td>54635.695316</td>\n",
       "      <td>0.057072</td>\n",
       "      <td>2020-01-05</td>\n",
       "      <td>-1.754553</td>\n",
       "    </tr>\n",
       "  </tbody>\n",
       "</table>\n",
       "</div>"
      ],
      "text/plain": [
       "    datetime           symbol     open     high      low    close  \\\n",
       "0 2020-01-01  BINANCE:BTCUSDT  7200.77  7212.50  6924.74  6965.71   \n",
       "1 2020-01-02  BINANCE:BTCUSDT  6965.49  7405.00  6871.04  7344.96   \n",
       "2 2020-01-03  BINANCE:BTCUSDT  7345.00  7404.00  7272.21  7354.11   \n",
       "3 2020-01-04  BINANCE:BTCUSDT  7354.19  7495.00  7318.00  7358.75   \n",
       "4 2020-01-05  BINANCE:BTCUSDT  7357.64  7795.34  7346.76  7758.00   \n",
       "\n",
       "         volume  weighted_sentiment created_at  normalized_money  \n",
       "0  31951.483932            0.126772 2020-01-01         -1.732184  \n",
       "1  68428.500451            0.073418 2020-01-02         -2.153626  \n",
       "2  29987.974977            0.145800 2020-01-03         -1.508160  \n",
       "3  38331.085604            0.087736 2020-01-04         -2.642491  \n",
       "4  54635.695316            0.057072 2020-01-05         -1.754553  "
      ]
     },
     "execution_count": 12,
     "metadata": {},
     "output_type": "execute_result"
    }
   ],
   "source": [
    "merged_df.head()"
   ]
  },
  {
   "cell_type": "markdown",
   "metadata": {},
   "source": [
    "## Linear Regression"
   ]
  },
  {
   "cell_type": "code",
   "execution_count": 13,
   "metadata": {},
   "outputs": [],
   "source": [
    "# preparing dataframe, specifically, lagging columns or calculating returns\n",
    "merged_df = utils.lag_columns(merged_df, ['weighted_sentiment', 'normalized_money'], +1)\n",
    "merged_df = utils.calculate_return(merged_df, ['close'], 1)\n"
   ]
  },
  {
   "cell_type": "markdown",
   "metadata": {},
   "source": [
    "### We need to lag the features to avoid leakage (lookahead bias). That is, you cannot use tomorrow's data to predict the price for tomorrow. We need to use what we know today to predict the price tomorrow.\n",
    "\n",
    "- Therefore, in the analyis, we use today's feature to explain the return on tomorrow. That is, home much change in price will occur from today's closing price till tommorow's closing price."
   ]
  },
  {
   "cell_type": "code",
   "execution_count": 17,
   "metadata": {},
   "outputs": [
    {
     "data": {
      "text/html": [
       "<div>\n",
       "<style scoped>\n",
       "    .dataframe tbody tr th:only-of-type {\n",
       "        vertical-align: middle;\n",
       "    }\n",
       "\n",
       "    .dataframe tbody tr th {\n",
       "        vertical-align: top;\n",
       "    }\n",
       "\n",
       "    .dataframe thead th {\n",
       "        text-align: right;\n",
       "    }\n",
       "</style>\n",
       "<table border=\"1\" class=\"dataframe\">\n",
       "  <thead>\n",
       "    <tr style=\"text-align: right;\">\n",
       "      <th></th>\n",
       "      <th>datetime</th>\n",
       "      <th>symbol</th>\n",
       "      <th>open</th>\n",
       "      <th>high</th>\n",
       "      <th>low</th>\n",
       "      <th>close</th>\n",
       "      <th>volume</th>\n",
       "      <th>weighted_sentiment</th>\n",
       "      <th>created_at</th>\n",
       "      <th>normalized_money</th>\n",
       "      <th>weighted_sentiment_1_days_lagged</th>\n",
       "      <th>normalized_money_1_days_lagged</th>\n",
       "      <th>close_return</th>\n",
       "    </tr>\n",
       "  </thead>\n",
       "  <tbody>\n",
       "    <tr>\n",
       "      <th>0</th>\n",
       "      <td>2020-01-01</td>\n",
       "      <td>BINANCE:BTCUSDT</td>\n",
       "      <td>7200.77</td>\n",
       "      <td>7212.50</td>\n",
       "      <td>6924.74</td>\n",
       "      <td>6965.71</td>\n",
       "      <td>31951.483932</td>\n",
       "      <td>0.126772</td>\n",
       "      <td>2020-01-01</td>\n",
       "      <td>-1.732184</td>\n",
       "      <td>NaN</td>\n",
       "      <td>NaN</td>\n",
       "      <td>NaN</td>\n",
       "    </tr>\n",
       "    <tr>\n",
       "      <th>1</th>\n",
       "      <td>2020-01-02</td>\n",
       "      <td>BINANCE:BTCUSDT</td>\n",
       "      <td>6965.49</td>\n",
       "      <td>7405.00</td>\n",
       "      <td>6871.04</td>\n",
       "      <td>7344.96</td>\n",
       "      <td>68428.500451</td>\n",
       "      <td>0.073418</td>\n",
       "      <td>2020-01-02</td>\n",
       "      <td>-2.153626</td>\n",
       "      <td>0.126772</td>\n",
       "      <td>-1.732184</td>\n",
       "      <td>0.054445</td>\n",
       "    </tr>\n",
       "    <tr>\n",
       "      <th>2</th>\n",
       "      <td>2020-01-03</td>\n",
       "      <td>BINANCE:BTCUSDT</td>\n",
       "      <td>7345.00</td>\n",
       "      <td>7404.00</td>\n",
       "      <td>7272.21</td>\n",
       "      <td>7354.11</td>\n",
       "      <td>29987.974977</td>\n",
       "      <td>0.145800</td>\n",
       "      <td>2020-01-03</td>\n",
       "      <td>-1.508160</td>\n",
       "      <td>0.073418</td>\n",
       "      <td>-2.153626</td>\n",
       "      <td>0.001246</td>\n",
       "    </tr>\n",
       "    <tr>\n",
       "      <th>3</th>\n",
       "      <td>2020-01-04</td>\n",
       "      <td>BINANCE:BTCUSDT</td>\n",
       "      <td>7354.19</td>\n",
       "      <td>7495.00</td>\n",
       "      <td>7318.00</td>\n",
       "      <td>7358.75</td>\n",
       "      <td>38331.085604</td>\n",
       "      <td>0.087736</td>\n",
       "      <td>2020-01-04</td>\n",
       "      <td>-2.642491</td>\n",
       "      <td>0.145800</td>\n",
       "      <td>-1.508160</td>\n",
       "      <td>0.000631</td>\n",
       "    </tr>\n",
       "    <tr>\n",
       "      <th>4</th>\n",
       "      <td>2020-01-05</td>\n",
       "      <td>BINANCE:BTCUSDT</td>\n",
       "      <td>7357.64</td>\n",
       "      <td>7795.34</td>\n",
       "      <td>7346.76</td>\n",
       "      <td>7758.00</td>\n",
       "      <td>54635.695316</td>\n",
       "      <td>0.057072</td>\n",
       "      <td>2020-01-05</td>\n",
       "      <td>-1.754553</td>\n",
       "      <td>0.087736</td>\n",
       "      <td>-2.642491</td>\n",
       "      <td>0.054255</td>\n",
       "    </tr>\n",
       "  </tbody>\n",
       "</table>\n",
       "</div>"
      ],
      "text/plain": [
       "    datetime           symbol     open     high      low    close  \\\n",
       "0 2020-01-01  BINANCE:BTCUSDT  7200.77  7212.50  6924.74  6965.71   \n",
       "1 2020-01-02  BINANCE:BTCUSDT  6965.49  7405.00  6871.04  7344.96   \n",
       "2 2020-01-03  BINANCE:BTCUSDT  7345.00  7404.00  7272.21  7354.11   \n",
       "3 2020-01-04  BINANCE:BTCUSDT  7354.19  7495.00  7318.00  7358.75   \n",
       "4 2020-01-05  BINANCE:BTCUSDT  7357.64  7795.34  7346.76  7758.00   \n",
       "\n",
       "         volume  weighted_sentiment created_at  normalized_money  \\\n",
       "0  31951.483932            0.126772 2020-01-01         -1.732184   \n",
       "1  68428.500451            0.073418 2020-01-02         -2.153626   \n",
       "2  29987.974977            0.145800 2020-01-03         -1.508160   \n",
       "3  38331.085604            0.087736 2020-01-04         -2.642491   \n",
       "4  54635.695316            0.057072 2020-01-05         -1.754553   \n",
       "\n",
       "   weighted_sentiment_1_days_lagged  normalized_money_1_days_lagged  \\\n",
       "0                               NaN                             NaN   \n",
       "1                          0.126772                       -1.732184   \n",
       "2                          0.073418                       -2.153626   \n",
       "3                          0.145800                       -1.508160   \n",
       "4                          0.087736                       -2.642491   \n",
       "\n",
       "   close_return  \n",
       "0           NaN  \n",
       "1      0.054445  \n",
       "2      0.001246  \n",
       "3      0.000631  \n",
       "4      0.054255  "
      ]
     },
     "execution_count": 17,
     "metadata": {},
     "output_type": "execute_result"
    }
   ],
   "source": [
    "merged_df.head()"
   ]
  },
  {
   "cell_type": "code",
   "execution_count": 18,
   "metadata": {},
   "outputs": [
    {
     "data": {
      "text/plain": [
       "<AxesSubplot:ylabel='Frequency'>"
      ]
     },
     "execution_count": 18,
     "metadata": {},
     "output_type": "execute_result"
    },
    {
     "data": {
      "image/png": "[encoded data removed]",
      "text/plain": [
       "<Figure size 432x288 with 1 Axes>"
      ]
     },
     "metadata": {
      "needs_background": "light"
     },
     "output_type": "display_data"
    }
   ],
   "source": [
    "merged_df['weighted_sentiment_1_days_lagged'].plot(kind = 'hist')"
   ]
  },
  {
   "cell_type": "code",
   "execution_count": 19,
   "metadata": {},
   "outputs": [
    {
     "data": {
      "text/plain": [
       "<AxesSubplot:ylabel='Frequency'>"
      ]
     },
     "execution_count": 19,
     "metadata": {},
     "output_type": "execute_result"
    },
    {
     "data": {
      "image/png": "[encoded data removed]",
      "text/plain": [
       "<Figure size 432x288 with 1 Axes>"
      ]
     },
     "metadata": {
      "needs_background": "light"
     },
     "output_type": "display_data"
    }
   ],
   "source": [
    "merged_df['normalized_money_1_days_lagged'].plot(kind = 'hist')"
   ]
  },
  {
   "cell_type": "markdown",
   "metadata": {},
   "source": [
    "**Correlation sentiment and return on bitcoin**\n",
    "\n",
    "- We expect to observe a positive relationship between Bitcoin return and sentiment"
   ]
  },
  {
   "cell_type": "code",
   "execution_count": 20,
   "metadata": {},
   "outputs": [],
   "source": [
    "formula_1 = 'close_return ~ weighted_sentiment_1_days_lagged '\n",
    "res_1 = ols(formula_1, data= merged_df).fit()"
   ]
  },
  {
   "cell_type": "code",
   "execution_count": 21,
   "metadata": {},
   "outputs": [
    {
     "name": "stdout",
     "output_type": "stream",
     "text": [
      "                            OLS Regression Results                            \n",
      "==============================================================================\n",
      "Dep. Variable:           close_return   R-squared:                       0.006\n",
      "Model:                            OLS   Adj. R-squared:                  0.004\n",
      "Method:                 Least Squares   F-statistic:                     4.118\n",
      "Date:                Sun, 13 Mar 2022   Prob (F-statistic):             0.0428\n",
      "Time:                        15:19:57   Log-Likelihood:                 1298.3\n",
      "No. Observations:                 730   AIC:                            -2593.\n",
      "Df Residuals:                     728   BIC:                            -2583.\n",
      "Df Model:                           1                                         \n",
      "Covariance Type:            nonrobust                                         \n",
      "====================================================================================================\n",
      "                                       coef    std err          t      P>|t|      [0.025      0.975]\n",
      "----------------------------------------------------------------------------------------------------\n",
      "Intercept                           -0.0049      0.004     -1.113      0.266      -0.014       0.004\n",
      "weighted_sentiment_1_days_lagged     0.0786      0.039      2.029      0.043       0.003       0.155\n",
      "==============================================================================\n",
      "Omnibus:                      242.328   Durbin-Watson:                   2.226\n",
      "Prob(Omnibus):                  0.000   Jarque-Bera (JB):             5369.449\n",
      "Skew:                          -0.942   Prob(JB):                         0.00\n",
      "Kurtosis:                      16.152   Cond. No.                         25.9\n",
      "==============================================================================\n",
      "\n",
      "Notes:\n",
      "[1] Standard Errors assume that the covariance matrix of the errors is correctly specified.\n"
     ]
    }
   ],
   "source": [
    "print(res_1.summary())"
   ]
  },
  {
   "cell_type": "code",
   "execution_count": 22,
   "metadata": {},
   "outputs": [
    {
     "name": "stdout",
     "output_type": "stream",
     "text": [
      "\\begin{center}\n",
      "\\begin{tabular}{lclc}\n",
      "\\toprule\n",
      "\\textbf{Dep. Variable:}                       &  close\\_return   & \\textbf{  R-squared:         } &     0.006   \\\\\n",
      "\\textbf{Model:}                               &       OLS        & \\textbf{  Adj. R-squared:    } &     0.004   \\\\\n",
      "\\textbf{Method:}                              &  Least Squares   & \\textbf{  F-statistic:       } &     4.118   \\\\\n",
      "\\textbf{Date:}                                & Sun, 13 Mar 2022 & \\textbf{  Prob (F-statistic):} &   0.0428    \\\\\n",
      "\\textbf{Time:}                                &     15:20:01     & \\textbf{  Log-Likelihood:    } &    1298.3   \\\\\n",
      "\\textbf{No. Observations:}                    &         730      & \\textbf{  AIC:               } &    -2593.   \\\\\n",
      "\\textbf{Df Residuals:}                        &         728      & \\textbf{  BIC:               } &    -2583.   \\\\\n",
      "\\textbf{Df Model:}                            &           1      & \\textbf{                     } &             \\\\\n",
      "\\textbf{Covariance Type:}                     &    nonrobust     & \\textbf{                     } &             \\\\\n",
      "\\bottomrule\n",
      "\\end{tabular}\n",
      "\\begin{tabular}{lcccccc}\n",
      "                                              & \\textbf{coef} & \\textbf{std err} & \\textbf{t} & \\textbf{P$> |$t$|$} & \\textbf{[0.025} & \\textbf{0.975]}  \\\\\n",
      "\\midrule\n",
      "\\textbf{Intercept}                            &      -0.0049  &        0.004     &    -1.113  &         0.266        &       -0.014    &        0.004     \\\\\n",
      "\\textbf{weighted\\_sentiment\\_1\\_days\\_lagged} &       0.0786  &        0.039     &     2.029  &         0.043        &        0.003    &        0.155     \\\\\n",
      "\\bottomrule\n",
      "\\end{tabular}\n",
      "\\begin{tabular}{lclc}\n",
      "\\textbf{Omnibus:}       & 242.328 & \\textbf{  Durbin-Watson:     } &    2.226  \\\\\n",
      "\\textbf{Prob(Omnibus):} &   0.000 & \\textbf{  Jarque-Bera (JB):  } & 5369.449  \\\\\n",
      "\\textbf{Skew:}          &  -0.942 & \\textbf{  Prob(JB):          } &     0.00  \\\\\n",
      "\\textbf{Kurtosis:}      &  16.152 & \\textbf{  Cond. No.          } &     25.9  \\\\\n",
      "\\bottomrule\n",
      "\\end{tabular}\n",
      "%\\caption{OLS Regression Results}\n",
      "\\end{center}\n",
      "\n",
      "Notes: \\newline\n",
      " [1] Standard Errors assume that the covariance matrix of the errors is correctly specified.\n"
     ]
    }
   ],
   "source": [
    "print(res_1.summary().as_latex())"
   ]
  },
  {
   "cell_type": "code",
   "execution_count": null,
   "metadata": {},
   "outputs": [],
   "source": []
  },
  {
   "cell_type": "markdown",
   "metadata": {},
   "source": [
    "**Correlation between price opinion and bitcoin return**\n",
    "\n",
    "- We expect to observe a positive relationship with Bitcoin price opinion and Bitcoin return."
   ]
  },
  {
   "cell_type": "code",
   "execution_count": 23,
   "metadata": {},
   "outputs": [],
   "source": [
    "formula_2 = 'close_return ~ normalized_money_1_days_lagged'\n",
    "res_2 = ols(formula_2, data= merged_df).fit()"
   ]
  },
  {
   "cell_type": "code",
   "execution_count": 24,
   "metadata": {},
   "outputs": [
    {
     "name": "stdout",
     "output_type": "stream",
     "text": [
      "                            OLS Regression Results                            \n",
      "==============================================================================\n",
      "Dep. Variable:           close_return   R-squared:                       0.000\n",
      "Model:                            OLS   Adj. R-squared:                 -0.001\n",
      "Method:                 Least Squares   F-statistic:                  0.009974\n",
      "Date:                Sun, 13 Mar 2022   Prob (F-statistic):              0.920\n",
      "Time:                        15:20:43   Log-Likelihood:                 1282.9\n",
      "No. Observations:                 723   AIC:                            -2562.\n",
      "Df Residuals:                     721   BIC:                            -2553.\n",
      "Df Model:                           1                                         \n",
      "Covariance Type:            nonrobust                                         \n",
      "==================================================================================================\n",
      "                                     coef    std err          t      P>|t|      [0.025      0.975]\n",
      "--------------------------------------------------------------------------------------------------\n",
      "Intercept                          0.0032      0.002      1.844      0.066      -0.000       0.007\n",
      "normalized_money_1_days_lagged    -0.0004      0.004     -0.100      0.920      -0.009       0.008\n",
      "==============================================================================\n",
      "Omnibus:                      248.457   Durbin-Watson:                   2.226\n",
      "Prob(Omnibus):                  0.000   Jarque-Bera (JB):             5541.278\n",
      "Skew:                          -0.992   Prob(JB):                         0.00\n",
      "Kurtosis:                      16.417   Cond. No.                         2.96\n",
      "==============================================================================\n",
      "\n",
      "Notes:\n",
      "[1] Standard Errors assume that the covariance matrix of the errors is correctly specified.\n"
     ]
    }
   ],
   "source": [
    "print(res_2.summary())"
   ]
  },
  {
   "cell_type": "code",
   "execution_count": 25,
   "metadata": {},
   "outputs": [
    {
     "name": "stdout",
     "output_type": "stream",
     "text": [
      "\\begin{center}\n",
      "\\begin{tabular}{lclc}\n",
      "\\toprule\n",
      "\\textbf{Dep. Variable:}                     &  close\\_return   & \\textbf{  R-squared:         } &     0.000   \\\\\n",
      "\\textbf{Model:}                             &       OLS        & \\textbf{  Adj. R-squared:    } &    -0.001   \\\\\n",
      "\\textbf{Method:}                            &  Least Squares   & \\textbf{  F-statistic:       } &  0.009974   \\\\\n",
      "\\textbf{Date:}                              & Sun, 13 Mar 2022 & \\textbf{  Prob (F-statistic):} &    0.920    \\\\\n",
      "\\textbf{Time:}                              &     15:20:47     & \\textbf{  Log-Likelihood:    } &    1282.9   \\\\\n",
      "\\textbf{No. Observations:}                  &         723      & \\textbf{  AIC:               } &    -2562.   \\\\\n",
      "\\textbf{Df Residuals:}                      &         721      & \\textbf{  BIC:               } &    -2553.   \\\\\n",
      "\\textbf{Df Model:}                          &           1      & \\textbf{                     } &             \\\\\n",
      "\\textbf{Covariance Type:}                   &    nonrobust     & \\textbf{                     } &             \\\\\n",
      "\\bottomrule\n",
      "\\end{tabular}\n",
      "\\begin{tabular}{lcccccc}\n",
      "                                            & \\textbf{coef} & \\textbf{std err} & \\textbf{t} & \\textbf{P$> |$t$|$} & \\textbf{[0.025} & \\textbf{0.975]}  \\\\\n",
      "\\midrule\n",
      "\\textbf{Intercept}                          &       0.0032  &        0.002     &     1.844  &         0.066        &       -0.000    &        0.007     \\\\\n",
      "\\textbf{normalized\\_money\\_1\\_days\\_lagged} &      -0.0004  &        0.004     &    -0.100  &         0.920        &       -0.009    &        0.008     \\\\\n",
      "\\bottomrule\n",
      "\\end{tabular}\n",
      "\\begin{tabular}{lclc}\n",
      "\\textbf{Omnibus:}       & 248.457 & \\textbf{  Durbin-Watson:     } &    2.226  \\\\\n",
      "\\textbf{Prob(Omnibus):} &   0.000 & \\textbf{  Jarque-Bera (JB):  } & 5541.278  \\\\\n",
      "\\textbf{Skew:}          &  -0.992 & \\textbf{  Prob(JB):          } &     0.00  \\\\\n",
      "\\textbf{Kurtosis:}      &  16.417 & \\textbf{  Cond. No.          } &     2.96  \\\\\n",
      "\\bottomrule\n",
      "\\end{tabular}\n",
      "%\\caption{OLS Regression Results}\n",
      "\\end{center}\n",
      "\n",
      "Notes: \\newline\n",
      " [1] Standard Errors assume that the covariance matrix of the errors is correctly specified.\n"
     ]
    }
   ],
   "source": [
    "print(res_2.summary().as_latex())"
   ]
  },
  {
   "cell_type": "code",
   "execution_count": null,
   "metadata": {},
   "outputs": [],
   "source": []
  }
 ],
 "metadata": {
  "kernelspec": {
   "display_name": "Python 3 (ipykernel)",
   "language": "python",
   "name": "python3"
  },
  "language_info": {
   "codemirror_mode": {
    "name": "ipython",
    "version": 3
   },
   "file_extension": ".py",
   "mimetype": "text/x-python",
   "name": "python",
   "nbconvert_exporter": "python",
   "pygments_lexer": "ipython3",
   "version": "3.8.12"
  }
 },
 "nbformat": 4,
 "nbformat_minor": 2
}
