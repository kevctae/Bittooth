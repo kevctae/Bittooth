{
 "cells": [
  {
   "cell_type": "code",
   "execution_count": 1,
   "id": "6a3c1ccf",
   "metadata": {},
   "outputs": [],
   "source": [
    "import pandas as pd\n",
    "import numpy as np\n",
    "from sklearn.preprocessing import StandardScaler\n",
    "from sklearn.metrics import mean_squared_error, mean_absolute_error, r2_score\n",
    "from sklearn.linear_model import Ridge\n",
    "import datetime\n",
    "import requests\n",
    "import json\n",
    "import joblib\n",
    "from tvDatafeed import TvDatafeed, Interval"
   ]
  },
  {
   "cell_type": "code",
   "execution_count": 2,
   "id": "732ac619",
   "metadata": {},
   "outputs": [],
   "source": [
    "def getdata(name):\n",
    "    data=tv.get_hist(symbol=name,exchange='BINANCE',interval=Interval.in_daily,n_bars=10)\n",
    "    data=data.reset_index()\n",
    "    data[\"datetime\"]=data[\"datetime\"].dt.strftime('%Y-%m-%d')\n",
    "    data[\"datetime\"] = pd.to_datetime(data[\"datetime\"])\n",
    "    return data"
   ]
  },
  {
   "cell_type": "code",
   "execution_count": 3,
   "id": "cb3194cd",
   "metadata": {},
   "outputs": [],
   "source": [
    "def getapi(api):\n",
    "    response_API=requests.get(api)\n",
    "    data=response_API.text\n",
    "    parse_json=json.loads(data)\n",
    "    df = pd.json_normalize(parse_json['values'])\n",
    "    listtime=list(df['x'])\n",
    "    listtime2=[]\n",
    "    for i in listtime:\n",
    "        listtime2.append(datetime.datetime.fromtimestamp(i).strftime('%Y-%m-%d'))\n",
    "    df['datetime']=pd.Series(listtime2)\n",
    "    df[\"datetime\"] = pd.to_datetime(df[\"datetime\"])\n",
    "    df=df.drop(columns=['x'])\n",
    "    df.rename(columns={'y':'value'},inplace=True)\n",
    "    df=df.drop_duplicates(subset=['datetime'])\n",
    "    return df"
   ]
  },
  {
   "cell_type": "code",
   "execution_count": 4,
   "id": "7d92a215",
   "metadata": {},
   "outputs": [
    {
     "name": "stderr",
     "output_type": "stream",
     "text": [
      "you are using nologin method, data you access may be limited\n"
     ]
    }
   ],
   "source": [
    "tv = TvDatafeed()\n",
    "bitcoin=getdata('BTCUSDT')\n",
    "eth=getdata('ETHUSDT')\n",
    "ada=getdata('ADAUSDT')"
   ]
  },
  {
   "cell_type": "code",
   "execution_count": 5,
   "id": "76078538",
   "metadata": {},
   "outputs": [],
   "source": [
    "number_transactions=getapi('https://api.blockchain.info/charts/n-transactions?timespan=10days&rollingAverage=24hours&format=json&sampled=false')\n",
    "number_address=getapi('https://api.blockchain.info/charts/n-unique-addresses?timespan=10days&rollingAverage=24hours&format=json&sampled=false')\n",
    "transaction_second=getapi('https://api.blockchain.info/charts/transactions-per-second?timespan=10days&rollingAverage=24hours&format=json&sampled=false')\n",
    "transaction_second=transaction_second.groupby(['datetime']).mean().reset_index()\n",
    "total_bitcoin=getapi('https://api.blockchain.info/charts/total-bitcoins?timespan=10days&rollingAverage=24hours&format=json&sampled=true')\n",
    "hash_rate=getapi('https://api.blockchain.info/charts/hash-rate?timespan=10days&rollingAverage=24hours&format=json&sampled=false')"
   ]
  },
  {
   "cell_type": "code",
   "execution_count": 6,
   "id": "aa486c47",
   "metadata": {},
   "outputs": [],
   "source": [
    "bitcoin=bitcoin[[\"datetime\",\"open\",\"close\"]]"
   ]
  },
  {
   "cell_type": "code",
   "execution_count": 7,
   "id": "a5b88bd6",
   "metadata": {},
   "outputs": [],
   "source": [
    "bitcoin=bitcoin.merge(eth[[\"datetime\",\"open\"]],on='datetime',how='left',suffixes=('_bitcoin', '_eth'))\n",
    "bitcoin=bitcoin.merge(ada[[\"datetime\",\"open\"]],on='datetime',how='left')"
   ]
  },
  {
   "cell_type": "code",
   "execution_count": 8,
   "id": "c827ae56",
   "metadata": {},
   "outputs": [],
   "source": [
    "data_api=number_transactions.merge(number_address,on='datetime',how='left',suffixes=('_number_transaction', '_number_address'))\n",
    "data_api=data_api.merge(transaction_second,on='datetime',how='left')\n",
    "data_api=data_api.merge(total_bitcoin,on='datetime',how='left',suffixes=('_transaction_second', '_total_bitcoin'))\n",
    "data_api=data_api.merge(hash_rate,on='datetime',how='left')\n",
    "data_api.rename(columns={'value':'value_hash_rate'},inplace=True)"
   ]
  },
  {
   "cell_type": "code",
   "execution_count": 9,
   "id": "a2f35683",
   "metadata": {},
   "outputs": [],
   "source": [
    "bitcoin=bitcoin.merge(data_api,on='datetime',how='left')\n",
    "bitcoin.rename(columns={'open':'open_ada'},inplace=True)\n",
    "bitcoin.rename(columns={'close':'close_bitcoin'},inplace=True)"
   ]
  },
  {
   "cell_type": "code",
   "execution_count": 10,
   "id": "2b3ab16a",
   "metadata": {},
   "outputs": [],
   "source": [
    "temp=bitcoin[\"datetime\"]\n",
    "bitcoin=bitcoin.drop(columns=['datetime'])\n",
    "bitcoin=bitcoin.interpolate()\n",
    "bitcoin['datetime']=temp"
   ]
  },
  {
   "cell_type": "code",
   "execution_count": 11,
   "id": "35bb0273",
   "metadata": {},
   "outputs": [],
   "source": [
    "selected_features=['open_bitcoin', 'open_eth', 'open_ada', 'value_number_transaction',\n",
    "       'value_number_address', 'value_transaction_second',\n",
    "       'value_total_bitcoin', 'value_hash_rate']\n",
    "today=bitcoin[selected_features][-1:]\n",
    "today['weighted_sentiment']=0"
   ]
  },
  {
   "cell_type": "code",
   "execution_count": 12,
   "id": "41d3730e",
   "metadata": {},
   "outputs": [
    {
     "name": "stderr",
     "output_type": "stream",
     "text": [
      "/Users/pingping/.pyenv/versions/3.8.12/envs/bittooth/lib/python3.8/site-packages/sklearn/base.py:450: UserWarning: X does not have valid feature names, but Ridge was fitted with feature names\n",
      "  warnings.warn(\n"
     ]
    }
   ],
   "source": [
    "selected_features=['open_bitcoin', 'open_eth', 'open_ada', 'value_number_transaction',\n",
    "       'value_number_address', 'value_transaction_second',\n",
    "       'value_total_bitcoin', 'value_hash_rate', 'weighted_sentiment']\n",
    "model_from_joblib = joblib.load('savedmodel.pkl')\n",
    "scaler_from_joblib = joblib.load('savedscaler.pkl')\n",
    "today_transformed = scaler_from_joblib.transform(today).copy()\n",
    "prediction = model_from_joblib.predict(today_transformed)"
   ]
  },
  {
   "cell_type": "code",
   "execution_count": 14,
   "id": "210fb569",
   "metadata": {},
   "outputs": [
    {
     "data": {
      "text/plain": [
       "39979.53291399627"
      ]
     },
     "execution_count": 14,
     "metadata": {},
     "output_type": "execute_result"
    }
   ],
   "source": [
    "prediction[0][0]"
   ]
  }
 ],
 "metadata": {
  "kernelspec": {
   "display_name": "Python 3 (ipykernel)",
   "language": "python",
   "name": "python3"
  },
  "language_info": {
   "codemirror_mode": {
    "name": "ipython",
    "version": 3
   },
   "file_extension": ".py",
   "mimetype": "text/x-python",
   "name": "python",
   "nbconvert_exporter": "python",
   "pygments_lexer": "ipython3",
   "version": "3.8.12"
  }
 },
 "nbformat": 4,
 "nbformat_minor": 5
}
